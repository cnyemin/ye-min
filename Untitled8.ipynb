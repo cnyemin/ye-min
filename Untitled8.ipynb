{
 "cells": [
  {
   "cell_type": "code",
   "execution_count": 2,
   "metadata": {},
   "outputs": [
    {
     "name": "stdout",
     "output_type": "stream",
     "text": [
      "成功生成1000条员工数据，保存为employee_data.csv\n",
      "\n",
      "数据字段统计：\n",
      "         员工ID    姓名           年龄    性别    学历     毕业院校      专业        入职时间  \\\n",
      "count    1000  1000  1000.000000  1000  1000     1000    1000        1000   \n",
      "unique   1000   929          NaN     2     4       10      10         781   \n",
      "top     E0947   王冬梅          NaN     女    本科  哈尔滨工业大学  人力资源管理  2023-01-17   \n",
      "freq        1     6          NaN   503   688      127     107           4   \n",
      "mean      NaN   NaN    33.430000   NaN   NaN      NaN     NaN         NaN   \n",
      "std       NaN   NaN     7.014863   NaN   NaN      NaN     NaN         NaN   \n",
      "min       NaN   NaN    22.000000   NaN   NaN      NaN     NaN         NaN   \n",
      "25%       NaN   NaN    27.000000   NaN   NaN      NaN     NaN         NaN   \n",
      "50%       NaN   NaN    33.000000   NaN   NaN      NaN     NaN         NaN   \n",
      "75%       NaN   NaN    40.000000   NaN   NaN      NaN     NaN         NaN   \n",
      "max       NaN   NaN    45.000000   NaN   NaN      NaN     NaN         NaN   \n",
      "\n",
      "            工作年限(年)       绩效考核分数       项目参与数量  平均加班时长(小时/周)      创新提案数量  \\\n",
      "count   1000.000000  1000.000000  1000.000000   1000.000000  950.000000   \n",
      "unique          NaN          NaN          NaN           NaN         NaN   \n",
      "top             NaN          NaN          NaN           NaN         NaN   \n",
      "freq            NaN          NaN          NaN           NaN         NaN   \n",
      "mean       2.557900     3.471400     4.812000      8.619500    2.563158   \n",
      "std        1.441199     0.680592     2.295632      4.891764    0.811996   \n",
      "min        0.000000     1.400000     1.000000      0.000000    0.000000   \n",
      "25%        1.300000     3.000000     3.000000      6.100000    2.000000   \n",
      "50%        2.600000     3.500000     5.000000      8.100000    3.000000   \n",
      "75%        3.800000     3.900000     7.000000     10.300000    3.000000   \n",
      "max        5.000000     5.000000    10.000000     35.000000    5.000000   \n",
      "\n",
      "            客户满意度评分     基本工资(元/月)        奖金系数     五险一金缴纳比例      福利满意度评分  \\\n",
      "count   1000.000000   1000.000000  1000.00000  1000.000000  1000.000000   \n",
      "unique          NaN           NaN         NaN          NaN          NaN   \n",
      "top             NaN           NaN         NaN          NaN          NaN   \n",
      "freq            NaN           NaN         NaN          NaN          NaN   \n",
      "mean       7.218900  15097.400000     0.41313     0.099140     7.780000   \n",
      "std        1.800259   2801.892904     0.26608     0.028222     1.808555   \n",
      "min        1.000000   8500.000000     0.00000     0.050000     1.000000   \n",
      "25%        6.000000  12900.000000     0.19000     0.080000     7.000000   \n",
      "50%        7.400000  15000.000000     0.38000     0.100000     8.000000   \n",
      "75%        8.500000  17000.000000     0.61000     0.120000     9.000000   \n",
      "max       10.000000  22800.000000     1.28000     0.150000    10.000000   \n",
      "\n",
      "         培训机会(次/年)         是否流失  \n",
      "count   970.000000  1000.000000  \n",
      "unique         NaN          NaN  \n",
      "top            NaN          NaN  \n",
      "freq           NaN          NaN  \n",
      "mean      3.767010     0.286000  \n",
      "std       1.408123     0.452115  \n",
      "min       0.000000     0.000000  \n",
      "25%       3.000000     0.000000  \n",
      "50%       4.000000     0.000000  \n",
      "75%       5.000000     1.000000  \n",
      "max       8.000000     1.000000  \n",
      "\n",
      "初始流失率：28.60%\n"
     ]
    }
   ],
   "source": [
    "import pandas as pd\n",
    "import numpy as np\n",
    "import random\n",
    "from faker import Faker\n",
    "from datetime import datetime, timedelta\n",
    "\n",
    "# 初始化配置\n",
    "np.random.seed(42)  # 保证可复现性\n",
    "fake = Faker('zh_CN')  # 生成中文数据\n",
    "\n",
    "# 基础数据字典\n",
    "DEGREE = ['专科', '本科', '硕士', '博士']  # 学历分布\n",
    "DEGREE_PROB = [0.1, 0.7, 0.18, 0.02]  # 学历概率\n",
    "COMPANY = ['清华大学', '北京大学', '浙江大学', '上海交通大学', '复旦大学',\n",
    "          '南京大学', '华中科技大学', '武汉大学', '西安交通大学', '哈尔滨工业大学']\n",
    "MAJOR = ['计算机科学与技术', '软件工程', '电子信息工程', '数据科学与大数据技术',\n",
    "        '信息管理与信息系统', '市场营销', '人力资源管理', '财务管理', '统计学', '自动化']\n",
    "POSITION_SALARY = {  # 职位基础工资（元/月）\n",
    "    '开发工程师': 12000,\n",
    "    '测试工程师': 10000,\n",
    "    '产品经理': 13000,\n",
    "    'UI设计师': 11000,\n",
    "    '数据分析师': 12500,\n",
    "    '运维工程师': 11500,\n",
    "    '销售代表': 9000,\n",
    "    '市场专员': 10500,\n",
    "    '人力资源': 10000,\n",
    "    '财务': 10500\n",
    "}\n",
    "\n",
    "def generate_employee_id(n):\n",
    "    \"\"\"生成员工ID（E0001格式）\"\"\"\n",
    "    return [f'E{i:04d}' for i in range(1, n+1)]\n",
    "\n",
    "def generate_basic_info(n):\n",
    "    \"\"\"生成基本信息\"\"\"\n",
    "    data = []\n",
    "    for _ in range(n):\n",
    "        name = fake.name()\n",
    "        age = random.randint(22, 45)\n",
    "        gender = random.choice(['男', '女'])\n",
    "        degree = np.random.choice(DEGREE, p=DEGREE_PROB)\n",
    "        school = random.choice(COMPANY)\n",
    "        major = random.choice(MAJOR)\n",
    "        # 生成近5年入职时间\n",
    "        hire_date = fake.date_between(start_date='-5y', end_date='today')\n",
    "        work_years = round((datetime.now() - pd.to_datetime(hire_date)).days / 365, 1)\n",
    "        data.append([name, age, gender, degree, school, major, hire_date, work_years])\n",
    "    return data\n",
    "\n",
    "def generate_work_performance(n, work_years_list):\n",
    "    \"\"\"生成工作表现数据\"\"\"\n",
    "    performance = []\n",
    "    for wy in work_years_list:\n",
    "        # 绩效考核分数（1-5分，均值3.5）\n",
    "        perf = max(1, min(5, round(np.random.normal(3.5, 0.7), 1)))\n",
    "        # 项目参与数（工作年限*1.5±1）\n",
    "        projects = max(1, min(10, round(wy * 1.5 + np.random.normal(1, 1))))\n",
    "        # 加班时长（均值8小时，允许极端值）\n",
    "        overtime = max(0, min(30, round(np.random.normal(8, 3), 1)))\n",
    "        # 创新提案（技术岗位+3，其他+1）\n",
    "        proposal = max(0, min(20, round(3 if random.random()<0.6 else 1 + np.random.normal(1, 1))))\n",
    "        # 客户满意度（面向客户岗位均值8，其他均值7）\n",
    "        cs = max(1, min(10, round(np.random.normal(8, 1.5) if random.random()<0.3 else np.random.normal(7, 2), 1)))\n",
    "        performance.append([perf, projects, overtime, proposal, cs])\n",
    "    return performance\n",
    "\n",
    "def generate_compensation(n, work_years_list, position_list):\n",
    "    \"\"\"生成薪酬福利数据\"\"\"\n",
    "    comp = []\n",
    "    for wy, pos in zip(work_years_list, position_list):\n",
    "        # 基本工资（岗位基础+经验增长1500元/年，±15%波动）\n",
    "        base_salary = POSITION_SALARY[pos] + wy * 1500\n",
    "        base_salary = round(base_salary * (1 + np.random.uniform(-0.15, 0.15)), -2)\n",
    "        # 奖金系数（绩效/5 * 项目/10 ±20%）\n",
    "        bonus = round((np.random.normal(0.8, 0.2) * (wy/5)) * (1 + np.random.uniform(-0.2, 0.2)), 2)\n",
    "        # 五险一金比例（5%-15%）\n",
    "        insurance = round(np.random.uniform(0.05, 0.15), 2)\n",
    "        # 福利满意度（工资/15000*3 + 培训/4 + 随机波动）\n",
    "        welfare = max(1, min(10, round((base_salary/15000)*3 + np.random.normal(5, 2))))\n",
    "        # 培训机会（技术岗位年均4次，其他2次）\n",
    "        training = 4 if pos in ['开发工程师', '数据分析师'] else 2\n",
    "        training = max(0, min(12, round(training + np.random.normal(1, 1))))\n",
    "        comp.append([base_salary, bonus, insurance, welfare, training])\n",
    "    return comp\n",
    "\n",
    "def generate_churn_label(age, work_years, performance, overtime, base_salary, welfare):\n",
    "    \"\"\"计算流失概率\"\"\"\n",
    "    prob = 0.1  # 基础概率\n",
    "    # 年龄修正：25-30岁增加15%流失概率\n",
    "    if 25 <= age <= 30: prob += 0.15\n",
    "    # 工作年限：0.5-2年增加20%\n",
    "    if 0.5 <= work_years <= 2: prob += 0.2\n",
    "    # 绩效低于3分增加15%\n",
    "    if performance < 3: prob += 0.15\n",
    "    # 加班超过15小时增加15%\n",
    "    if overtime > 15: prob += 0.15\n",
    "    # 基本工资低于8000增加20%\n",
    "    if base_salary < 8000: prob += 0.2\n",
    "    # 福利满意度低于5分增加20%\n",
    "    if welfare < 5: prob += 0.2\n",
    "    # 限制概率范围并生成标签\n",
    "    return 1 if random.random() < max(0, min(1, prob)) else 0\n",
    "\n",
    "# 主生成流程\n",
    "def create_employee_data(n=1000):\n",
    "    # 生成基础数据\n",
    "    emp_id = generate_employee_id(n)\n",
    "    pos_list = np.random.choice(list(POSITION_SALARY.keys()), n, p=[0.3,0.15,0.1,0.08,0.07,0.1,0.08,0.05,0.04,0.03])  # 岗位分布\n",
    "    basic = generate_basic_info(n)\n",
    "    work_years_list = [row[7] for row in basic]\n",
    "    \n",
    "    # 生成工作表现和薪酬数据\n",
    "    performance = generate_work_performance(n, work_years_list)\n",
    "    compensation = generate_compensation(n, work_years_list, pos_list)\n",
    "    \n",
    "    # 组合数据并添加流失标签\n",
    "    data = []\n",
    "    for i in range(n):\n",
    "        # 基础信息\n",
    "        name, age, gender, degree, school, major, hire_date, wy = basic[i]\n",
    "        # 工作表现\n",
    "        perf, proj, ot, prop, cs = performance[i]\n",
    "        # 薪酬福利\n",
    "        bs, bonus, ins, welfare, train = compensation[i]\n",
    "        # 流失标签\n",
    "        churn = generate_churn_label(age, wy, perf, ot, bs, welfare)\n",
    "        data.append([\n",
    "            emp_id[i], name, age, gender, degree, school, major, \n",
    "            hire_date, wy, perf, proj, ot, prop, cs, \n",
    "            bs, bonus, ins, welfare, train, churn\n",
    "        ])\n",
    "    \n",
    "    # 构建DataFrame\n",
    "    columns = [\n",
    "        '员工ID', '姓名', '年龄', '性别', '学历', '毕业院校', '专业',\n",
    "        '入职时间', '工作年限(年)', '绩效考核分数', '项目参与数量',\n",
    "        '平均加班时长(小时/周)', '创新提案数量', '客户满意度评分',\n",
    "        '基本工资(元/月)', '奖金系数', '五险一金缴纳比例',\n",
    "        '福利满意度评分', '培训机会(次/年)', '是否流失'\n",
    "    ]\n",
    "    df = pd.DataFrame(data, columns=columns)\n",
    "    \n",
    "    # 添加缺失值（创新提案5%，培训机会3%）\n",
    "    df.loc[df.sample(frac=0.05).index, '创新提案数量'] = np.nan\n",
    "    df.loc[df.sample(frac=0.03).index, '培训机会(次/年)'] = np.nan\n",
    "    \n",
    "    # 添加异常值（加班时长超过30小时的极端值）\n",
    "    df.loc[df.sample(frac=0.02).index, '平均加班时长(小时/周)'] = 35\n",
    "    \n",
    "    return df\n",
    "\n",
    "# 生成数据\n",
    "if __name__ == \"__main__\":\n",
    "    df = create_employee_data()\n",
    "    \n",
    "    # 保存数据\n",
    "    df.to_csv('employee_data.csv', index=False, encoding='utf-8-sig')\n",
    "    print(f\"成功生成{len(df)}条员工数据，保存为employee_data.csv\")\n",
    "    \n",
    "    # 输出数据概览\n",
    "    print(\"\\n数据字段统计：\")\n",
    "    print(df.describe(include='all'))\n",
    "    print(f\"\\n初始流失率：{df['是否流失'].mean()*100:.2f}%\")"
   ]
  },
  {
   "cell_type": "code",
   "execution_count": 3,
   "metadata": {},
   "outputs": [
    {
     "name": "stdout",
     "output_type": "stream",
     "text": [
      "成功加载数据，共1000条记录\n",
      "\n",
      "缺失值检查结果：\n",
      "字段\t\t\t缺失数量\t缺失比例\n",
      "--------------------------------------------------\n",
      "创新提案数量\t\t50\t\t5.00%\n",
      "培训机会(次/年)\t\t30\t\t3.00%\n",
      "\n",
      "异常值检测结果：\n",
      "字段\t\t\t异常值数量\t异常值比例\n",
      "--------------------------------------------------\n",
      "绩效考核分数\t\t1\t\t0.10%\n",
      "  异常值范围：1.40 - 1.40\n",
      "  正常值范围：1.90 - 5.00\n",
      "平均加班时长(小时/周)\t\t20\t\t2.00%\n",
      "  异常值范围：35.00 - 35.00\n",
      "  正常值范围：0.80 - 35.00\n",
      "基本工资(元/月)\t\t0\t\t0.00%\n",
      "项目参与数量\t\t0\t\t0.00%\n",
      "创新提案数量\t\t25\t\t2.50%\n",
      "  异常值范围：0.00 - 5.00\n",
      "  正常值范围：0.00 - 4.00\n",
      "客户满意度评分\t\t7\t\t0.70%\n",
      "  异常值范围：1.00 - 1.80\n",
      "  正常值范围：2.50 - 10.00\n",
      "\n",
      "工作年限不一致记录：0\n",
      "无效学历记录：0\n",
      "\n",
      "数据分布统计：\n",
      "\n",
      "绩效考核分数 分布：\n",
      "count    1000.00\n",
      "mean        3.47\n",
      "std         0.68\n",
      "min         1.40\n",
      "25%         3.00\n",
      "50%         3.50\n",
      "75%         3.90\n",
      "max         5.00\n",
      "Name: 绩效考核分数, dtype: float64\n",
      "偏态系数：-0.09（接近0为对称分布）\n",
      "\n",
      "平均加班时长(小时/周) 分布：\n",
      "count    1000.00\n",
      "mean        8.62\n",
      "std         4.89\n",
      "min         0.00\n",
      "25%         6.10\n",
      "50%         8.10\n",
      "75%        10.30\n",
      "max        35.00\n",
      "Name: 平均加班时长(小时/周), dtype: float64\n",
      "偏态系数：3.03（接近0为对称分布）\n",
      "\n",
      "基本工资(元/月) 分布：\n",
      "count     1000.00\n",
      "mean     15097.40\n",
      "std       2801.89\n",
      "min       8500.00\n",
      "25%      12900.00\n",
      "50%      15000.00\n",
      "75%      17000.00\n",
      "max      22800.00\n",
      "Name: 基本工资(元/月), dtype: float64\n",
      "偏态系数：0.14（接近0为对称分布）\n",
      "\n",
      "项目参与数量 分布：\n",
      "count    1000.00\n",
      "mean        4.81\n",
      "std         2.30\n",
      "min         1.00\n",
      "25%         3.00\n",
      "50%         5.00\n",
      "75%         7.00\n",
      "max        10.00\n",
      "Name: 项目参与数量, dtype: float64\n",
      "偏态系数：0.04（接近0为对称分布）\n",
      "\n",
      "创新提案数量 分布：\n",
      "count    950.00\n",
      "mean       2.56\n",
      "std        0.81\n",
      "min        0.00\n",
      "25%        2.00\n",
      "50%        3.00\n",
      "75%        3.00\n",
      "max        5.00\n",
      "Name: 创新提案数量, dtype: float64\n",
      "偏态系数：-1.33（接近0为对称分布）\n",
      "\n",
      "客户满意度评分 分布：\n",
      "count    1000.00\n",
      "mean        7.22\n",
      "std         1.80\n",
      "min         1.00\n",
      "25%         6.00\n",
      "50%         7.40\n",
      "75%         8.50\n",
      "max        10.00\n",
      "Name: 客户满意度评分, dtype: float64\n",
      "偏态系数：-0.54（接近0为对称分布）\n"
     ]
    }
   ],
   "source": [
    "# 数据质量评估代码（最终修复版）\n",
    "import pandas as pd\n",
    "from datetime import datetime\n",
    "\n",
    "# 读取数据\n",
    "try:\n",
    "    df = pd.read_csv('employee_data.csv')\n",
    "    print(f\"成功加载数据，共{len(df)}条记录\")\n",
    "except FileNotFoundError:\n",
    "    print(\"错误：未找到employee_data.csv文件，请先运行数据生成脚本\")\n",
    "    exit()\n",
    "\n",
    "# 1. 缺失值检查\n",
    "missing_values = df.isnull().sum()\n",
    "missing_percentage = (missing_values / len(df)) * 100\n",
    "\n",
    "print(\"\\n缺失值检查结果：\")\n",
    "print(\"字段\\t\\t\\t缺失数量\\t缺失比例\")\n",
    "print(\"-\" * 50)\n",
    "for col in df.columns:\n",
    "    if missing_values[col] > 0:\n",
    "        print(f\"{col}\\t\\t{missing_values[col]}\\t\\t{missing_percentage[col]:.2f}%\")\n",
    "\n",
    "# 2. 异常值检测（基于Z-score）\n",
    "continuous_vars = ['绩效考核分数', '平均加班时长(小时/周)', '基本工资(元/月)', \n",
    "                  '项目参与数量', '创新提案数量', '客户满意度评分']\n",
    "\n",
    "print(\"\\n异常值检测结果：\")\n",
    "print(\"字段\\t\\t\\t异常值数量\\t异常值比例\")\n",
    "print(\"-\" * 50)\n",
    "\n",
    "# 存储异常值统计结果\n",
    "outlier_stats = {}\n",
    "\n",
    "for var in continuous_vars:\n",
    "    # 计算Z-score\n",
    "    mean = df[var].mean()\n",
    "    std = df[var].std()\n",
    "    if std == 0:  # 防止除零错误\n",
    "        continue\n",
    "    \n",
    "    z_score_col = f'{var}_zscore'\n",
    "    df[z_score_col] = (df[var] - mean) / std\n",
    "    \n",
    "    # 识别异常值（Z-score > 3或<-3）\n",
    "    outliers = df[abs(df[z_score_col]) > 3]\n",
    "    outlier_percentage = (len(outliers) / len(df)) * 100\n",
    "    \n",
    "    # 存储统计结果\n",
    "    outlier_stats[var] = {\n",
    "        'count': len(outliers),\n",
    "        'percentage': outlier_percentage,\n",
    "        'min': outliers[var].min() if len(outliers) > 0 else float('nan'),\n",
    "        'max': outliers[var].max() if len(outliers) > 0 else float('nan'),\n",
    "        'normal_min': df[var].quantile(0.01),\n",
    "        'normal_max': df[var].quantile(0.99)\n",
    "    }\n",
    "    \n",
    "    # 打印结果\n",
    "    print(f\"{var}\\t\\t{len(outliers)}\\t\\t{outlier_percentage:.2f}%\")\n",
    "    if len(outliers) > 0:\n",
    "        print(f\"  异常值范围：{outliers[var].min():.2f} - {outliers[var].max():.2f}\")\n",
    "        print(f\"  正常值范围：{df[var].quantile(0.01):.2f} - {df[var].quantile(0.99):.2f}\")\n",
    "\n",
    "# 3. 数据一致性检查\n",
    "# 检查工作年限是否计算正确\n",
    "df['入职至今(年)'] = ((datetime.now() - pd.to_datetime(df['入职时间'])).dt.days / 365).round(1)\n",
    "inconsistent_years = df[df['工作年限(年)'] > df['入职至今(年)']]\n",
    "\n",
    "# 检查学历与毕业院校/专业是否匹配\n",
    "valid_degree = df['学历'].isin(['专科', '本科', '硕士', '博士'])\n",
    "\n",
    "print(f\"\\n工作年限不一致记录：{len(inconsistent_years)}\")\n",
    "print(f\"无效学历记录：{len(df[~valid_degree])}\")\n",
    "\n",
    "# 4. 数据分布分析\n",
    "print(\"\\n数据分布统计：\")\n",
    "for var in continuous_vars:\n",
    "    print(f\"\\n{var} 分布：\")\n",
    "    print(df[var].describe().round(2))\n",
    "    \n",
    "    # 检查是否有明显的偏态\n",
    "    skewness = df[var].skew()\n",
    "    print(f\"偏态系数：{skewness:.2f}（接近0为对称分布）\")\n",
    "\n",
    "# 5. 保存评估结果\n",
    "with open('data_quality_assessment.txt', 'w', encoding='utf-8') as f:\n",
    "    f.write(\"数据质量评估报告\\n\")\n",
    "    f.write(\"=\" * 50 + \"\\n\\n\")\n",
    "    \n",
    "    f.write(\"1. 缺失值检查结果\\n\")\n",
    "    f.write(\"-\" * 50 + \"\\n\")\n",
    "    # 只遍历原始列，避免新添加的Z-score列\n",
    "    for col in pd.read_csv('employee_data.csv').columns:\n",
    "        if missing_values[col] > 0:\n",
    "            f.write(f\"{col}\\t\\t{missing_values[col]}\\t\\t{missing_percentage[col]:.2f}%\\n\")\n",
    "    \n",
    "    f.write(\"\\n2. 异常值检测结果\\n\")\n",
    "    f.write(\"-\" * 50 + \"\\n\")\n",
    "    for var in continuous_vars:\n",
    "        if var in outlier_stats:\n",
    "            stats = outlier_stats[var]\n",
    "            f.write(f\"{var}\\t\\t{stats['count']}\\t\\t{stats['percentage']:.2f}%\\n\")\n",
    "            if stats['count'] > 0:\n",
    "                f.write(f\"  异常值范围：{stats['min']:.2f} - {stats['max']:.2f}\\n\")\n",
    "                f.write(f\"  正常值范围：{stats['normal_min']:.2f} - {stats['normal_max']:.2f}\\n\")\n",
    "    \n",
    "    f.write(\"\\n3. 数据一致性检查结果\\n\")\n",
    "    f.write(\"-\" * 50 + \"\\n\")\n",
    "    f.write(f\"工作年限不一致记录：{len(inconsistent_years)}\\n\")\n",
    "    f.write(f\"无效学历记录：{len(df[~valid_degree])}\\n\")\n",
    "    \n",
    "    f.write(\"\\n4. 数据分布统计\\n\")\n",
    "    f.write(\"-\" * 50 + \"\\n\")\n",
    "    for var in continuous_vars:\n",
    "        f.write(f\"\\n{var} 分布：\\n\")\n",
    "        f.write(f\"{df[var].describe().round(2)}\\n\")\n",
    "        f.write(f\"偏态系数：{df[var].skew():.2f}\\n\")"
   ]
  },
  {
   "cell_type": "code",
   "execution_count": 4,
   "metadata": {},
   "outputs": [
    {
     "name": "stdout",
     "output_type": "stream",
     "text": [
      "成功加载数据，共1000条记录\n",
      "创新提案数量缺失值填充完成，填充值：2.56\n",
      "培训机会(次/年)缺失值填充完成，填充值：3.77\n",
      "平均加班时长(小时/周)异常值处理完成，截断上限：23.29\n",
      "绩效考核分数标准化完成，均值: 0.0000, 标准差: 1.0000\n",
      "基本工资(元/月)标准化完成，均值: 0.0000, 标准差: 1.0000\n",
      "奖金系数标准化完成，均值: -0.0000, 标准差: 1.0000\n",
      "五险一金缴纳比例标准化完成，均值: 0.0000, 标准差: 1.0000\n",
      "福利满意度评分标准化完成，均值: -0.0000, 标准差: 1.0000\n",
      "培训机会(次/年)标准化完成，均值: 0.0000, 标准差: 1.0000\n",
      "清洗后的数据已保存至：employee_data_cleaned.csv\n",
      "\n",
      "数据清洗前后统计对比：\n",
      "\n",
      "缺失值数量对比：\n",
      "创新提案数量: 清洗前50 → 清洗后0\n",
      "培训机会(次/年): 清洗前30 → 清洗后0\n",
      "\n",
      "连续型变量标准化效果：\n",
      "绩效考核分数: 均值 3.47 → 0.0, 标准差 0.68 → 1.0\n",
      "基本工资(元/月): 均值 15097.4 → 0.0, 标准差 2801.89 → 1.0\n",
      "奖金系数: 均值 0.41 → -0.0, 标准差 0.27 → 1.0\n",
      "五险一金缴纳比例: 均值 0.1 → 0.0, 标准差 0.03 → 1.0\n",
      "福利满意度评分: 均值 7.78 → -0.0, 标准差 1.81 → 1.0\n",
      "培训机会(次/年): 均值 培训机会(次/年)    3.77\n",
      "培训机会(次/年)    3.77\n",
      "Name: mean, dtype: float64 → 培训机会(次/年)    0.0\n",
      "培训机会(次/年)    0.0\n",
      "Name: mean, dtype: float64, 标准差 培训机会(次/年)    1.41\n",
      "培训机会(次/年)    1.41\n",
      "Name: std, dtype: float64 → 培训机会(次/年)    1.0\n",
      "培训机会(次/年)    1.0\n",
      "Name: std, dtype: float64\n",
      "\n",
      "平均加班时长异常值处理效果：\n",
      "平均加班时长最大值: 35.0 → 23.29\n"
     ]
    }
   ],
   "source": [
    "# 数据清洗代码（修复索引错误）\n",
    "import pandas as pd\n",
    "import numpy as np\n",
    "\n",
    "# 读取数据\n",
    "try:\n",
    "    df = pd.read_csv('employee_data.csv')\n",
    "    print(f\"成功加载数据，共{len(df)}条记录\")\n",
    "except FileNotFoundError:\n",
    "    print(\"错误：未找到employee_data.csv文件，请先运行数据生成脚本\")\n",
    "    exit()\n",
    "\n",
    "# 1. 缺失值处理（均值填充）\n",
    "missing_cols = ['创新提案数量', '培训机会(次/年)']\n",
    "for col in missing_cols:\n",
    "    mean_val = df[col].mean()\n",
    "    df[col].fillna(mean_val, inplace=True)\n",
    "    print(f\"{col}缺失值填充完成，填充值：{mean_val:.2f}\")\n",
    "\n",
    "# 2. 异常值处理（Z-score方法）\n",
    "def winsorize_by_zscore(series, threshold=3):\n",
    "    mean = series.mean()\n",
    "    std = series.std()\n",
    "    upper_limit = mean + threshold * std\n",
    "    \n",
    "    # 只处理上限异常（如加班时长只有上限异常）\n",
    "    series = series.clip(upper=upper_limit)\n",
    "    return series, upper_limit\n",
    "\n",
    "# 处理平均加班时长异常值\n",
    "col = '平均加班时长(小时/周)'\n",
    "df[col], upper_limit = winsorize_by_zscore(df[col])\n",
    "print(f\"{col}异常值处理完成，截断上限：{upper_limit:.2f}\")\n",
    "\n",
    "# 3. 数据标准化（手动实现）\n",
    "continuous_cols = [\n",
    "    '绩效考核分数', '基本工资(元/月)', '奖金系数', \n",
    "    '五险一金缴纳比例', '福利满意度评分', '培训机会(次/年)'\n",
    "]\n",
    "\n",
    "# 手动实现 StandardScaler\n",
    "for col in continuous_cols:\n",
    "    mean = df[col].mean()\n",
    "    std = df[col].std()\n",
    "    if std != 0:  # 防止除零错误\n",
    "        df[col] = (df[col] - mean) / std\n",
    "    else:\n",
    "        df[col] = 0  # 如果标准差为0，全部设为0\n",
    "    print(f\"{col}标准化完成，均值: {df[col].mean():.4f}, 标准差: {df[col].std():.4f}\")\n",
    "\n",
    "# 保存清洗后的数据\n",
    "cleaned_file = 'employee_data_cleaned.csv'\n",
    "df.to_csv(cleaned_file, index=False, encoding='utf-8-sig')\n",
    "print(f\"清洗后的数据已保存至：{cleaned_file}\")\n",
    "\n",
    "# 输出清洗前后的数据统计对比\n",
    "print(\"\\n数据清洗前后统计对比：\")\n",
    "stats_before = pd.read_csv('employee_data.csv')[continuous_cols + missing_cols + ['平均加班时长(小时/周)']].describe()\n",
    "stats_after = df[continuous_cols + missing_cols + ['平均加班时长(小时/周)']].describe()\n",
    "\n",
    "print(\"\\n缺失值数量对比：\")\n",
    "for col in missing_cols:\n",
    "    missing_before = pd.read_csv('employee_data.csv')[col].isnull().sum()\n",
    "    missing_after = df[col].isnull().sum()\n",
    "    print(f\"{col}: 清洗前{missing_before} → 清洗后{missing_after}\")\n",
    "\n",
    "print(\"\\n连续型变量标准化效果：\")\n",
    "for col in continuous_cols:\n",
    "    # 修正：使用正确的索引方式\n",
    "    mean_before = stats_before.loc['mean', col]\n",
    "    std_before = stats_before.loc['std', col]\n",
    "    mean_after = stats_after.loc['mean', col]\n",
    "    std_after = stats_after.loc['std', col]\n",
    "    \n",
    "    # 使用round()确保数值精度\n",
    "    print(f\"{col}: 均值 {round(mean_before, 2)} → {round(mean_after, 2)}, 标准差 {round(std_before, 2)} → {round(std_after, 2)}\")\n",
    "\n",
    "print(\"\\n平均加班时长异常值处理效果：\")\n",
    "max_before = stats_before.loc['max', '平均加班时长(小时/周)']\n",
    "max_after = stats_after.loc['max', '平均加班时长(小时/周)']\n",
    "print(f\"平均加班时长最大值: {round(max_before, 2)} → {round(max_after, 2)}\")"
   ]
  },
  {
   "cell_type": "code",
   "execution_count": 5,
   "metadata": {},
   "outputs": [
    {
     "name": "stdout",
     "output_type": "stream",
     "text": [
      "成功加载原始数据，共1000条记录\n",
      "\n",
      "一、员工流失率统计\n",
      "- 总员工数量：1000人\n",
      "- 流失员工数量：286人\n",
      "- 流失率：28.6%\n",
      "\n",
      "二、员工基本信息分布\n",
      "\n",
      "1. 年龄分布\n",
      "| 25岁以下 | 175 | 17.5% |\n",
      "| 25-30岁 | 205 | 20.6% |\n",
      "| 31-35岁 | 204 | 20.4% |\n",
      "| 36岁以上 | 415 | 41.5% |\n",
      "\n",
      "2. 性别分布\n",
      "| 女 | 503 | 50.3% |\n",
      "| 男 | 497 | 49.7% |\n",
      "\n",
      "3. 学历分布\n",
      "警告：学历编码与假设不符，将使用原始值\n",
      "| 本科 | 688 | 68.8% |\n",
      "| 硕士 | 178 | 17.8% |\n",
      "| 专科 | 108 | 10.8% |\n",
      "| 博士 | 26 | 2.6% |\n",
      "\n",
      "三、工作表现与流失关系\n",
      "\n",
      "1. 绩效考核分数对比\n",
      "| 员工类型 | 平均分数 | 标准差 |\n",
      "| 未流失员工 | 3.5 | 0.7 |\n",
      "| 流失员工 | 3.4 | 0.7 |\n",
      "\n",
      "2. 平均加班时长对比\n",
      "| 员工类型 | 平均时长（小时/周） | 标准差 |\n",
      "| 未流失员工 | 8.6 | 4.9 |\n",
      "| 流失员工 | 8.7 | 4.8 |\n",
      "\n",
      "四、薪酬福利与流失关系\n",
      "\n",
      "1. 基本工资对比\n",
      "| 员工类型 | 平均工资（元/月） | 标准差 |\n",
      "| 未流失员工 | 15252 | 2844 |\n",
      "| 流失员工 | 14712 | 2661 |\n",
      "\n",
      "2. 福利满意度评分对比\n",
      "| 员工类型 | 平均分数 | 标准差 |\n",
      "| 未流失员工 | 7.9 | 1.8 |\n",
      "| 流失员工 | 7.6 | 1.9 |\n"
     ]
    }
   ],
   "source": [
    "import pandas as pd\n",
    "\n",
    "# 读取原始数据（使用未标准化的原始数据进行分析）\n",
    "try:\n",
    "    df_original = pd.read_csv('employee_data.csv')\n",
    "    print(f\"成功加载原始数据，共{len(df_original)}条记录\")\n",
    "except FileNotFoundError:\n",
    "    print(\"错误：未找到employee_data.csv文件，请先运行数据生成脚本\")\n",
    "    exit()\n",
    "\n",
    "# 检查是否存在'是否流失'列\n",
    "if '是否流失' not in df_original.columns:\n",
    "    print(\"错误：数据集中未找到'是否流失'列，请确认数据生成是否正确\")\n",
    "    exit()\n",
    "\n",
    "# 1. 员工流失率统计\n",
    "total_employees = len(df_original)\n",
    "churned_employees = len(df_original[df_original['是否流失'] == 1])\n",
    "churn_rate = churned_employees / total_employees * 100\n",
    "\n",
    "print(\"\\n一、员工流失率统计\")\n",
    "print(f\"- 总员工数量：{total_employees}人\")\n",
    "print(f\"- 流失员工数量：{churned_employees}人\")\n",
    "print(f\"- 流失率：{churn_rate:.1f}%\")\n",
    "\n",
    "# 2. 基本信息分布\n",
    "print(\"\\n二、员工基本信息分布\")\n",
    "\n",
    "# 年龄分布（调整为用户要求的分布）\n",
    "age_bins = [0, 25, 30, 35, 100]\n",
    "age_labels = ['25岁以下', '25-30岁', '31-35岁', '36岁以上']\n",
    "df_original['年龄区间'] = pd.cut(df_original['年龄'], bins=age_bins, labels=age_labels)\n",
    "age_distribution = df_original['年龄区间'].value_counts(normalize=True).sort_index() * 100\n",
    "\n",
    "print(\"\\n1. 年龄分布\")\n",
    "for label, percent in age_distribution.items():\n",
    "    count = int(percent * total_employees / 100)\n",
    "    print(f\"| {label} | {count} | {percent:.1f}% |\")\n",
    "\n",
    "# 性别分布\n",
    "gender_distribution = df_original['性别'].value_counts(normalize=True) * 100\n",
    "\n",
    "print(\"\\n2. 性别分布\")\n",
    "# 动态判断性别编码方式\n",
    "if set(df_original['性别'].unique()) == {0, 1}:\n",
    "    gender_map = {0: '女', 1: '男'}\n",
    "elif set(df_original['性别'].unique()) == {'女', '男'}:\n",
    "    gender_map = {'女': '女', '男': '男'}\n",
    "else:\n",
    "    print(\"警告：无法识别性别编码方式，将使用原始值\")\n",
    "    gender_map = {code: code for code in df_original['性别'].unique()}\n",
    "\n",
    "for code, percent in gender_distribution.items():\n",
    "    count = int(percent * total_employees / 100)\n",
    "    print(f\"| {gender_map[code]} | {count} | {percent:.1f}% |\")\n",
    "\n",
    "# 学历分布\n",
    "education_distribution = df_original['学历'].value_counts(normalize=True) * 100\n",
    "\n",
    "print(\"\\n3. 学历分布\")\n",
    "# 假设学历编码：0=专科及以下，1=本科，2=硕士，3=博士及以上\n",
    "education_map = {0: '专科及以下', 1: '本科', 2: '硕士', 3: '博士及以上'}\n",
    "# 检查实际学历值是否符合假设\n",
    "actual_education = set(df_original['学历'].unique())\n",
    "if actual_education != {0, 1, 2, 3}:\n",
    "    print(\"警告：学历编码与假设不符，将使用原始值\")\n",
    "    education_map = {code: code for code in actual_education}\n",
    "\n",
    "for code, percent in education_distribution.items():\n",
    "    count = int(percent * total_employees / 100)\n",
    "    print(f\"| {education_map[code]} | {count} | {percent:.1f}% |\")\n",
    "\n",
    "# 3. 工作表现与流失关系（使用原始数据）\n",
    "print(\"\\n三、工作表现与流失关系\")\n",
    "\n",
    "# 按流失状态分组计算平均绩效和加班时长\n",
    "churn_groups = df_original.groupby('是否流失')\n",
    "\n",
    "print(\"\\n1. 绩效考核分数对比\")\n",
    "print(f\"| 员工类型 | 平均分数 | 标准差 |\")\n",
    "for churn_status, group in churn_groups:\n",
    "    churn_label = '流失员工' if churn_status == 1 else '未流失员工'\n",
    "    mean_score = group['绩效考核分数'].mean()\n",
    "    std_score = group['绩效考核分数'].std()\n",
    "    print(f\"| {churn_label} | {mean_score:.1f} | {std_score:.1f} |\")\n",
    "\n",
    "print(\"\\n2. 平均加班时长对比\")\n",
    "print(f\"| 员工类型 | 平均时长（小时/周） | 标准差 |\")\n",
    "for churn_status, group in churn_groups:\n",
    "    churn_label = '流失员工' if churn_status == 1 else '未流失员工'\n",
    "    mean_overtime = group['平均加班时长(小时/周)'].mean()\n",
    "    std_overtime = group['平均加班时长(小时/周)'].std()\n",
    "    print(f\"| {churn_label} | {mean_overtime:.1f} | {std_overtime:.1f} |\")\n",
    "\n",
    "# 4. 薪酬福利与流失关系（使用原始数据）\n",
    "print(\"\\n四、薪酬福利与流失关系\")\n",
    "\n",
    "print(\"\\n1. 基本工资对比\")\n",
    "print(f\"| 员工类型 | 平均工资（元/月） | 标准差 |\")\n",
    "for churn_status, group in churn_groups:\n",
    "    churn_label = '流失员工' if churn_status == 1 else '未流失员工'\n",
    "    mean_salary = group['基本工资(元/月)'].mean()\n",
    "    std_salary = group['基本工资(元/月)'].std()\n",
    "    print(f\"| {churn_label} | {mean_salary:.0f} | {std_salary:.0f} |\")\n",
    "\n",
    "print(\"\\n2. 福利满意度评分对比\")\n",
    "print(f\"| 员工类型 | 平均分数 | 标准差 |\")\n",
    "for churn_status, group in churn_groups:\n",
    "    churn_label = '流失员工' if churn_status == 1 else '未流失员工'\n",
    "    mean_benefits = group['福利满意度评分'].mean()\n",
    "    std_benefits = group['福利满意度评分'].std()\n",
    "    print(f\"| {churn_label} | {mean_benefits:.1f} | {std_benefits:.1f} |\")"
   ]
  },
  {
   "cell_type": "code",
   "execution_count": 6,
   "metadata": {},
   "outputs": [
    {
     "name": "stdout",
     "output_type": "stream",
     "text": [
      "成功加载数据，共1000条记录\n",
      "\n",
      "=== 一、数据探索 ===\n",
      "\n",
      "1. 描述性统计：\n",
      "            年龄  工作年限(年)   绩效考核分数   项目参与数量  平均加班时长(小时/周)   创新提案数量  客户满意度评分  \\\n",
      "count  1000.00  1000.00  1000.00  1000.00       1000.00  1000.00  1000.00   \n",
      "mean     33.43     2.56     0.00     4.81          8.39     2.56     7.22   \n",
      "std       7.01     1.44     1.00     2.30          3.78     0.79     1.80   \n",
      "min      22.00     0.00    -3.04     1.00          0.00     0.00     1.00   \n",
      "25%      27.00     1.30    -0.69     3.00          6.10     2.00     6.00   \n",
      "50%      33.00     2.60     0.04     5.00          8.10     3.00     7.40   \n",
      "75%      40.00     3.80     0.63     7.00         10.30     3.00     8.50   \n",
      "max      45.00     5.00     2.25    10.00         23.29     5.00    10.00   \n",
      "\n",
      "       基本工资(元/月)     奖金系数  五险一金缴纳比例  福利满意度评分  培训机会(次/年)     是否流失  \n",
      "count    1000.00  1000.00   1000.00  1000.00    1000.00  1000.00  \n",
      "mean        0.00    -0.00      0.00    -0.00       0.00     0.29  \n",
      "std         1.00     1.00      1.00     1.00       1.00     0.45  \n",
      "min        -2.35    -1.55     -1.74    -3.75      -2.72     0.00  \n",
      "25%        -0.78    -0.84     -0.68    -0.43      -0.55     0.00  \n",
      "50%        -0.03    -0.12      0.03     0.12       0.17     0.00  \n",
      "75%         0.68     0.74      0.74     0.67       0.89     1.00  \n",
      "max         2.75     3.26      1.80     1.23       3.05     1.00  \n",
      "\n",
      "2. 缺失值检查：\n",
      "Series([], dtype: int64)\n",
      "\n",
      "3. 流失率：28.60%\n",
      "\n",
      "4. 相关性分析：\n",
      "是否流失            1.00\n",
      "平均加班时长(小时/周)    0.02\n",
      "五险一金缴纳比例        0.01\n",
      "培训机会(次/年)      -0.00\n",
      "创新提案数量         -0.02\n",
      "客户满意度评分        -0.05\n",
      "福利满意度评分        -0.06\n",
      "年龄             -0.07\n",
      "基本工资(元/月)      -0.09\n",
      "奖金系数           -0.10\n",
      "绩效考核分数         -0.10\n",
      "项目参与数量         -0.11\n",
      "工作年限(年)        -0.11\n",
      "Name: 是否流失, dtype: float64\n",
      "\n",
      "5. 流失与未流失员工特征对比：\n",
      "\n",
      "- 绩效考核分数对比：\n",
      "流失员工平均分数：-0.17\n",
      "未流失员工平均分数：0.07\n",
      "\n",
      "- 平均加班时长对比：\n",
      "流失员工平均加班时长：8.52小时/周\n",
      "未流失员工平均加班时长：8.33小时/周\n",
      "\n",
      "- 基本工资对比：\n",
      "流失员工平均基本工资：-0.14元/月\n",
      "未流失员工平均基本工资：0.06元/月\n",
      "\n",
      "- 福利满意度评分对比：\n",
      "流失员工平均福利满意度：-0.10\n",
      "未流失员工平均福利满意度：0.04\n",
      "\n",
      "=== 二、特征工程 ===\n",
      "\n",
      "1. 手动编码分类特征：\n",
      "- 处理列: 性别\n",
      "  映射关系: {'男': 0, '女': 1}\n",
      "- 处理列: 学历\n",
      "  映射关系: {'本科': 0, '硕士': 1, '博士': 2, '专科': 3}\n",
      "\n",
      "2. 手动标准化数值特征：\n",
      "- 标准化列: 年龄 (均值: 33.43, 标准差: 7.01)\n",
      "- 标准化列: 性别 (均值: 0.50, 标准差: 0.50)\n",
      "- 标准化列: 学历 (均值: 0.55, 标准差: 0.97)\n",
      "- 标准化列: 工作年限(年) (均值: 2.56, 标准差: 1.44)\n",
      "- 标准化列: 绩效考核分数 (均值: 0.00, 标准差: 1.00)\n",
      "- 标准化列: 项目参与数量 (均值: 4.81, 标准差: 2.30)\n",
      "- 标准化列: 平均加班时长(小时/周) (均值: 8.39, 标准差: 3.78)\n",
      "- 标准化列: 创新提案数量 (均值: 2.56, 标准差: 0.79)\n",
      "- 标准化列: 客户满意度评分 (均值: 7.22, 标准差: 1.80)\n",
      "- 标准化列: 基本工资(元/月) (均值: 0.00, 标准差: 1.00)\n",
      "- 标准化列: 奖金系数 (均值: -0.00, 标准差: 1.00)\n",
      "- 标准化列: 五险一金缴纳比例 (均值: 0.00, 标准差: 1.00)\n",
      "- 标准化列: 福利满意度评分 (均值: -0.00, 标准差: 1.00)\n",
      "- 标准化列: 培训机会(次/年) (均值: 0.00, 标准差: 1.00)\n",
      "\n",
      "3. 特征重要性评估（基于相关性）：\n",
      "工作年限(年)         0.114695\n",
      "项目参与数量          0.106314\n",
      "绩效考核分数          0.104816\n",
      "奖金系数            0.095235\n",
      "基本工资(元/月)       0.087124\n",
      "年龄              0.068799\n",
      "福利满意度评分         0.062532\n",
      "客户满意度评分         0.054858\n",
      "创新提案数量          0.023235\n",
      "平均加班时长(小时/周)    0.022666\n",
      "五险一金缴纳比例        0.013804\n",
      "性别              0.008223\n",
      "培训机会(次/年)       0.003186\n",
      "学历              0.001264\n",
      "Name: 是否流失, dtype: float64\n",
      "\n",
      "=== 三、模型构建与评估（基于统计规则） ===\n",
      "\n",
      "1. 划分训练集和测试集：\n",
      "训练集大小: 800\n",
      "测试集大小: 200\n",
      "\n",
      "2. 基于统计规则的预测模型：\n",
      "\n",
      "3. 模型评估：\n",
      "\n",
      "准确率: 0.6850\n",
      "精确率: 0.3714\n",
      "召回率: 0.2407\n",
      "F1分数: 0.2921\n",
      "\n",
      "4. 混淆矩阵:\n",
      "           预测流失   预测不流失\n",
      "实际流失     13         41\n",
      "实际不流失   22         124\n",
      "\n",
      "5. 关键特征分析：\n",
      "- 绩效考核分数: 低分与流失正相关\n",
      "- 福利满意度评分: 低分与流失正相关\n",
      "- 平均加班时长: 高分与流失正相关\n",
      "- 基本工资: 低工资与流失正相关\n"
     ]
    },
    {
     "name": "stderr",
     "output_type": "stream",
     "text": [
      "D:\\anaconda\\lib\\site-packages\\ipykernel_launcher.py:119: SettingWithCopyWarning:\n",
      "\n",
      "\n",
      "A value is trying to be set on a copy of a slice from a DataFrame.\n",
      "Try using .loc[row_indexer,col_indexer] = value instead\n",
      "\n",
      "See the caveats in the documentation: https://pandas.pydata.org/pandas-docs/stable/user_guide/indexing.html#returning-a-view-versus-a-copy\n",
      "\n"
     ]
    }
   ],
   "source": [
    "import pandas as pd\n",
    "import numpy as np\n",
    "from collections import Counter\n",
    "\n",
    "# 读取数据\n",
    "try:\n",
    "    df = pd.read_csv('employee_data_cleaned.csv')\n",
    "    print(f\"成功加载数据，共{len(df)}条记录\")\n",
    "except FileNotFoundError:\n",
    "    print(\"错误：未找到employee_data_analyzed.csv文件，请先运行数据生成脚本\")\n",
    "    exit()\n",
    "\n",
    "# 一、数据探索\n",
    "print(\"\\n=== 一、数据探索 ===\")\n",
    "\n",
    "# 1. 描述性统计\n",
    "print(\"\\n1. 描述性统计：\")\n",
    "print(df.describe().round(2))\n",
    "\n",
    "# 2. 缺失值检查\n",
    "print(\"\\n2. 缺失值检查：\")\n",
    "missing_values = df.isnull().sum()\n",
    "print(missing_values[missing_values > 0])\n",
    "\n",
    "# 3. 流失率分布\n",
    "churn_rate = df['是否流失'].mean() * 100\n",
    "print(f\"\\n3. 流失率：{churn_rate:.2f}%\")\n",
    "\n",
    "# 4. 相关性分析（使用纯pandas实现）\n",
    "print(\"\\n4. 相关性分析：\")\n",
    "numeric_cols = df.select_dtypes(include=['int64', 'float64']).columns\n",
    "correlation = df[numeric_cols].corr()\n",
    "print(correlation['是否流失'].sort_values(ascending=False).round(2))\n",
    "\n",
    "# 5. 分组统计（手动实现类似sklearn的分组功能）\n",
    "print(\"\\n5. 流失与未流失员工特征对比：\")\n",
    "churned = df[df['是否流失'] == 1]\n",
    "not_churned = df[df['是否流失'] == 0]\n",
    "\n",
    "print(\"\\n- 绩效考核分数对比：\")\n",
    "print(f\"流失员工平均分数：{churned['绩效考核分数'].mean():.2f}\")\n",
    "print(f\"未流失员工平均分数：{not_churned['绩效考核分数'].mean():.2f}\")\n",
    "\n",
    "print(\"\\n- 平均加班时长对比：\")\n",
    "print(f\"流失员工平均加班时长：{churned['平均加班时长(小时/周)'].mean():.2f}小时/周\")\n",
    "print(f\"未流失员工平均加班时长：{not_churned['平均加班时长(小时/周)'].mean():.2f}小时/周\")\n",
    "\n",
    "print(\"\\n- 基本工资对比：\")\n",
    "print(f\"流失员工平均基本工资：{churned['基本工资(元/月)'].mean():.2f}元/月\")\n",
    "print(f\"未流失员工平均基本工资：{not_churned['基本工资(元/月)'].mean():.2f}元/月\")\n",
    "\n",
    "print(\"\\n- 福利满意度评分对比：\")\n",
    "print(f\"流失员工平均福利满意度：{churned['福利满意度评分'].mean():.2f}\")\n",
    "print(f\"未流失员工平均福利满意度：{not_churned['福利满意度评分'].mean():.2f}\")\n",
    "\n",
    "# 二、特征工程（不使用sklearn的简化版）\n",
    "print(\"\\n=== 二、特征工程 ===\")\n",
    "\n",
    "# 1. 数据预处理\n",
    "# 移除无关列\n",
    "df_processed = df.drop(['员工ID', '姓名', '毕业院校', '专业', '入职时间'], axis=1)\n",
    "\n",
    "# 2. 处理缺失值（使用中位数填充）\n",
    "for col in df_processed.columns:\n",
    "    if df_processed[col].isnull().any():\n",
    "        median = df_processed[col].median()\n",
    "        df_processed[col].fillna(median, inplace=True)\n",
    "\n",
    "# 3. 手动实现分类型特征编码（使用映射而非独热编码）\n",
    "print(\"\\n1. 手动编码分类特征：\")\n",
    "for col in df_processed.select_dtypes(include=['object']).columns:\n",
    "    print(f\"- 处理列: {col}\")\n",
    "    unique_values = df_processed[col].unique()\n",
    "    value_map = {v: i for i, v in enumerate(unique_values)}\n",
    "    df_processed[col] = df_processed[col].map(value_map)\n",
    "    print(f\"  映射关系: {value_map}\")\n",
    "\n",
    "# 4. 手动实现特征标准化（Z-score）\n",
    "print(\"\\n2. 手动标准化数值特征：\")\n",
    "numeric_cols = df_processed.select_dtypes(include=['int64', 'float64']).drop('是否流失', axis=1).columns\n",
    "for col in numeric_cols:\n",
    "    mean = df_processed[col].mean()\n",
    "    std = df_processed[col].std()\n",
    "    df_processed[col] = (df_processed[col] - mean) / std\n",
    "    print(f\"- 标准化列: {col} (均值: {mean:.2f}, 标准差: {std:.2f})\")\n",
    "\n",
    "# 5. 手动实现特征重要性评估（基于相关性）\n",
    "print(\"\\n3. 特征重要性评估（基于相关性）：\")\n",
    "corr_importance = df_processed.corr()['是否流失'].abs().sort_values(ascending=False)\n",
    "print(corr_importance[1:])  # 排除目标变量自身\n",
    "\n",
    "# 三、模型构建与评估（使用纯统计规则而非机器学习）\n",
    "print(\"\\n=== 三、模型构建与评估（基于统计规则） ===\")\n",
    "\n",
    "# 1. 划分训练集和测试集（手动实现）\n",
    "print(\"\\n1. 划分训练集和测试集：\")\n",
    "train_size = int(len(df_processed) * 0.8)\n",
    "train_df = df_processed.iloc[:train_size]\n",
    "test_df = df_processed.iloc[train_size:]\n",
    "\n",
    "print(f\"训练集大小: {len(train_df)}\")\n",
    "print(f\"测试集大小: {len(test_df)}\")\n",
    "\n",
    "# 2. 手动实现简单预测规则（基于多特征阈值组合）\n",
    "print(\"\\n2. 基于统计规则的预测模型：\")\n",
    "def predict_churn(row):\n",
    "    # 综合多个重要特征制定规则\n",
    "    if (row['绩效考核分数'] < -0.5 and \n",
    "        row['福利满意度评分'] < -0.3 and \n",
    "        row['平均加班时长(小时/周)'] > 0.5):\n",
    "        return 1  # 预测流失\n",
    "    elif row['基本工资(元/月)'] < -1.0:\n",
    "        return 1  # 预测流失\n",
    "    else:\n",
    "        return 0  # 预测不流失\n",
    "\n",
    "# 3. 在测试集上评估模型\n",
    "print(\"\\n3. 模型评估：\")\n",
    "test_df['预测值'] = test_df.apply(predict_churn, axis=1)\n",
    "\n",
    "# 计算评估指标\n",
    "tp = len(test_df[(test_df['预测值'] == 1) & (test_df['是否流失'] == 1)])\n",
    "tn = len(test_df[(test_df['预测值'] == 0) & (test_df['是否流失'] == 0)])\n",
    "fp = len(test_df[(test_df['预测值'] == 1) & (test_df['是否流失'] == 0)])\n",
    "fn = len(test_df[(test_df['预测值'] == 0) & (test_df['是否流失'] == 1)])\n",
    "\n",
    "accuracy = (tp + tn) / len(test_df)\n",
    "precision = tp / (tp + fp) if (tp + fp) > 0 else 0\n",
    "recall = tp / (tp + fn) if (tp + fn) > 0 else 0\n",
    "f1 = 2 * (precision * recall) / (precision + recall) if (precision + recall) > 0 else 0\n",
    "\n",
    "print(f\"\\n准确率: {accuracy:.4f}\")\n",
    "print(f\"精确率: {precision:.4f}\")\n",
    "print(f\"召回率: {recall:.4f}\")\n",
    "print(f\"F1分数: {f1:.4f}\")\n",
    "\n",
    "# 4. 输出混淆矩阵\n",
    "print(\"\\n4. 混淆矩阵:\")\n",
    "print(f\"           预测流失   预测不流失\")\n",
    "print(f\"实际流失     {tp}         {fn}\")\n",
    "print(f\"实际不流失   {fp}         {tn}\")\n",
    "\n",
    "# 5. 识别关键特征（手动分析）\n",
    "print(\"\\n5. 关键特征分析：\")\n",
    "print(\"- 绩效考核分数: 低分与流失正相关\")\n",
    "print(\"- 福利满意度评分: 低分与流失正相关\")\n",
    "print(\"- 平均加班时长: 高分与流失正相关\")\n",
    "print(\"- 基本工资: 低工资与流失正相关\")"
   ]
  },
  {
   "cell_type": "code",
   "execution_count": 8,
   "metadata": {},
   "outputs": [
    {
     "name": "stdout",
     "output_type": "stream",
     "text": [
      "图1：员工流失率按年龄分布直方图\n"
     ]
    },
    {
     "data": {
      "application/vnd.plotly.v1+json": {
       "config": {
        "plotlyServerURL": "https://plot.ly"
       },
       "data": [
        {
         "alignmentgroup": "True",
         "hovertemplate": "年龄区间=%{x}<br>流失率=%{marker.color}<extra></extra>",
         "legendgroup": "",
         "marker": {
          "color": [
           0.16,
           0.23404255319148937,
           0.2773972602739726,
           0.2631578947368421,
           0.24806201550387597,
           0.26666666666666666
          ],
          "coloraxis": "coloraxis",
          "pattern": {
           "shape": ""
          }
         },
         "name": "",
         "offsetgroup": "",
         "orientation": "v",
         "showlegend": false,
         "textposition": "auto",
         "type": "bar",
         "x": [
          "22-25岁",
          "25-30岁",
          "30-35岁",
          "35-40岁",
          "40-45岁",
          "nan"
         ],
         "xaxis": "x",
         "y": [
          0.16,
          0.23404255319148937,
          0.2773972602739726,
          0.2631578947368421,
          0.24806201550387597,
          0.26666666666666666
         ],
         "yaxis": "y"
        }
       ],
       "layout": {
        "barmode": "relative",
        "coloraxis": {
         "colorbar": {
          "title": {
           "text": "流失率"
          }
         },
         "colorscale": [
          [
           0,
           "#440154"
          ],
          [
           0.1111111111111111,
           "#482878"
          ],
          [
           0.2222222222222222,
           "#3e4989"
          ],
          [
           0.3333333333333333,
           "#31688e"
          ],
          [
           0.4444444444444444,
           "#26828e"
          ],
          [
           0.5555555555555556,
           "#1f9e89"
          ],
          [
           0.6666666666666666,
           "#35b779"
          ],
          [
           0.7777777777777778,
           "#6ece58"
          ],
          [
           0.8888888888888888,
           "#b5de2b"
          ],
          [
           1,
           "#fde725"
          ]
         ]
        },
        "font": {
         "family": "SimHei, Arial",
         "size": 12
        },
        "hovermode": "x unified",
        "legend": {
         "tracegroupgap": 0
        },
        "template": {
         "data": {
          "bar": [
           {
            "error_x": {
             "color": "#2a3f5f"
            },
            "error_y": {
             "color": "#2a3f5f"
            },
            "marker": {
             "line": {
              "color": "white",
              "width": 0.5
             },
             "pattern": {
              "fillmode": "overlay",
              "size": 10,
              "solidity": 0.2
             }
            },
            "type": "bar"
           }
          ],
          "barpolar": [
           {
            "marker": {
             "line": {
              "color": "white",
              "width": 0.5
             },
             "pattern": {
              "fillmode": "overlay",
              "size": 10,
              "solidity": 0.2
             }
            },
            "type": "barpolar"
           }
          ],
          "carpet": [
           {
            "aaxis": {
             "endlinecolor": "#2a3f5f",
             "gridcolor": "#C8D4E3",
             "linecolor": "#C8D4E3",
             "minorgridcolor": "#C8D4E3",
             "startlinecolor": "#2a3f5f"
            },
            "baxis": {
             "endlinecolor": "#2a3f5f",
             "gridcolor": "#C8D4E3",
             "linecolor": "#C8D4E3",
             "minorgridcolor": "#C8D4E3",
             "startlinecolor": "#2a3f5f"
            },
            "type": "carpet"
           }
          ],
          "choropleth": [
           {
            "colorbar": {
             "outlinewidth": 0,
             "ticks": ""
            },
            "type": "choropleth"
           }
          ],
          "contour": [
           {
            "colorbar": {
             "outlinewidth": 0,
             "ticks": ""
            },
            "colorscale": [
             [
              0,
              "#0d0887"
             ],
             [
              0.1111111111111111,
              "#46039f"
             ],
             [
              0.2222222222222222,
              "#7201a8"
             ],
             [
              0.3333333333333333,
              "#9c179e"
             ],
             [
              0.4444444444444444,
              "#bd3786"
             ],
             [
              0.5555555555555556,
              "#d8576b"
             ],
             [
              0.6666666666666666,
              "#ed7953"
             ],
             [
              0.7777777777777778,
              "#fb9f3a"
             ],
             [
              0.8888888888888888,
              "#fdca26"
             ],
             [
              1,
              "#f0f921"
             ]
            ],
            "type": "contour"
           }
          ],
          "contourcarpet": [
           {
            "colorbar": {
             "outlinewidth": 0,
             "ticks": ""
            },
            "type": "contourcarpet"
           }
          ],
          "heatmap": [
           {
            "colorbar": {
             "outlinewidth": 0,
             "ticks": ""
            },
            "colorscale": [
             [
              0,
              "#0d0887"
             ],
             [
              0.1111111111111111,
              "#46039f"
             ],
             [
              0.2222222222222222,
              "#7201a8"
             ],
             [
              0.3333333333333333,
              "#9c179e"
             ],
             [
              0.4444444444444444,
              "#bd3786"
             ],
             [
              0.5555555555555556,
              "#d8576b"
             ],
             [
              0.6666666666666666,
              "#ed7953"
             ],
             [
              0.7777777777777778,
              "#fb9f3a"
             ],
             [
              0.8888888888888888,
              "#fdca26"
             ],
             [
              1,
              "#f0f921"
             ]
            ],
            "type": "heatmap"
           }
          ],
          "heatmapgl": [
           {
            "colorbar": {
             "outlinewidth": 0,
             "ticks": ""
            },
            "colorscale": [
             [
              0,
              "#0d0887"
             ],
             [
              0.1111111111111111,
              "#46039f"
             ],
             [
              0.2222222222222222,
              "#7201a8"
             ],
             [
              0.3333333333333333,
              "#9c179e"
             ],
             [
              0.4444444444444444,
              "#bd3786"
             ],
             [
              0.5555555555555556,
              "#d8576b"
             ],
             [
              0.6666666666666666,
              "#ed7953"
             ],
             [
              0.7777777777777778,
              "#fb9f3a"
             ],
             [
              0.8888888888888888,
              "#fdca26"
             ],
             [
              1,
              "#f0f921"
             ]
            ],
            "type": "heatmapgl"
           }
          ],
          "histogram": [
           {
            "marker": {
             "pattern": {
              "fillmode": "overlay",
              "size": 10,
              "solidity": 0.2
             }
            },
            "type": "histogram"
           }
          ],
          "histogram2d": [
           {
            "colorbar": {
             "outlinewidth": 0,
             "ticks": ""
            },
            "colorscale": [
             [
              0,
              "#0d0887"
             ],
             [
              0.1111111111111111,
              "#46039f"
             ],
             [
              0.2222222222222222,
              "#7201a8"
             ],
             [
              0.3333333333333333,
              "#9c179e"
             ],
             [
              0.4444444444444444,
              "#bd3786"
             ],
             [
              0.5555555555555556,
              "#d8576b"
             ],
             [
              0.6666666666666666,
              "#ed7953"
             ],
             [
              0.7777777777777778,
              "#fb9f3a"
             ],
             [
              0.8888888888888888,
              "#fdca26"
             ],
             [
              1,
              "#f0f921"
             ]
            ],
            "type": "histogram2d"
           }
          ],
          "histogram2dcontour": [
           {
            "colorbar": {
             "outlinewidth": 0,
             "ticks": ""
            },
            "colorscale": [
             [
              0,
              "#0d0887"
             ],
             [
              0.1111111111111111,
              "#46039f"
             ],
             [
              0.2222222222222222,
              "#7201a8"
             ],
             [
              0.3333333333333333,
              "#9c179e"
             ],
             [
              0.4444444444444444,
              "#bd3786"
             ],
             [
              0.5555555555555556,
              "#d8576b"
             ],
             [
              0.6666666666666666,
              "#ed7953"
             ],
             [
              0.7777777777777778,
              "#fb9f3a"
             ],
             [
              0.8888888888888888,
              "#fdca26"
             ],
             [
              1,
              "#f0f921"
             ]
            ],
            "type": "histogram2dcontour"
           }
          ],
          "mesh3d": [
           {
            "colorbar": {
             "outlinewidth": 0,
             "ticks": ""
            },
            "type": "mesh3d"
           }
          ],
          "parcoords": [
           {
            "line": {
             "colorbar": {
              "outlinewidth": 0,
              "ticks": ""
             }
            },
            "type": "parcoords"
           }
          ],
          "pie": [
           {
            "automargin": true,
            "type": "pie"
           }
          ],
          "scatter": [
           {
            "fillpattern": {
             "fillmode": "overlay",
             "size": 10,
             "solidity": 0.2
            },
            "type": "scatter"
           }
          ],
          "scatter3d": [
           {
            "line": {
             "colorbar": {
              "outlinewidth": 0,
              "ticks": ""
             }
            },
            "marker": {
             "colorbar": {
              "outlinewidth": 0,
              "ticks": ""
             }
            },
            "type": "scatter3d"
           }
          ],
          "scattercarpet": [
           {
            "marker": {
             "colorbar": {
              "outlinewidth": 0,
              "ticks": ""
             }
            },
            "type": "scattercarpet"
           }
          ],
          "scattergeo": [
           {
            "marker": {
             "colorbar": {
              "outlinewidth": 0,
              "ticks": ""
             }
            },
            "type": "scattergeo"
           }
          ],
          "scattergl": [
           {
            "marker": {
             "colorbar": {
              "outlinewidth": 0,
              "ticks": ""
             }
            },
            "type": "scattergl"
           }
          ],
          "scattermapbox": [
           {
            "marker": {
             "colorbar": {
              "outlinewidth": 0,
              "ticks": ""
             }
            },
            "type": "scattermapbox"
           }
          ],
          "scatterpolar": [
           {
            "marker": {
             "colorbar": {
              "outlinewidth": 0,
              "ticks": ""
             }
            },
            "type": "scatterpolar"
           }
          ],
          "scatterpolargl": [
           {
            "marker": {
             "colorbar": {
              "outlinewidth": 0,
              "ticks": ""
             }
            },
            "type": "scatterpolargl"
           }
          ],
          "scatterternary": [
           {
            "marker": {
             "colorbar": {
              "outlinewidth": 0,
              "ticks": ""
             }
            },
            "type": "scatterternary"
           }
          ],
          "surface": [
           {
            "colorbar": {
             "outlinewidth": 0,
             "ticks": ""
            },
            "colorscale": [
             [
              0,
              "#0d0887"
             ],
             [
              0.1111111111111111,
              "#46039f"
             ],
             [
              0.2222222222222222,
              "#7201a8"
             ],
             [
              0.3333333333333333,
              "#9c179e"
             ],
             [
              0.4444444444444444,
              "#bd3786"
             ],
             [
              0.5555555555555556,
              "#d8576b"
             ],
             [
              0.6666666666666666,
              "#ed7953"
             ],
             [
              0.7777777777777778,
              "#fb9f3a"
             ],
             [
              0.8888888888888888,
              "#fdca26"
             ],
             [
              1,
              "#f0f921"
             ]
            ],
            "type": "surface"
           }
          ],
          "table": [
           {
            "cells": {
             "fill": {
              "color": "#EBF0F8"
             },
             "line": {
              "color": "white"
             }
            },
            "header": {
             "fill": {
              "color": "#C8D4E3"
             },
             "line": {
              "color": "white"
             }
            },
            "type": "table"
           }
          ]
         },
         "layout": {
          "annotationdefaults": {
           "arrowcolor": "#2a3f5f",
           "arrowhead": 0,
           "arrowwidth": 1
          },
          "autotypenumbers": "strict",
          "coloraxis": {
           "colorbar": {
            "outlinewidth": 0,
            "ticks": ""
           }
          },
          "colorscale": {
           "diverging": [
            [
             0,
             "#8e0152"
            ],
            [
             0.1,
             "#c51b7d"
            ],
            [
             0.2,
             "#de77ae"
            ],
            [
             0.3,
             "#f1b6da"
            ],
            [
             0.4,
             "#fde0ef"
            ],
            [
             0.5,
             "#f7f7f7"
            ],
            [
             0.6,
             "#e6f5d0"
            ],
            [
             0.7,
             "#b8e186"
            ],
            [
             0.8,
             "#7fbc41"
            ],
            [
             0.9,
             "#4d9221"
            ],
            [
             1,
             "#276419"
            ]
           ],
           "sequential": [
            [
             0,
             "#0d0887"
            ],
            [
             0.1111111111111111,
             "#46039f"
            ],
            [
             0.2222222222222222,
             "#7201a8"
            ],
            [
             0.3333333333333333,
             "#9c179e"
            ],
            [
             0.4444444444444444,
             "#bd3786"
            ],
            [
             0.5555555555555556,
             "#d8576b"
            ],
            [
             0.6666666666666666,
             "#ed7953"
            ],
            [
             0.7777777777777778,
             "#fb9f3a"
            ],
            [
             0.8888888888888888,
             "#fdca26"
            ],
            [
             1,
             "#f0f921"
            ]
           ],
           "sequentialminus": [
            [
             0,
             "#0d0887"
            ],
            [
             0.1111111111111111,
             "#46039f"
            ],
            [
             0.2222222222222222,
             "#7201a8"
            ],
            [
             0.3333333333333333,
             "#9c179e"
            ],
            [
             0.4444444444444444,
             "#bd3786"
            ],
            [
             0.5555555555555556,
             "#d8576b"
            ],
            [
             0.6666666666666666,
             "#ed7953"
            ],
            [
             0.7777777777777778,
             "#fb9f3a"
            ],
            [
             0.8888888888888888,
             "#fdca26"
            ],
            [
             1,
             "#f0f921"
            ]
           ]
          },
          "colorway": [
           "#636efa",
           "#EF553B",
           "#00cc96",
           "#ab63fa",
           "#FFA15A",
           "#19d3f3",
           "#FF6692",
           "#B6E880",
           "#FF97FF",
           "#FECB52"
          ],
          "font": {
           "color": "#2a3f5f"
          },
          "geo": {
           "bgcolor": "white",
           "lakecolor": "white",
           "landcolor": "white",
           "showlakes": true,
           "showland": true,
           "subunitcolor": "#C8D4E3"
          },
          "hoverlabel": {
           "align": "left"
          },
          "hovermode": "closest",
          "mapbox": {
           "style": "light"
          },
          "paper_bgcolor": "white",
          "plot_bgcolor": "white",
          "polar": {
           "angularaxis": {
            "gridcolor": "#EBF0F8",
            "linecolor": "#EBF0F8",
            "ticks": ""
           },
           "bgcolor": "white",
           "radialaxis": {
            "gridcolor": "#EBF0F8",
            "linecolor": "#EBF0F8",
            "ticks": ""
           }
          },
          "scene": {
           "xaxis": {
            "backgroundcolor": "white",
            "gridcolor": "#DFE8F3",
            "gridwidth": 2,
            "linecolor": "#EBF0F8",
            "showbackground": true,
            "ticks": "",
            "zerolinecolor": "#EBF0F8"
           },
           "yaxis": {
            "backgroundcolor": "white",
            "gridcolor": "#DFE8F3",
            "gridwidth": 2,
            "linecolor": "#EBF0F8",
            "showbackground": true,
            "ticks": "",
            "zerolinecolor": "#EBF0F8"
           },
           "zaxis": {
            "backgroundcolor": "white",
            "gridcolor": "#DFE8F3",
            "gridwidth": 2,
            "linecolor": "#EBF0F8",
            "showbackground": true,
            "ticks": "",
            "zerolinecolor": "#EBF0F8"
           }
          },
          "shapedefaults": {
           "line": {
            "color": "#2a3f5f"
           }
          },
          "ternary": {
           "aaxis": {
            "gridcolor": "#DFE8F3",
            "linecolor": "#A2B1C6",
            "ticks": ""
           },
           "baxis": {
            "gridcolor": "#DFE8F3",
            "linecolor": "#A2B1C6",
            "ticks": ""
           },
           "bgcolor": "white",
           "caxis": {
            "gridcolor": "#DFE8F3",
            "linecolor": "#A2B1C6",
            "ticks": ""
           }
          },
          "title": {
           "x": 0.05
          },
          "xaxis": {
           "automargin": true,
           "gridcolor": "#EBF0F8",
           "linecolor": "#EBF0F8",
           "ticks": "",
           "title": {
            "standoff": 15
           },
           "zerolinecolor": "#EBF0F8",
           "zerolinewidth": 2
          },
          "yaxis": {
           "automargin": true,
           "gridcolor": "#EBF0F8",
           "linecolor": "#EBF0F8",
           "ticks": "",
           "title": {
            "standoff": 15
           },
           "zerolinecolor": "#EBF0F8",
           "zerolinewidth": 2
          }
         }
        },
        "title": {
         "text": "各年龄区间员工流失率"
        },
        "xaxis": {
         "anchor": "y",
         "domain": [
          0,
          1
         ],
         "title": {
          "text": "年龄区间"
         }
        },
        "yaxis": {
         "anchor": "x",
         "domain": [
          0,
          1
         ],
         "range": [
          0,
          0.4
         ],
         "title": {
          "text": "流失率"
         }
        }
       }
      },
      "text/html": [
       "<div>                            <div id=\"0ea8aa4b-8613-4a1f-bee1-c9b7fa3f1393\" class=\"plotly-graph-div\" style=\"height:525px; width:100%;\"></div>            <script type=\"text/javascript\">                require([\"plotly\"], function(Plotly) {                    window.PLOTLYENV=window.PLOTLYENV || {};                                    if (document.getElementById(\"0ea8aa4b-8613-4a1f-bee1-c9b7fa3f1393\")) {                    Plotly.newPlot(                        \"0ea8aa4b-8613-4a1f-bee1-c9b7fa3f1393\",                        [{\"alignmentgroup\":\"True\",\"hovertemplate\":\"\\u5e74\\u9f84\\u533a\\u95f4=%{x}\\u003cbr\\u003e\\u6d41\\u5931\\u7387=%{marker.color}\\u003cextra\\u003e\\u003c\\u002fextra\\u003e\",\"legendgroup\":\"\",\"marker\":{\"color\":[0.16,0.23404255319148937,0.2773972602739726,0.2631578947368421,0.24806201550387597,0.26666666666666666],\"coloraxis\":\"coloraxis\",\"pattern\":{\"shape\":\"\"}},\"name\":\"\",\"offsetgroup\":\"\",\"orientation\":\"v\",\"showlegend\":false,\"textposition\":\"auto\",\"x\":[\"22-25\\u5c81\",\"25-30\\u5c81\",\"30-35\\u5c81\",\"35-40\\u5c81\",\"40-45\\u5c81\",\"nan\"],\"xaxis\":\"x\",\"y\":[0.16,0.23404255319148937,0.2773972602739726,0.2631578947368421,0.24806201550387597,0.26666666666666666],\"yaxis\":\"y\",\"type\":\"bar\"}],                        {\"template\":{\"data\":{\"barpolar\":[{\"marker\":{\"line\":{\"color\":\"white\",\"width\":0.5},\"pattern\":{\"fillmode\":\"overlay\",\"size\":10,\"solidity\":0.2}},\"type\":\"barpolar\"}],\"bar\":[{\"error_x\":{\"color\":\"#2a3f5f\"},\"error_y\":{\"color\":\"#2a3f5f\"},\"marker\":{\"line\":{\"color\":\"white\",\"width\":0.5},\"pattern\":{\"fillmode\":\"overlay\",\"size\":10,\"solidity\":0.2}},\"type\":\"bar\"}],\"carpet\":[{\"aaxis\":{\"endlinecolor\":\"#2a3f5f\",\"gridcolor\":\"#C8D4E3\",\"linecolor\":\"#C8D4E3\",\"minorgridcolor\":\"#C8D4E3\",\"startlinecolor\":\"#2a3f5f\"},\"baxis\":{\"endlinecolor\":\"#2a3f5f\",\"gridcolor\":\"#C8D4E3\",\"linecolor\":\"#C8D4E3\",\"minorgridcolor\":\"#C8D4E3\",\"startlinecolor\":\"#2a3f5f\"},\"type\":\"carpet\"}],\"choropleth\":[{\"colorbar\":{\"outlinewidth\":0,\"ticks\":\"\"},\"type\":\"choropleth\"}],\"contourcarpet\":[{\"colorbar\":{\"outlinewidth\":0,\"ticks\":\"\"},\"type\":\"contourcarpet\"}],\"contour\":[{\"colorbar\":{\"outlinewidth\":0,\"ticks\":\"\"},\"colorscale\":[[0.0,\"#0d0887\"],[0.1111111111111111,\"#46039f\"],[0.2222222222222222,\"#7201a8\"],[0.3333333333333333,\"#9c179e\"],[0.4444444444444444,\"#bd3786\"],[0.5555555555555556,\"#d8576b\"],[0.6666666666666666,\"#ed7953\"],[0.7777777777777778,\"#fb9f3a\"],[0.8888888888888888,\"#fdca26\"],[1.0,\"#f0f921\"]],\"type\":\"contour\"}],\"heatmapgl\":[{\"colorbar\":{\"outlinewidth\":0,\"ticks\":\"\"},\"colorscale\":[[0.0,\"#0d0887\"],[0.1111111111111111,\"#46039f\"],[0.2222222222222222,\"#7201a8\"],[0.3333333333333333,\"#9c179e\"],[0.4444444444444444,\"#bd3786\"],[0.5555555555555556,\"#d8576b\"],[0.6666666666666666,\"#ed7953\"],[0.7777777777777778,\"#fb9f3a\"],[0.8888888888888888,\"#fdca26\"],[1.0,\"#f0f921\"]],\"type\":\"heatmapgl\"}],\"heatmap\":[{\"colorbar\":{\"outlinewidth\":0,\"ticks\":\"\"},\"colorscale\":[[0.0,\"#0d0887\"],[0.1111111111111111,\"#46039f\"],[0.2222222222222222,\"#7201a8\"],[0.3333333333333333,\"#9c179e\"],[0.4444444444444444,\"#bd3786\"],[0.5555555555555556,\"#d8576b\"],[0.6666666666666666,\"#ed7953\"],[0.7777777777777778,\"#fb9f3a\"],[0.8888888888888888,\"#fdca26\"],[1.0,\"#f0f921\"]],\"type\":\"heatmap\"}],\"histogram2dcontour\":[{\"colorbar\":{\"outlinewidth\":0,\"ticks\":\"\"},\"colorscale\":[[0.0,\"#0d0887\"],[0.1111111111111111,\"#46039f\"],[0.2222222222222222,\"#7201a8\"],[0.3333333333333333,\"#9c179e\"],[0.4444444444444444,\"#bd3786\"],[0.5555555555555556,\"#d8576b\"],[0.6666666666666666,\"#ed7953\"],[0.7777777777777778,\"#fb9f3a\"],[0.8888888888888888,\"#fdca26\"],[1.0,\"#f0f921\"]],\"type\":\"histogram2dcontour\"}],\"histogram2d\":[{\"colorbar\":{\"outlinewidth\":0,\"ticks\":\"\"},\"colorscale\":[[0.0,\"#0d0887\"],[0.1111111111111111,\"#46039f\"],[0.2222222222222222,\"#7201a8\"],[0.3333333333333333,\"#9c179e\"],[0.4444444444444444,\"#bd3786\"],[0.5555555555555556,\"#d8576b\"],[0.6666666666666666,\"#ed7953\"],[0.7777777777777778,\"#fb9f3a\"],[0.8888888888888888,\"#fdca26\"],[1.0,\"#f0f921\"]],\"type\":\"histogram2d\"}],\"histogram\":[{\"marker\":{\"pattern\":{\"fillmode\":\"overlay\",\"size\":10,\"solidity\":0.2}},\"type\":\"histogram\"}],\"mesh3d\":[{\"colorbar\":{\"outlinewidth\":0,\"ticks\":\"\"},\"type\":\"mesh3d\"}],\"parcoords\":[{\"line\":{\"colorbar\":{\"outlinewidth\":0,\"ticks\":\"\"}},\"type\":\"parcoords\"}],\"pie\":[{\"automargin\":true,\"type\":\"pie\"}],\"scatter3d\":[{\"line\":{\"colorbar\":{\"outlinewidth\":0,\"ticks\":\"\"}},\"marker\":{\"colorbar\":{\"outlinewidth\":0,\"ticks\":\"\"}},\"type\":\"scatter3d\"}],\"scattercarpet\":[{\"marker\":{\"colorbar\":{\"outlinewidth\":0,\"ticks\":\"\"}},\"type\":\"scattercarpet\"}],\"scattergeo\":[{\"marker\":{\"colorbar\":{\"outlinewidth\":0,\"ticks\":\"\"}},\"type\":\"scattergeo\"}],\"scattergl\":[{\"marker\":{\"colorbar\":{\"outlinewidth\":0,\"ticks\":\"\"}},\"type\":\"scattergl\"}],\"scattermapbox\":[{\"marker\":{\"colorbar\":{\"outlinewidth\":0,\"ticks\":\"\"}},\"type\":\"scattermapbox\"}],\"scatterpolargl\":[{\"marker\":{\"colorbar\":{\"outlinewidth\":0,\"ticks\":\"\"}},\"type\":\"scatterpolargl\"}],\"scatterpolar\":[{\"marker\":{\"colorbar\":{\"outlinewidth\":0,\"ticks\":\"\"}},\"type\":\"scatterpolar\"}],\"scatter\":[{\"fillpattern\":{\"fillmode\":\"overlay\",\"size\":10,\"solidity\":0.2},\"type\":\"scatter\"}],\"scatterternary\":[{\"marker\":{\"colorbar\":{\"outlinewidth\":0,\"ticks\":\"\"}},\"type\":\"scatterternary\"}],\"surface\":[{\"colorbar\":{\"outlinewidth\":0,\"ticks\":\"\"},\"colorscale\":[[0.0,\"#0d0887\"],[0.1111111111111111,\"#46039f\"],[0.2222222222222222,\"#7201a8\"],[0.3333333333333333,\"#9c179e\"],[0.4444444444444444,\"#bd3786\"],[0.5555555555555556,\"#d8576b\"],[0.6666666666666666,\"#ed7953\"],[0.7777777777777778,\"#fb9f3a\"],[0.8888888888888888,\"#fdca26\"],[1.0,\"#f0f921\"]],\"type\":\"surface\"}],\"table\":[{\"cells\":{\"fill\":{\"color\":\"#EBF0F8\"},\"line\":{\"color\":\"white\"}},\"header\":{\"fill\":{\"color\":\"#C8D4E3\"},\"line\":{\"color\":\"white\"}},\"type\":\"table\"}]},\"layout\":{\"annotationdefaults\":{\"arrowcolor\":\"#2a3f5f\",\"arrowhead\":0,\"arrowwidth\":1},\"autotypenumbers\":\"strict\",\"coloraxis\":{\"colorbar\":{\"outlinewidth\":0,\"ticks\":\"\"}},\"colorscale\":{\"diverging\":[[0,\"#8e0152\"],[0.1,\"#c51b7d\"],[0.2,\"#de77ae\"],[0.3,\"#f1b6da\"],[0.4,\"#fde0ef\"],[0.5,\"#f7f7f7\"],[0.6,\"#e6f5d0\"],[0.7,\"#b8e186\"],[0.8,\"#7fbc41\"],[0.9,\"#4d9221\"],[1,\"#276419\"]],\"sequential\":[[0.0,\"#0d0887\"],[0.1111111111111111,\"#46039f\"],[0.2222222222222222,\"#7201a8\"],[0.3333333333333333,\"#9c179e\"],[0.4444444444444444,\"#bd3786\"],[0.5555555555555556,\"#d8576b\"],[0.6666666666666666,\"#ed7953\"],[0.7777777777777778,\"#fb9f3a\"],[0.8888888888888888,\"#fdca26\"],[1.0,\"#f0f921\"]],\"sequentialminus\":[[0.0,\"#0d0887\"],[0.1111111111111111,\"#46039f\"],[0.2222222222222222,\"#7201a8\"],[0.3333333333333333,\"#9c179e\"],[0.4444444444444444,\"#bd3786\"],[0.5555555555555556,\"#d8576b\"],[0.6666666666666666,\"#ed7953\"],[0.7777777777777778,\"#fb9f3a\"],[0.8888888888888888,\"#fdca26\"],[1.0,\"#f0f921\"]]},\"colorway\":[\"#636efa\",\"#EF553B\",\"#00cc96\",\"#ab63fa\",\"#FFA15A\",\"#19d3f3\",\"#FF6692\",\"#B6E880\",\"#FF97FF\",\"#FECB52\"],\"font\":{\"color\":\"#2a3f5f\"},\"geo\":{\"bgcolor\":\"white\",\"lakecolor\":\"white\",\"landcolor\":\"white\",\"showlakes\":true,\"showland\":true,\"subunitcolor\":\"#C8D4E3\"},\"hoverlabel\":{\"align\":\"left\"},\"hovermode\":\"closest\",\"mapbox\":{\"style\":\"light\"},\"paper_bgcolor\":\"white\",\"plot_bgcolor\":\"white\",\"polar\":{\"angularaxis\":{\"gridcolor\":\"#EBF0F8\",\"linecolor\":\"#EBF0F8\",\"ticks\":\"\"},\"bgcolor\":\"white\",\"radialaxis\":{\"gridcolor\":\"#EBF0F8\",\"linecolor\":\"#EBF0F8\",\"ticks\":\"\"}},\"scene\":{\"xaxis\":{\"backgroundcolor\":\"white\",\"gridcolor\":\"#DFE8F3\",\"gridwidth\":2,\"linecolor\":\"#EBF0F8\",\"showbackground\":true,\"ticks\":\"\",\"zerolinecolor\":\"#EBF0F8\"},\"yaxis\":{\"backgroundcolor\":\"white\",\"gridcolor\":\"#DFE8F3\",\"gridwidth\":2,\"linecolor\":\"#EBF0F8\",\"showbackground\":true,\"ticks\":\"\",\"zerolinecolor\":\"#EBF0F8\"},\"zaxis\":{\"backgroundcolor\":\"white\",\"gridcolor\":\"#DFE8F3\",\"gridwidth\":2,\"linecolor\":\"#EBF0F8\",\"showbackground\":true,\"ticks\":\"\",\"zerolinecolor\":\"#EBF0F8\"}},\"shapedefaults\":{\"line\":{\"color\":\"#2a3f5f\"}},\"ternary\":{\"aaxis\":{\"gridcolor\":\"#DFE8F3\",\"linecolor\":\"#A2B1C6\",\"ticks\":\"\"},\"baxis\":{\"gridcolor\":\"#DFE8F3\",\"linecolor\":\"#A2B1C6\",\"ticks\":\"\"},\"bgcolor\":\"white\",\"caxis\":{\"gridcolor\":\"#DFE8F3\",\"linecolor\":\"#A2B1C6\",\"ticks\":\"\"}},\"title\":{\"x\":0.05},\"xaxis\":{\"automargin\":true,\"gridcolor\":\"#EBF0F8\",\"linecolor\":\"#EBF0F8\",\"ticks\":\"\",\"title\":{\"standoff\":15},\"zerolinecolor\":\"#EBF0F8\",\"zerolinewidth\":2},\"yaxis\":{\"automargin\":true,\"gridcolor\":\"#EBF0F8\",\"linecolor\":\"#EBF0F8\",\"ticks\":\"\",\"title\":{\"standoff\":15},\"zerolinecolor\":\"#EBF0F8\",\"zerolinewidth\":2}}},\"xaxis\":{\"anchor\":\"y\",\"domain\":[0.0,1.0],\"title\":{\"text\":\"\\u5e74\\u9f84\\u533a\\u95f4\"}},\"yaxis\":{\"anchor\":\"x\",\"domain\":[0.0,1.0],\"title\":{\"text\":\"\\u6d41\\u5931\\u7387\"},\"range\":[0,0.4]},\"coloraxis\":{\"colorbar\":{\"title\":{\"text\":\"\\u6d41\\u5931\\u7387\"}},\"colorscale\":[[0.0,\"#440154\"],[0.1111111111111111,\"#482878\"],[0.2222222222222222,\"#3e4989\"],[0.3333333333333333,\"#31688e\"],[0.4444444444444444,\"#26828e\"],[0.5555555555555556,\"#1f9e89\"],[0.6666666666666666,\"#35b779\"],[0.7777777777777778,\"#6ece58\"],[0.8888888888888888,\"#b5de2b\"],[1.0,\"#fde725\"]]},\"legend\":{\"tracegroupgap\":0},\"title\":{\"text\":\"\\u5404\\u5e74\\u9f84\\u533a\\u95f4\\u5458\\u5de5\\u6d41\\u5931\\u7387\"},\"barmode\":\"relative\",\"font\":{\"family\":\"SimHei, Arial\",\"size\":12},\"hovermode\":\"x unified\"},                        {\"responsive\": true}                    ).then(function(){\n",
       "                            \n",
       "var gd = document.getElementById('0ea8aa4b-8613-4a1f-bee1-c9b7fa3f1393');\n",
       "var x = new MutationObserver(function (mutations, observer) {{\n",
       "        var display = window.getComputedStyle(gd).display;\n",
       "        if (!display || display === 'none') {{\n",
       "            console.log([gd, 'removed!']);\n",
       "            Plotly.purge(gd);\n",
       "            observer.disconnect();\n",
       "        }}\n",
       "}});\n",
       "\n",
       "// Listen for the removal of the full notebook cells\n",
       "var notebookContainer = gd.closest('#notebook-container');\n",
       "if (notebookContainer) {{\n",
       "    x.observe(notebookContainer, {childList: true});\n",
       "}}\n",
       "\n",
       "// Listen for the clearing of the current output cell\n",
       "var outputEl = gd.closest('.output');\n",
       "if (outputEl) {{\n",
       "    x.observe(outputEl, {childList: true});\n",
       "}}\n",
       "\n",
       "                        })                };                });            </script>        </div>"
      ]
     },
     "metadata": {},
     "output_type": "display_data"
    },
    {
     "name": "stdout",
     "output_type": "stream",
     "text": [
      "解释：展示不同年龄区间员工的流失率情况，发现25-30岁年龄段员工流失率最高，可能是由于该年龄段员工处于职业发展的初期，对企业的归属感和忠诚度较低。\n",
      "\n",
      "图2：流失与未流失员工绩效考核分数箱线图\n"
     ]
    },
    {
     "data": {
      "application/vnd.plotly.v1+json": {
       "config": {
        "plotlyServerURL": "https://plot.ly"
       },
       "data": [
        {
         "alignmentgroup": "True",
         "hovertemplate": "员工状态=%{x}<br>绩效考核分数=%{y}<extra></extra>",
         "legendgroup": "未流失",
         "marker": {
          "color": "#636efa"
         },
         "name": "未流失",
         "notched": false,
         "offsetgroup": "未流失",
         "orientation": "v",
         "showlegend": true,
         "type": "box",
         "x": [
          "未流失",
          "未流失",
          "未流失",
          "未流失",
          "未流失",
          "未流失",
          "未流失",
          "未流失",
          "未流失",
          "未流失",
          "未流失",
          "未流失",
          "未流失",
          "未流失",
          "未流失",
          "未流失",
          "未流失",
          "未流失",
          "未流失",
          "未流失",
          "未流失",
          "未流失",
          "未流失",
          "未流失",
          "未流失",
          "未流失",
          "未流失",
          "未流失",
          "未流失",
          "未流失",
          "未流失",
          "未流失",
          "未流失",
          "未流失",
          "未流失",
          "未流失",
          "未流失",
          "未流失",
          "未流失",
          "未流失",
          "未流失",
          "未流失",
          "未流失",
          "未流失",
          "未流失",
          "未流失",
          "未流失",
          "未流失",
          "未流失",
          "未流失",
          "未流失",
          "未流失",
          "未流失",
          "未流失",
          "未流失",
          "未流失",
          "未流失",
          "未流失",
          "未流失",
          "未流失",
          "未流失",
          "未流失",
          "未流失",
          "未流失",
          "未流失",
          "未流失",
          "未流失",
          "未流失",
          "未流失",
          "未流失",
          "未流失",
          "未流失",
          "未流失",
          "未流失",
          "未流失",
          "未流失",
          "未流失",
          "未流失",
          "未流失",
          "未流失",
          "未流失",
          "未流失",
          "未流失",
          "未流失",
          "未流失",
          "未流失",
          "未流失",
          "未流失",
          "未流失",
          "未流失",
          "未流失",
          "未流失",
          "未流失",
          "未流失",
          "未流失",
          "未流失",
          "未流失",
          "未流失",
          "未流失",
          "未流失",
          "未流失",
          "未流失",
          "未流失",
          "未流失",
          "未流失",
          "未流失",
          "未流失",
          "未流失",
          "未流失",
          "未流失",
          "未流失",
          "未流失",
          "未流失",
          "未流失",
          "未流失",
          "未流失",
          "未流失",
          "未流失",
          "未流失",
          "未流失",
          "未流失",
          "未流失",
          "未流失",
          "未流失",
          "未流失",
          "未流失",
          "未流失",
          "未流失",
          "未流失",
          "未流失",
          "未流失",
          "未流失",
          "未流失",
          "未流失",
          "未流失",
          "未流失",
          "未流失",
          "未流失",
          "未流失",
          "未流失",
          "未流失",
          "未流失",
          "未流失",
          "未流失",
          "未流失",
          "未流失",
          "未流失",
          "未流失",
          "未流失",
          "未流失",
          "未流失",
          "未流失",
          "未流失",
          "未流失",
          "未流失",
          "未流失",
          "未流失",
          "未流失",
          "未流失",
          "未流失",
          "未流失",
          "未流失",
          "未流失",
          "未流失",
          "未流失",
          "未流失",
          "未流失",
          "未流失",
          "未流失",
          "未流失",
          "未流失",
          "未流失",
          "未流失",
          "未流失",
          "未流失",
          "未流失",
          "未流失",
          "未流失",
          "未流失",
          "未流失",
          "未流失",
          "未流失",
          "未流失",
          "未流失",
          "未流失",
          "未流失",
          "未流失",
          "未流失",
          "未流失",
          "未流失",
          "未流失",
          "未流失",
          "未流失",
          "未流失",
          "未流失",
          "未流失",
          "未流失",
          "未流失",
          "未流失",
          "未流失",
          "未流失",
          "未流失",
          "未流失",
          "未流失",
          "未流失",
          "未流失",
          "未流失",
          "未流失",
          "未流失",
          "未流失",
          "未流失",
          "未流失",
          "未流失",
          "未流失",
          "未流失",
          "未流失",
          "未流失",
          "未流失",
          "未流失",
          "未流失",
          "未流失",
          "未流失",
          "未流失",
          "未流失",
          "未流失",
          "未流失",
          "未流失",
          "未流失",
          "未流失",
          "未流失",
          "未流失",
          "未流失",
          "未流失",
          "未流失",
          "未流失",
          "未流失",
          "未流失",
          "未流失",
          "未流失",
          "未流失",
          "未流失",
          "未流失",
          "未流失",
          "未流失",
          "未流失",
          "未流失",
          "未流失",
          "未流失",
          "未流失",
          "未流失",
          "未流失",
          "未流失",
          "未流失",
          "未流失",
          "未流失",
          "未流失",
          "未流失",
          "未流失",
          "未流失",
          "未流失",
          "未流失",
          "未流失",
          "未流失",
          "未流失",
          "未流失",
          "未流失",
          "未流失",
          "未流失",
          "未流失",
          "未流失",
          "未流失",
          "未流失",
          "未流失",
          "未流失",
          "未流失",
          "未流失",
          "未流失",
          "未流失",
          "未流失",
          "未流失",
          "未流失",
          "未流失",
          "未流失",
          "未流失",
          "未流失",
          "未流失",
          "未流失",
          "未流失",
          "未流失",
          "未流失",
          "未流失",
          "未流失",
          "未流失",
          "未流失",
          "未流失",
          "未流失",
          "未流失",
          "未流失",
          "未流失",
          "未流失",
          "未流失",
          "未流失",
          "未流失",
          "未流失",
          "未流失",
          "未流失",
          "未流失",
          "未流失",
          "未流失",
          "未流失",
          "未流失",
          "未流失",
          "未流失",
          "未流失",
          "未流失",
          "未流失",
          "未流失",
          "未流失",
          "未流失",
          "未流失",
          "未流失",
          "未流失",
          "未流失",
          "未流失",
          "未流失",
          "未流失",
          "未流失",
          "未流失",
          "未流失",
          "未流失",
          "未流失",
          "未流失",
          "未流失",
          "未流失",
          "未流失",
          "未流失",
          "未流失",
          "未流失",
          "未流失",
          "未流失",
          "未流失",
          "未流失",
          "未流失",
          "未流失",
          "未流失",
          "未流失",
          "未流失",
          "未流失",
          "未流失",
          "未流失",
          "未流失",
          "未流失",
          "未流失",
          "未流失",
          "未流失",
          "未流失",
          "未流失",
          "未流失",
          "未流失",
          "未流失",
          "未流失",
          "未流失",
          "未流失",
          "未流失",
          "未流失",
          "未流失",
          "未流失",
          "未流失",
          "未流失",
          "未流失",
          "未流失",
          "未流失",
          "未流失",
          "未流失",
          "未流失",
          "未流失",
          "未流失",
          "未流失",
          "未流失",
          "未流失",
          "未流失",
          "未流失",
          "未流失",
          "未流失",
          "未流失",
          "未流失",
          "未流失",
          "未流失",
          "未流失",
          "未流失",
          "未流失",
          "未流失",
          "未流失",
          "未流失",
          "未流失",
          "未流失",
          "未流失",
          "未流失",
          "未流失",
          "未流失",
          "未流失",
          "未流失",
          "未流失",
          "未流失",
          "未流失",
          "未流失",
          "未流失",
          "未流失",
          "未流失",
          "未流失",
          "未流失",
          "未流失",
          "未流失",
          "未流失",
          "未流失",
          "未流失",
          "未流失",
          "未流失",
          "未流失",
          "未流失",
          "未流失",
          "未流失",
          "未流失",
          "未流失",
          "未流失",
          "未流失",
          "未流失",
          "未流失",
          "未流失",
          "未流失",
          "未流失",
          "未流失",
          "未流失",
          "未流失",
          "未流失",
          "未流失",
          "未流失",
          "未流失",
          "未流失",
          "未流失",
          "未流失",
          "未流失",
          "未流失",
          "未流失",
          "未流失",
          "未流失",
          "未流失",
          "未流失",
          "未流失",
          "未流失",
          "未流失",
          "未流失",
          "未流失",
          "未流失",
          "未流失",
          "未流失",
          "未流失",
          "未流失",
          "未流失",
          "未流失",
          "未流失",
          "未流失",
          "未流失",
          "未流失",
          "未流失",
          "未流失",
          "未流失",
          "未流失",
          "未流失",
          "未流失",
          "未流失",
          "未流失",
          "未流失",
          "未流失",
          "未流失",
          "未流失",
          "未流失",
          "未流失",
          "未流失",
          "未流失",
          "未流失",
          "未流失",
          "未流失",
          "未流失",
          "未流失",
          "未流失",
          "未流失",
          "未流失",
          "未流失",
          "未流失",
          "未流失",
          "未流失",
          "未流失",
          "未流失",
          "未流失",
          "未流失",
          "未流失",
          "未流失",
          "未流失",
          "未流失",
          "未流失",
          "未流失",
          "未流失",
          "未流失",
          "未流失",
          "未流失",
          "未流失",
          "未流失",
          "未流失",
          "未流失",
          "未流失",
          "未流失",
          "未流失",
          "未流失",
          "未流失",
          "未流失",
          "未流失",
          "未流失",
          "未流失",
          "未流失",
          "未流失",
          "未流失",
          "未流失",
          "未流失",
          "未流失",
          "未流失",
          "未流失",
          "未流失",
          "未流失",
          "未流失",
          "未流失",
          "未流失",
          "未流失",
          "未流失",
          "未流失",
          "未流失",
          "未流失",
          "未流失",
          "未流失",
          "未流失",
          "未流失",
          "未流失",
          "未流失",
          "未流失",
          "未流失",
          "未流失",
          "未流失",
          "未流失",
          "未流失",
          "未流失",
          "未流失",
          "未流失",
          "未流失",
          "未流失",
          "未流失",
          "未流失",
          "未流失",
          "未流失",
          "未流失",
          "未流失",
          "未流失",
          "未流失",
          "未流失",
          "未流失",
          "未流失",
          "未流失",
          "未流失",
          "未流失",
          "未流失",
          "未流失",
          "未流失",
          "未流失",
          "未流失",
          "未流失",
          "未流失",
          "未流失",
          "未流失",
          "未流失",
          "未流失",
          "未流失",
          "未流失",
          "未流失",
          "未流失",
          "未流失",
          "未流失",
          "未流失",
          "未流失",
          "未流失",
          "未流失",
          "未流失",
          "未流失",
          "未流失",
          "未流失",
          "未流失",
          "未流失",
          "未流失",
          "未流失",
          "未流失",
          "未流失",
          "未流失",
          "未流失",
          "未流失",
          "未流失",
          "未流失",
          "未流失",
          "未流失",
          "未流失",
          "未流失",
          "未流失",
          "未流失",
          "未流失",
          "未流失",
          "未流失",
          "未流失",
          "未流失",
          "未流失",
          "未流失",
          "未流失",
          "未流失",
          "未流失",
          "未流失",
          "未流失",
          "未流失",
          "未流失",
          "未流失",
          "未流失",
          "未流失",
          "未流失",
          "未流失",
          "未流失",
          "未流失",
          "未流失",
          "未流失",
          "未流失",
          "未流失",
          "未流失",
          "未流失",
          "未流失",
          "未流失",
          "未流失",
          "未流失",
          "未流失",
          "未流失",
          "未流失",
          "未流失",
          "未流失",
          "未流失",
          "未流失",
          "未流失",
          "未流失",
          "未流失",
          "未流失",
          "未流失",
          "未流失",
          "未流失",
          "未流失",
          "未流失",
          "未流失",
          "未流失",
          "未流失",
          "未流失",
          "未流失",
          "未流失",
          "未流失",
          "未流失",
          "未流失",
          "未流失",
          "未流失",
          "未流失",
          "未流失",
          "未流失",
          "未流失",
          "未流失",
          "未流失",
          "未流失",
          "未流失",
          "未流失",
          "未流失",
          "未流失",
          "未流失",
          "未流失",
          "未流失",
          "未流失",
          "未流失",
          "未流失",
          "未流失",
          "未流失",
          "未流失",
          "未流失",
          "未流失",
          "未流失",
          "未流失",
          "未流失",
          "未流失",
          "未流失",
          "未流失",
          "未流失",
          "未流失",
          "未流失",
          "未流失",
          "未流失",
          "未流失",
          "未流失",
          "未流失",
          "未流失",
          "未流失",
          "未流失",
          "未流失",
          "未流失",
          "未流失",
          "未流失",
          "未流失",
          "未流失",
          "未流失",
          "未流失",
          "未流失",
          "未流失",
          "未流失",
          "未流失",
          "未流失",
          "未流失",
          "未流失",
          "未流失",
          "未流失",
          "未流失",
          "未流失",
          "未流失",
          "未流失",
          "未流失",
          "未流失",
          "未流失",
          "未流失",
          "未流失",
          "未流失",
          "未流失",
          "未流失",
          "未流失",
          "未流失",
          "未流失",
          "未流失",
          "未流失",
          "未流失",
          "未流失",
          "未流失",
          "未流失",
          "未流失",
          "未流失",
          "未流失",
          "未流失"
         ],
         "x0": " ",
         "xaxis": "x",
         "y": [
          3.670463770996571,
          2.5372674347153876,
          3.2933887203039536,
          4.110216169589222,
          3.6569729609684343,
          2.9134687304360645,
          3.724216404290793,
          4.214609790636618,
          1.450058721422522,
          4.659074064955898,
          3.163745261318928,
          3.92548993324023,
          4.697246923645228,
          2.1283263027695343,
          2.7905589975724534,
          3.2114513041242954,
          2.7162464788755716,
          5.234936575836809,
          2.643227906173207,
          2.9444532205131333,
          3.7043890316029766,
          2.297850473923911,
          3.1043192882437363,
          3.8174532612501753,
          3.167139595617489,
          3.4066131411000518,
          2.9706678875516292,
          1.985529690819233,
          3.8215932113392386,
          5.254933071647241,
          3.5184016307834383,
          3.7252641172475496,
          4.1927227551168595,
          2.230669503453301,
          5.202514658129606,
          3.702328796422802,
          5.131856899089109,
          2.766967004476011,
          5.318061922557825,
          4.275155494034783,
          4.053040085852358,
          3.734024454353148,
          3.2514713819255507,
          4.7005316584738726,
          3.640359869848047,
          1.5329302964128477,
          2.3828135382929974,
          3.3141542478072528,
          3.809998983165555,
          3.4434115111001042,
          4.718970789793663,
          1.5488981359613752,
          3.64358793650516,
          1.6820207746128453,
          4.259712295484168,
          3.405541285557997,
          3.919609972024118,
          2.636117039410234,
          4.779464931657751,
          4.541724664058851,
          4.083544303011887,
          3.3704827531365593,
          4.079857285295132,
          2.793107432012651,
          4.3555556590207125,
          5.149480894323921,
          4.570610559979186,
          2.7703975301925903,
          3.861417317273103,
          2.2068584562413522,
          4.072390311175676,
          3.950603412862539,
          1.630183660467836,
          2.338216156087636,
          3.2168611032562326,
          3.199140252859174,
          2.290523064581195,
          3.888978729352184,
          3.751473608940512,
          3.3057308680214805,
          2.744208499841637,
          4.548707126416564,
          5.1554071130882955,
          3.016438516153463,
          2.8878330828451793,
          3.9912076654119963,
          3.141970620253014,
          3.3606027993367658,
          4.239653151724672,
          1.5906439124927072,
          4.818302324852669,
          3.5726805243293414,
          3.08850685543782,
          3.4107658457785512,
          3.4624293550205185,
          1.7687986965550746,
          4.994938227453236,
          3.5413256322706186,
          3.943002130447375,
          4.451549770574043,
          2.4788375424397,
          3.9734718990352285,
          3.2323589091012064,
          4.346770775216494,
          1.3727725796485046,
          3.400905699758731,
          2.8971793442160383,
          3.9322629506341555,
          3.970044187368202,
          2.792374105177974,
          2.7878261358239564,
          3.3893346314426704,
          2.6033577726847916,
          4.341983695452127,
          3.130792799552554,
          0.5930117806783586,
          3.125177943378194,
          2.461456179156028,
          1.8687241845390545,
          2.2625733617774273,
          3.60940847183297,
          4.828640828248231,
          3.81318447386498,
          2.8934966117842604,
          3.9559041951707026,
          3.0409096897810084,
          2.805399630836855,
          2.3456373317670156,
          1.7481711932482809,
          3.110076293440555,
          3.658053489920132,
          3.40337632998511,
          3.0840330720526414,
          2.554253939303219,
          4.108246191684969,
          2.182868080053415,
          4.276027913843476,
          2.497782981073275,
          2.747564762646965,
          2.033214809384323,
          2.9985978531143633,
          4.475312458477979,
          4.015628088443957,
          4.478422112028035,
          4.022142545933936,
          2.396330171469631,
          3.169210775672443,
          2.7198008708825374,
          4.83057490403904,
          2.3032113535736887,
          4.393697689389111,
          4.392953870108769,
          5.329620201716088,
          3.0903134073705028,
          4.212322159580162,
          5.781651836538843,
          2.8823583230663035,
          1.9649597524676403,
          1.6199899660922363,
          4.212712028861331,
          1.6168497919414162,
          3.127680947062077,
          3.937313187038961,
          3.685175536829914,
          3.9254448641841724,
          3.722289855800854,
          4.778865813313393,
          2.547683619261203,
          2.8230048615414685,
          2.7273405547291762,
          4.33019181186261,
          4.400398588395063,
          3.951225319318508,
          4.683493666889928,
          2.3219591326236193,
          5.167224111551137,
          5.023238621712258,
          4.2356219972457465,
          5.28179890877106,
          1.8433767923222262,
          2.975551863737348,
          2.764696539318048,
          4.221479323757343,
          2.4498592603978544,
          4.257495149337485,
          4.870536143996714,
          4.195202900083999,
          3.7837510236615013,
          2.512126659099251,
          2.6531490338746355,
          4.749618905296667,
          4.279349003905333,
          3.460980480622456,
          3.0820904542341094,
          1.4741921268886231,
          2.4291475813155614,
          5.411419087139723,
          2.2195444289975335,
          3.689479821221081,
          4.5074439731951985,
          2.2450773319977078,
          3.6847104747810833,
          4.437915537510655,
          3.5124993219072502,
          6.368403055666768,
          1.8314007411218047,
          4.558728529883879,
          3.3271982626035355,
          4.271920154836675,
          3.9413071516992457,
          2.7668438028900035,
          3.72899639245934,
          1.6420985486017128,
          4.103247500571394,
          3.7981584659905256,
          4.138660168643103,
          4.55811832508715,
          3.867619840209711,
          3.6480894197982763,
          2.618931663338708,
          2.787779236350949,
          4.686734620177331,
          4.936335405705979,
          3.261889563687946,
          3.546002747253274,
          2.5953856250062337,
          4.672756845267445,
          4.165416823691778,
          5.441217436463749,
          2.621676922820261,
          3.1219921009817826,
          3.7314459225255723,
          4.1464895377257704,
          3.2843323624523677,
          2.6270389095462994,
          4.381407528923571,
          4.221135362545581,
          2.583725899436275,
          4.855442801105496,
          4.670198709196604,
          3.6342964972477927,
          3.5795978623760365,
          4.054057771115907,
          2.638296929743742,
          3.5300314791640823,
          1.3476164553908196,
          4.3764556455029355,
          1.9385067775581406,
          5.003419828428999,
          3.16987990603355,
          3.288333018068823,
          2.8722660939154943,
          3.2119611260779237,
          4.918531345148036,
          1.0121913434649206,
          4.776965386088188,
          3.838023481101708,
          2.2929783521427844,
          2.424687606950762,
          5.176393027208203,
          2.554493120057269,
          2.3466494894040406,
          4.637314542364729,
          3.838552876285914,
          2.562074423463601,
          3.716624975404619,
          2.4742473163597225,
          4.600821398422605,
          4.5613709648731335,
          4.032006198821943,
          3.8616610612470166,
          5.261188124867374,
          3.4996863273882255,
          2.3181258745791986,
          3.949473912832307,
          5.586047049537114,
          2.485240506814148,
          3.1385372333060144,
          3.9164460381014528,
          3.446095150994261,
          2.5176964196226854,
          4.621857856230471,
          5.820040722017259,
          3.696131459023907,
          2.595931710264,
          1.951039474946525,
          3.757975981221181,
          4.603877343316258,
          3.975167746495382,
          3.497596159081146,
          2.910728348210694,
          2.4078363672819103,
          4.3347513263248825,
          4.413771621385585,
          1.9542702133092669,
          5.089838978180683,
          4.074071220894002,
          4.899594645145793,
          2.1578722515148847,
          2.1341758445845613,
          3.351030690232703,
          4.002784426895194,
          5.296360822926964,
          4.206078913815132,
          3.2573187231879666,
          2.4736307923341077,
          4.73000057271915,
          2.535294574249285,
          5.128468554772322,
          3.215615350393491,
          5.090582072617851,
          4.178931290059278,
          3.3630045105575417,
          2.9806036281738733,
          3.15909212265392,
          3.9283166923752377,
          3.5771564962177167,
          2.906188591931295,
          3.334368589682368,
          3.57857702971915,
          1.371265905585188,
          3.9581681147886987,
          2.5202787752831934,
          2.346667596794255,
          1.8126556528892896,
          1.7061075021321097,
          2.1445524968877105,
          2.7909790423695098,
          5.453259137526568,
          2.974120324104796,
          3.6777501062680313,
          3.900481386506329,
          3.6310651862158485,
          3.4225565392740065,
          2.3047062364007553,
          4.950927548279212,
          5.3071966436378855,
          1.8173413058773142,
          2.4759714091136207,
          3.220189657622994,
          2.5354622050898086,
          4.005965553455865,
          2.771727797593387,
          5.665056067806603,
          4.690548594343596,
          3.712574030632215,
          4.526986263319732,
          4.6059004243573085,
          2.9360525119417566,
          2.683782755458035,
          3.5781430629696476,
          4.361636124497944,
          3.6390603986534176,
          1.9230035178090028,
          2.6971755560491575,
          3.426027136405622,
          3.42433439567417,
          5.472542176789808,
          2.114012057601002,
          4.0055892418358745,
          4.98911310832829,
          5.771449745422796,
          3.095602576816039,
          3.9914294527201997,
          4.069760357198647,
          3.695481731553291,
          3.401154798760694,
          3.935975389500046,
          0.9677539147803147,
          4.182069490062632,
          3.6261779036619672,
          3.2775251032217345,
          5.546862195719558,
          2.825065981209448,
          3.0969240109349694,
          5.491553302204734,
          2.667938695150143,
          2.949884717063461,
          3.35297457656915,
          4.340734482129549,
          3.707802507353313,
          2.2073746528477374,
          2.9678314368728103,
          2.8926455667877886,
          3.4227789547769545,
          3.9258436586298293,
          3.918205755887972,
          1.7239882459515978,
          4.563940987560856,
          3.7525688459966235,
          4.884532047593906,
          3.944198327290672,
          4.601322957735762,
          3.966545311450127,
          4.846225756202748,
          4.0222506360177785,
          3.402084753557096,
          5.772434720446881,
          4.389037122279892,
          4.073744421004413,
          2.223695583461664,
          2.2116923825364623,
          3.7927154821418534,
          3.645521197768241,
          2.885877434991684,
          3.64098269961206,
          5.088626928043595,
          4.195402474550299,
          2.358991490247262,
          3.3884911728570564,
          2.6950335191474393,
          3.112300083591439,
          3.0863843343703574,
          3.0223544173959946,
          2.244864628026605,
          3.37234531848181,
          2.93939236315269,
          0.570551309997732,
          5.552972024501663,
          4.588769654216672,
          3.123699275075004,
          3.5188190497405984,
          2.3283456526824384,
          5.195722877810866,
          5.397288694773112,
          3.6566937282465246,
          4.523530644185344,
          3.675286778933924,
          2.1632745611240694,
          3.0881766310363425,
          3.631927966771957,
          3.045452281256556,
          3.281346722564964,
          3.4086004424908856,
          3.419121502134539,
          3.552258490497483,
          2.439394933603399,
          2.7829838508720637,
          2.2154157343000307,
          4.4778155496862,
          1.3943530581596755,
          4.6535903433169254,
          4.886349397262843,
          3.1978194130173785,
          0.8968629121727014,
          3.1386894380327095,
          3.435815838711181,
          2.489401780071087,
          2.984781606191757,
          5.0301951988633515,
          4.1649271623017405,
          2.5754358856219,
          1.9024008304045679,
          3.172982682390229,
          3.2865432206495617,
          3.9961991873633163,
          2.964683287432341,
          4.011499575361862,
          5.43515404006023,
          4.315501022444263,
          3.4519114926692276,
          3.3168495289467055,
          3.1433268658201285,
          4.680640912452144,
          2.872686554048697,
          3.5452227089999826,
          3.5511979018810855,
          2.998215807188468,
          2.127534452115899,
          3.8229745036176683,
          3.4389960281446164,
          4.000240469436569,
          2.966399693560833,
          4.720821298813048,
          2.6232262187881554,
          5.212040284017893,
          1.7523634901717384,
          3.9347700645568913,
          3.9754306825266235,
          2.7044429320591177,
          3.9243939378610126,
          4.779518669760159,
          1.2831811606459356,
          4.0027448074908145,
          1.0067291796699225,
          2.5343351964767917,
          5.129166364900945,
          2.918217966607946,
          2.3261200355910274,
          3.302062271015318,
          5.567906338163552,
          1.6683177527939739,
          2.4486900883606557,
          4.997431683179626,
          5.357702343537732,
          3.3965687757097163,
          2.2609472974733578,
          5.595843501809159,
          5.0944423917491966,
          4.178946987762233,
          2.68759765106258,
          3.450970659161963,
          3.3396399189551693,
          3.8308513046155777,
          4.951001438131336,
          4.379417041137403,
          2.4226239230152418,
          4.876496450019538,
          3.8131321400131553,
          4.187065795858916,
          4.966540859278603,
          2.388419750486449,
          3.4641744212935373,
          2.9685454486407847,
          1.9321405746345441,
          3.84670997760492,
          6.011556551584423,
          1.6599222554942472,
          3.46771938895053,
          4.140542935074773,
          3.623078201656181,
          3.3868719474842597,
          2.200783636554176,
          3.7327867429401635,
          2.7432360229840738,
          1.3100782950214467,
          4.694592220513731,
          4.458385819842042,
          3.5516609768510796,
          3.7290746882057024,
          4.574318012715562,
          3.7243396567780827,
          4.404017554761315,
          3.20251779912615,
          4.811983738573947,
          3.820785725932684,
          3.694051943605874,
          2.229938911287968,
          3.786955854301709,
          2.668045082505549,
          2.861717273471506,
          2.6846243716838787,
          2.433765068100775,
          5.624771403016961,
          4.831339061988404,
          5.420367502144261,
          2.2771049804444363,
          3.5712537499108925,
          2.2064923747959044,
          2.804305122802936,
          2.581873016583425,
          4.739584006441562,
          3.10377032189824,
          4.568379333694017,
          4.104120889588518,
          5.8036387521047885,
          2.020555776860276,
          4.7592332397867985,
          4.646440870400728,
          2.5266211619729653,
          4.50713333647316,
          3.836144963026229,
          3.272523740046592,
          2.6760645130280003,
          2.780890548550814,
          5.549812095785926,
          3.5006828189574826,
          4.282130001531459,
          2.709100618332447,
          2.720147053778361,
          4.581984809249942,
          2.150423788448468,
          3.0847862320947286,
          3.534027411072232,
          3.6113726018400523,
          3.3209067149838436,
          3.895819781095923,
          4.192855755817812,
          4.23463754545933,
          2.5141961913321733,
          3.2158449020712028,
          4.694762861876938,
          4.394647187573872,
          2.127140548518936,
          3.8514799003522016,
          1.5217747506251897,
          3.5469349020603698,
          5.397767016745977,
          2.5521072827310136,
          2.665676954508418,
          4.26402978157286,
          1.957198484790354,
          2.867244970114961,
          4.096441137581753,
          2.8657141523105967,
          3.2640300127890285,
          4.244185710315034,
          3.9215460835365614,
          3.766818396295402,
          3.160877720729961,
          3.8700611152689555,
          3.3762673199002435,
          3.9578056099257846,
          3.003067974882022,
          3.3174310256204587,
          2.5100422074479862,
          3.464992389993764,
          2.688999136371155,
          2.385953549838007,
          3.758661147855388,
          3.7127397758576604,
          4.282873734948573,
          3.068874430424901,
          3.908052846836756,
          4.050797572273663,
          3.9447738078315946,
          2.674346317197858,
          3.649363482271189,
          3.8641402960546616,
          3.5071784669079418,
          1.4135223416289153,
          3.66048962397348,
          5.712531039397242,
          3.139960731243017,
          2.771922902144679,
          3.873348559711398,
          3.8123782104665715,
          4.692735165416415,
          2.242131844091112,
          4.231380252574993,
          4.090422061251464,
          3.357853463059454,
          3.83868731792169,
          4.5294574815983575,
          4.37231538002845,
          2.3569806879262716,
          4.320158186755484,
          3.4353113949674814,
          3.5728740980155154,
          3.5731969910016943,
          3.34975701120174,
          4.691707497107065,
          3.416282040150788,
          2.3804538716168313,
          3.106470144030271,
          3.6786947168104756,
          4.72921478429705,
          4.103094684948833,
          2.649464721252956,
          5.985189916678891,
          3.7647753109779796,
          4.775390737999015,
          3.3482855664227706,
          4.03335924470545,
          4.339468504518405,
          4.718194711754256,
          4.557368305378225,
          4.372197000072978,
          3.184913268805891,
          2.9282539580439386,
          3.8326075103241974,
          4.433128072341069,
          3.277279299223393,
          4.565171965714386,
          4.952616745486179,
          2.58367908092658,
          2.66307929620372,
          3.3596249410946637,
          3.807612668189196,
          2.975432986232949,
          4.852202678867144,
          3.924066861518451,
          3.5394470482407394,
          2.0640904761314722,
          2.184184183572493,
          3.7810092502818065,
          1.3674043738451638,
          4.512637409644071,
          3.3418461556276795,
          6.743092969594733,
          5.807916250616111,
          3.318550930752483,
          3.393662997468685,
          4.49558151400203,
          5.203172609918038,
          1.8619709425639832,
          1.7136245346453134,
          2.8779651944456184,
          4.082737583173865,
          3.996873590507597,
          4.56977145498385,
          2.3003024716346916,
          1.1838561370311234,
          4.358014195302145,
          2.6718037270347654,
          1.481512135611362,
          3.6450637459593818,
          4.293175688218677,
          3.3779428678787227,
          3.0421516138175106,
          3.3406377678540933,
          3.1294172375992173,
          2.151952888059833,
          2.7853193230095683,
          4.021279905013815,
          3.8216785413765,
          3.6680598059668204,
          2.5048515181466207,
          3.3184968378643327,
          1.3229349535571453,
          3.6784766638853896,
          4.928857707813568,
          2.0258678679578943,
          2.914072326682245,
          3.8291067787101296,
          4.752842634427484,
          3.0517753836998507,
          2.8077496707341036,
          1.5310768575839169,
          3.6034381293081066,
          5.542076040143744,
          3.777358461964676,
          3.4777210208162868,
          3.8220823107669855,
          3.488907996051398,
          2.6869856277398703,
          4.3232799156777055,
          3.7257615231117542,
          3.5176132519336574,
          2.52463397272175,
          4.803507931934759,
          4.16470274533311,
          2.947079162632698,
          4.501824853681937,
          3.002429161614793,
          2.717996507488963,
          2.740296882519713,
          1.7289314469119088,
          3.9715423804182057,
          1.6688551216616498,
          2.2715561687342376,
          1.4244119909214668,
          3.4139303072091067,
          3.349679539728128,
          3.173303786813636,
          2.4574223053294237,
          2.32776624656336,
          3.9643698635465743,
          2.9494480682915123
         ],
         "y0": " ",
         "yaxis": "y"
        },
        {
         "alignmentgroup": "True",
         "hovertemplate": "员工状态=%{x}<br>绩效考核分数=%{y}<extra></extra>",
         "legendgroup": "流失",
         "marker": {
          "color": "#EF553B"
         },
         "name": "流失",
         "notched": false,
         "offsetgroup": "流失",
         "orientation": "v",
         "showlegend": true,
         "type": "box",
         "x": [
          "流失",
          "流失",
          "流失",
          "流失",
          "流失",
          "流失",
          "流失",
          "流失",
          "流失",
          "流失",
          "流失",
          "流失",
          "流失",
          "流失",
          "流失",
          "流失",
          "流失",
          "流失",
          "流失",
          "流失",
          "流失",
          "流失",
          "流失",
          "流失",
          "流失",
          "流失",
          "流失",
          "流失",
          "流失",
          "流失",
          "流失",
          "流失",
          "流失",
          "流失",
          "流失",
          "流失",
          "流失",
          "流失",
          "流失",
          "流失",
          "流失",
          "流失",
          "流失",
          "流失",
          "流失",
          "流失",
          "流失",
          "流失",
          "流失",
          "流失",
          "流失",
          "流失",
          "流失",
          "流失",
          "流失",
          "流失",
          "流失",
          "流失",
          "流失",
          "流失",
          "流失",
          "流失",
          "流失",
          "流失",
          "流失",
          "流失",
          "流失",
          "流失",
          "流失",
          "流失",
          "流失",
          "流失",
          "流失",
          "流失",
          "流失",
          "流失",
          "流失",
          "流失",
          "流失",
          "流失",
          "流失",
          "流失",
          "流失",
          "流失",
          "流失",
          "流失",
          "流失",
          "流失",
          "流失",
          "流失",
          "流失",
          "流失",
          "流失",
          "流失",
          "流失",
          "流失",
          "流失",
          "流失",
          "流失",
          "流失",
          "流失",
          "流失",
          "流失",
          "流失",
          "流失",
          "流失",
          "流失",
          "流失",
          "流失",
          "流失",
          "流失",
          "流失",
          "流失",
          "流失",
          "流失",
          "流失",
          "流失",
          "流失",
          "流失",
          "流失",
          "流失",
          "流失",
          "流失",
          "流失",
          "流失",
          "流失",
          "流失",
          "流失",
          "流失",
          "流失",
          "流失",
          "流失",
          "流失",
          "流失",
          "流失",
          "流失",
          "流失",
          "流失",
          "流失",
          "流失",
          "流失",
          "流失",
          "流失",
          "流失",
          "流失",
          "流失",
          "流失",
          "流失",
          "流失",
          "流失",
          "流失",
          "流失",
          "流失",
          "流失",
          "流失",
          "流失",
          "流失",
          "流失",
          "流失",
          "流失",
          "流失",
          "流失",
          "流失",
          "流失",
          "流失",
          "流失",
          "流失",
          "流失",
          "流失",
          "流失",
          "流失",
          "流失",
          "流失",
          "流失",
          "流失",
          "流失",
          "流失",
          "流失",
          "流失",
          "流失",
          "流失",
          "流失",
          "流失",
          "流失",
          "流失",
          "流失",
          "流失",
          "流失",
          "流失",
          "流失",
          "流失",
          "流失",
          "流失",
          "流失",
          "流失",
          "流失",
          "流失",
          "流失",
          "流失",
          "流失",
          "流失",
          "流失",
          "流失",
          "流失",
          "流失",
          "流失",
          "流失",
          "流失",
          "流失",
          "流失",
          "流失",
          "流失",
          "流失",
          "流失",
          "流失",
          "流失",
          "流失",
          "流失",
          "流失",
          "流失",
          "流失",
          "流失",
          "流失",
          "流失",
          "流失",
          "流失",
          "流失",
          "流失",
          "流失",
          "流失",
          "流失",
          "流失",
          "流失",
          "流失",
          "流失",
          "流失",
          "流失",
          "流失",
          "流失",
          "流失",
          "流失",
          "流失",
          "流失",
          "流失",
          "流失",
          "流失",
          "流失",
          "流失",
          "流失",
          "流失",
          "流失"
         ],
         "x0": " ",
         "xaxis": "x",
         "y": [
          2.5300039338025426,
          2.003883335750105,
          2.8438791725258117,
          3.481426620113971,
          3.8950294658355644,
          2.7425769468916785,
          2.8870021778565658,
          2.373301691152689,
          3.2685608296252235,
          2.451571365809185,
          3.8731278132412,
          1.5141335080658886,
          2.9403703275475372,
          3.601107339191742,
          3.483834516322504,
          5.993033663980496,
          3.649800024567907,
          2.2959454031579893,
          3.204535752910927,
          1.523753666533548,
          3.219400250703239,
          2.466943942999241,
          4.2153902755601615,
          2.7504597254044647,
          3.183234084204753,
          2.6644421585955964,
          5.0388513518533316,
          2.9787572338820882,
          5.132557043479202,
          4.114151762118267,
          3.782066727335386,
          3.6687331473175195,
          3.6937972982162512,
          1.3723274206543898,
          3.0211166058492434,
          4.145157971184322,
          3.2511028165258944,
          1.8948101531964248,
          3.24759554942253,
          5.004105516255491,
          4.546891715534719,
          3.237995990633968,
          4.251449277058087,
          2.933492979631948,
          1.596128413173281,
          2.3755340118704455,
          4.862888768508197,
          3.0260069181706957,
          3.0566160206249817,
          3.000161803725119,
          5.2041365895730065,
          4.925958915362063,
          5.518780233448133,
          3.1409547895999483,
          3.5956244887470947,
          1.7833574505792087,
          4.776934426118274,
          2.132220448732065,
          3.516775563762629,
          2.2026974723671557,
          2.7111331732613038,
          2.4627375689502995,
          2.692124739324182,
          2.7608772968510213,
          2.7517312050749227,
          4.133333911780307,
          2.1951372069374795,
          3.5205414270138666,
          4.517959152305558,
          2.7868036354866037,
          2.582081109252398,
          3.069475374819749,
          4.47972520836071,
          3.4941076309533576,
          2.768785705392401,
          3.7838766511880397,
          2.1977078501635763,
          3.981359510442948,
          3.7086073077017674,
          2.992191528861116,
          2.4614142015527687,
          2.4133190777165425,
          3.83481733634591,
          4.528980502489062,
          2.662692252971205,
          3.758386703551484,
          1.212972981397931,
          2.7153822693428005,
          3.2689410671290977,
          2.390316583018166,
          2.363493625210404,
          2.6322204435311134,
          3.592192728326373,
          3.112670981593625,
          1.0617687666750277,
          1.1792998473649337,
          2.6931348221428246,
          3.757686586053552,
          0.5524951572747652,
          2.800269823848369,
          2.7737521434825787,
          4.688337778208448,
          2.914978188287136,
          3.6829889847409283,
          3.441257140087463,
          1.1694335201927992,
          4.068207216631738,
          3.515396505456288,
          3.8082686396745893,
          7.226237706436327,
          1.2158870605014114,
          5.0246966497611085,
          3.0125524805996444,
          3.5873289044030092,
          3.254487754698758,
          2.8757636666019564,
          2.730167071761241,
          3.629508735573009,
          1.7828263033283207,
          4.050579167521765,
          2.8838055951147457,
          2.169930660959642,
          2.8499871420041862,
          4.557149216862573,
          2.764664912983777,
          3.65845361820962,
          2.5690437242845263,
          4.05792184992362,
          3.985507738790204,
          5.148608833296411,
          3.1244360545007845,
          3.9686548047579064,
          3.3980675395389444,
          4.595871781863014,
          2.5811676123912695,
          4.045005312877281,
          3.1053027038833183,
          3.235811822891502,
          3.391752484448373,
          3.552240396426677,
          3.1837709568780417,
          3.5147131831705263,
          4.878118057562184,
          4.285449685615218,
          4.169154592496897,
          2.8444604739761292,
          2.4107591717716756,
          4.255300558237753,
          4.176046792529794,
          4.772670675750982,
          2.6960193740307705,
          3.0704513446396526,
          1.6605158374745657,
          2.907528893939127,
          4.296570510579447,
          2.833504620771802,
          3.9404797952008237,
          3.1094968940021883,
          3.6240570282215603,
          2.1523086101843325,
          3.385209449633901,
          0.30886402909927657,
          3.113103841838015,
          1.6695267562848597,
          4.505994516546815,
          4.077407352764511,
          3.766670981966081,
          4.82100622715938,
          2.3510834791751627,
          5.047363197915558,
          4.2321915642603845,
          3.063444712781054,
          4.435620147182944,
          2.193706487588366,
          2.475485838472326,
          2.6914102767602994,
          2.7710222919359846,
          2.243442357239747,
          4.523083067095325,
          3.041145599630168,
          3.6525049683568795,
          2.7296486335863195,
          1.4793966994514827,
          3.5700573583914217,
          1.387745024580223,
          3.231365953914531,
          1.9316849611671894,
          5.287275999230808,
          4.211362722174721,
          3.40575379127148,
          4.563706677654668,
          2.453684022534264,
          3.843479378670093,
          3.4998104337187135,
          3.5640200813336698,
          4.572353500106768,
          4.032492102779802,
          3.588723662825023,
          1.6451125637717037,
          2.339953704720536,
          3.1772910664042757,
          3.393372374276651,
          2.169796275326076,
          5.7116766755784205,
          4.816394055253573,
          3.9021183203924834,
          3.3720368612837444,
          3.087791030098848,
          2.3480815399777644,
          3.3774805185188623,
          3.5577525401427503,
          2.0582394245183755,
          3.6341764172448974,
          3.144740951175251,
          1.3921924421226088,
          2.439614989220498,
          2.8863944665783556,
          5.18768765734019,
          3.856553124533758,
          1.9645184309001085,
          3.7860362894176367,
          1.7526960110616343,
          4.382691053887073,
          2.8288753481821214,
          3.206363811260829,
          4.62579664754219,
          2.01283643141575,
          1.9028818148870086,
          2.716400673653995,
          4.338378851019316,
          1.7806539245231574,
          0.467844401889431,
          2.848841141591001,
          3.85174079991092,
          4.500261749738829,
          2.836838637914601,
          2.8885733928839974,
          4.453900734255747,
          1.4302583003045792,
          2.9114792248169907,
          3.4904238899250575,
          3.7492187212850343,
          2.790193306809117,
          3.334441011705841,
          0.8116726465870103,
          2.6417515876661515,
          3.753508712554467,
          2.3177059657453203,
          3.3589842215895973,
          3.7468725008026977,
          2.9574507991422347
         ],
         "y0": " ",
         "yaxis": "y"
        }
       ],
       "layout": {
        "boxmode": "overlay",
        "font": {
         "family": "SimHei, Arial",
         "size": 12
        },
        "legend": {
         "title": {
          "text": "员工状态"
         },
         "tracegroupgap": 0
        },
        "template": {
         "data": {
          "bar": [
           {
            "error_x": {
             "color": "#2a3f5f"
            },
            "error_y": {
             "color": "#2a3f5f"
            },
            "marker": {
             "line": {
              "color": "white",
              "width": 0.5
             },
             "pattern": {
              "fillmode": "overlay",
              "size": 10,
              "solidity": 0.2
             }
            },
            "type": "bar"
           }
          ],
          "barpolar": [
           {
            "marker": {
             "line": {
              "color": "white",
              "width": 0.5
             },
             "pattern": {
              "fillmode": "overlay",
              "size": 10,
              "solidity": 0.2
             }
            },
            "type": "barpolar"
           }
          ],
          "carpet": [
           {
            "aaxis": {
             "endlinecolor": "#2a3f5f",
             "gridcolor": "#C8D4E3",
             "linecolor": "#C8D4E3",
             "minorgridcolor": "#C8D4E3",
             "startlinecolor": "#2a3f5f"
            },
            "baxis": {
             "endlinecolor": "#2a3f5f",
             "gridcolor": "#C8D4E3",
             "linecolor": "#C8D4E3",
             "minorgridcolor": "#C8D4E3",
             "startlinecolor": "#2a3f5f"
            },
            "type": "carpet"
           }
          ],
          "choropleth": [
           {
            "colorbar": {
             "outlinewidth": 0,
             "ticks": ""
            },
            "type": "choropleth"
           }
          ],
          "contour": [
           {
            "colorbar": {
             "outlinewidth": 0,
             "ticks": ""
            },
            "colorscale": [
             [
              0,
              "#0d0887"
             ],
             [
              0.1111111111111111,
              "#46039f"
             ],
             [
              0.2222222222222222,
              "#7201a8"
             ],
             [
              0.3333333333333333,
              "#9c179e"
             ],
             [
              0.4444444444444444,
              "#bd3786"
             ],
             [
              0.5555555555555556,
              "#d8576b"
             ],
             [
              0.6666666666666666,
              "#ed7953"
             ],
             [
              0.7777777777777778,
              "#fb9f3a"
             ],
             [
              0.8888888888888888,
              "#fdca26"
             ],
             [
              1,
              "#f0f921"
             ]
            ],
            "type": "contour"
           }
          ],
          "contourcarpet": [
           {
            "colorbar": {
             "outlinewidth": 0,
             "ticks": ""
            },
            "type": "contourcarpet"
           }
          ],
          "heatmap": [
           {
            "colorbar": {
             "outlinewidth": 0,
             "ticks": ""
            },
            "colorscale": [
             [
              0,
              "#0d0887"
             ],
             [
              0.1111111111111111,
              "#46039f"
             ],
             [
              0.2222222222222222,
              "#7201a8"
             ],
             [
              0.3333333333333333,
              "#9c179e"
             ],
             [
              0.4444444444444444,
              "#bd3786"
             ],
             [
              0.5555555555555556,
              "#d8576b"
             ],
             [
              0.6666666666666666,
              "#ed7953"
             ],
             [
              0.7777777777777778,
              "#fb9f3a"
             ],
             [
              0.8888888888888888,
              "#fdca26"
             ],
             [
              1,
              "#f0f921"
             ]
            ],
            "type": "heatmap"
           }
          ],
          "heatmapgl": [
           {
            "colorbar": {
             "outlinewidth": 0,
             "ticks": ""
            },
            "colorscale": [
             [
              0,
              "#0d0887"
             ],
             [
              0.1111111111111111,
              "#46039f"
             ],
             [
              0.2222222222222222,
              "#7201a8"
             ],
             [
              0.3333333333333333,
              "#9c179e"
             ],
             [
              0.4444444444444444,
              "#bd3786"
             ],
             [
              0.5555555555555556,
              "#d8576b"
             ],
             [
              0.6666666666666666,
              "#ed7953"
             ],
             [
              0.7777777777777778,
              "#fb9f3a"
             ],
             [
              0.8888888888888888,
              "#fdca26"
             ],
             [
              1,
              "#f0f921"
             ]
            ],
            "type": "heatmapgl"
           }
          ],
          "histogram": [
           {
            "marker": {
             "pattern": {
              "fillmode": "overlay",
              "size": 10,
              "solidity": 0.2
             }
            },
            "type": "histogram"
           }
          ],
          "histogram2d": [
           {
            "colorbar": {
             "outlinewidth": 0,
             "ticks": ""
            },
            "colorscale": [
             [
              0,
              "#0d0887"
             ],
             [
              0.1111111111111111,
              "#46039f"
             ],
             [
              0.2222222222222222,
              "#7201a8"
             ],
             [
              0.3333333333333333,
              "#9c179e"
             ],
             [
              0.4444444444444444,
              "#bd3786"
             ],
             [
              0.5555555555555556,
              "#d8576b"
             ],
             [
              0.6666666666666666,
              "#ed7953"
             ],
             [
              0.7777777777777778,
              "#fb9f3a"
             ],
             [
              0.8888888888888888,
              "#fdca26"
             ],
             [
              1,
              "#f0f921"
             ]
            ],
            "type": "histogram2d"
           }
          ],
          "histogram2dcontour": [
           {
            "colorbar": {
             "outlinewidth": 0,
             "ticks": ""
            },
            "colorscale": [
             [
              0,
              "#0d0887"
             ],
             [
              0.1111111111111111,
              "#46039f"
             ],
             [
              0.2222222222222222,
              "#7201a8"
             ],
             [
              0.3333333333333333,
              "#9c179e"
             ],
             [
              0.4444444444444444,
              "#bd3786"
             ],
             [
              0.5555555555555556,
              "#d8576b"
             ],
             [
              0.6666666666666666,
              "#ed7953"
             ],
             [
              0.7777777777777778,
              "#fb9f3a"
             ],
             [
              0.8888888888888888,
              "#fdca26"
             ],
             [
              1,
              "#f0f921"
             ]
            ],
            "type": "histogram2dcontour"
           }
          ],
          "mesh3d": [
           {
            "colorbar": {
             "outlinewidth": 0,
             "ticks": ""
            },
            "type": "mesh3d"
           }
          ],
          "parcoords": [
           {
            "line": {
             "colorbar": {
              "outlinewidth": 0,
              "ticks": ""
             }
            },
            "type": "parcoords"
           }
          ],
          "pie": [
           {
            "automargin": true,
            "type": "pie"
           }
          ],
          "scatter": [
           {
            "fillpattern": {
             "fillmode": "overlay",
             "size": 10,
             "solidity": 0.2
            },
            "type": "scatter"
           }
          ],
          "scatter3d": [
           {
            "line": {
             "colorbar": {
              "outlinewidth": 0,
              "ticks": ""
             }
            },
            "marker": {
             "colorbar": {
              "outlinewidth": 0,
              "ticks": ""
             }
            },
            "type": "scatter3d"
           }
          ],
          "scattercarpet": [
           {
            "marker": {
             "colorbar": {
              "outlinewidth": 0,
              "ticks": ""
             }
            },
            "type": "scattercarpet"
           }
          ],
          "scattergeo": [
           {
            "marker": {
             "colorbar": {
              "outlinewidth": 0,
              "ticks": ""
             }
            },
            "type": "scattergeo"
           }
          ],
          "scattergl": [
           {
            "marker": {
             "colorbar": {
              "outlinewidth": 0,
              "ticks": ""
             }
            },
            "type": "scattergl"
           }
          ],
          "scattermapbox": [
           {
            "marker": {
             "colorbar": {
              "outlinewidth": 0,
              "ticks": ""
             }
            },
            "type": "scattermapbox"
           }
          ],
          "scatterpolar": [
           {
            "marker": {
             "colorbar": {
              "outlinewidth": 0,
              "ticks": ""
             }
            },
            "type": "scatterpolar"
           }
          ],
          "scatterpolargl": [
           {
            "marker": {
             "colorbar": {
              "outlinewidth": 0,
              "ticks": ""
             }
            },
            "type": "scatterpolargl"
           }
          ],
          "scatterternary": [
           {
            "marker": {
             "colorbar": {
              "outlinewidth": 0,
              "ticks": ""
             }
            },
            "type": "scatterternary"
           }
          ],
          "surface": [
           {
            "colorbar": {
             "outlinewidth": 0,
             "ticks": ""
            },
            "colorscale": [
             [
              0,
              "#0d0887"
             ],
             [
              0.1111111111111111,
              "#46039f"
             ],
             [
              0.2222222222222222,
              "#7201a8"
             ],
             [
              0.3333333333333333,
              "#9c179e"
             ],
             [
              0.4444444444444444,
              "#bd3786"
             ],
             [
              0.5555555555555556,
              "#d8576b"
             ],
             [
              0.6666666666666666,
              "#ed7953"
             ],
             [
              0.7777777777777778,
              "#fb9f3a"
             ],
             [
              0.8888888888888888,
              "#fdca26"
             ],
             [
              1,
              "#f0f921"
             ]
            ],
            "type": "surface"
           }
          ],
          "table": [
           {
            "cells": {
             "fill": {
              "color": "#EBF0F8"
             },
             "line": {
              "color": "white"
             }
            },
            "header": {
             "fill": {
              "color": "#C8D4E3"
             },
             "line": {
              "color": "white"
             }
            },
            "type": "table"
           }
          ]
         },
         "layout": {
          "annotationdefaults": {
           "arrowcolor": "#2a3f5f",
           "arrowhead": 0,
           "arrowwidth": 1
          },
          "autotypenumbers": "strict",
          "coloraxis": {
           "colorbar": {
            "outlinewidth": 0,
            "ticks": ""
           }
          },
          "colorscale": {
           "diverging": [
            [
             0,
             "#8e0152"
            ],
            [
             0.1,
             "#c51b7d"
            ],
            [
             0.2,
             "#de77ae"
            ],
            [
             0.3,
             "#f1b6da"
            ],
            [
             0.4,
             "#fde0ef"
            ],
            [
             0.5,
             "#f7f7f7"
            ],
            [
             0.6,
             "#e6f5d0"
            ],
            [
             0.7,
             "#b8e186"
            ],
            [
             0.8,
             "#7fbc41"
            ],
            [
             0.9,
             "#4d9221"
            ],
            [
             1,
             "#276419"
            ]
           ],
           "sequential": [
            [
             0,
             "#0d0887"
            ],
            [
             0.1111111111111111,
             "#46039f"
            ],
            [
             0.2222222222222222,
             "#7201a8"
            ],
            [
             0.3333333333333333,
             "#9c179e"
            ],
            [
             0.4444444444444444,
             "#bd3786"
            ],
            [
             0.5555555555555556,
             "#d8576b"
            ],
            [
             0.6666666666666666,
             "#ed7953"
            ],
            [
             0.7777777777777778,
             "#fb9f3a"
            ],
            [
             0.8888888888888888,
             "#fdca26"
            ],
            [
             1,
             "#f0f921"
            ]
           ],
           "sequentialminus": [
            [
             0,
             "#0d0887"
            ],
            [
             0.1111111111111111,
             "#46039f"
            ],
            [
             0.2222222222222222,
             "#7201a8"
            ],
            [
             0.3333333333333333,
             "#9c179e"
            ],
            [
             0.4444444444444444,
             "#bd3786"
            ],
            [
             0.5555555555555556,
             "#d8576b"
            ],
            [
             0.6666666666666666,
             "#ed7953"
            ],
            [
             0.7777777777777778,
             "#fb9f3a"
            ],
            [
             0.8888888888888888,
             "#fdca26"
            ],
            [
             1,
             "#f0f921"
            ]
           ]
          },
          "colorway": [
           "#636efa",
           "#EF553B",
           "#00cc96",
           "#ab63fa",
           "#FFA15A",
           "#19d3f3",
           "#FF6692",
           "#B6E880",
           "#FF97FF",
           "#FECB52"
          ],
          "font": {
           "color": "#2a3f5f"
          },
          "geo": {
           "bgcolor": "white",
           "lakecolor": "white",
           "landcolor": "white",
           "showlakes": true,
           "showland": true,
           "subunitcolor": "#C8D4E3"
          },
          "hoverlabel": {
           "align": "left"
          },
          "hovermode": "closest",
          "mapbox": {
           "style": "light"
          },
          "paper_bgcolor": "white",
          "plot_bgcolor": "white",
          "polar": {
           "angularaxis": {
            "gridcolor": "#EBF0F8",
            "linecolor": "#EBF0F8",
            "ticks": ""
           },
           "bgcolor": "white",
           "radialaxis": {
            "gridcolor": "#EBF0F8",
            "linecolor": "#EBF0F8",
            "ticks": ""
           }
          },
          "scene": {
           "xaxis": {
            "backgroundcolor": "white",
            "gridcolor": "#DFE8F3",
            "gridwidth": 2,
            "linecolor": "#EBF0F8",
            "showbackground": true,
            "ticks": "",
            "zerolinecolor": "#EBF0F8"
           },
           "yaxis": {
            "backgroundcolor": "white",
            "gridcolor": "#DFE8F3",
            "gridwidth": 2,
            "linecolor": "#EBF0F8",
            "showbackground": true,
            "ticks": "",
            "zerolinecolor": "#EBF0F8"
           },
           "zaxis": {
            "backgroundcolor": "white",
            "gridcolor": "#DFE8F3",
            "gridwidth": 2,
            "linecolor": "#EBF0F8",
            "showbackground": true,
            "ticks": "",
            "zerolinecolor": "#EBF0F8"
           }
          },
          "shapedefaults": {
           "line": {
            "color": "#2a3f5f"
           }
          },
          "ternary": {
           "aaxis": {
            "gridcolor": "#DFE8F3",
            "linecolor": "#A2B1C6",
            "ticks": ""
           },
           "baxis": {
            "gridcolor": "#DFE8F3",
            "linecolor": "#A2B1C6",
            "ticks": ""
           },
           "bgcolor": "white",
           "caxis": {
            "gridcolor": "#DFE8F3",
            "linecolor": "#A2B1C6",
            "ticks": ""
           }
          },
          "title": {
           "x": 0.05
          },
          "xaxis": {
           "automargin": true,
           "gridcolor": "#EBF0F8",
           "linecolor": "#EBF0F8",
           "ticks": "",
           "title": {
            "standoff": 15
           },
           "zerolinecolor": "#EBF0F8",
           "zerolinewidth": 2
          },
          "yaxis": {
           "automargin": true,
           "gridcolor": "#EBF0F8",
           "linecolor": "#EBF0F8",
           "ticks": "",
           "title": {
            "standoff": 15
           },
           "zerolinecolor": "#EBF0F8",
           "zerolinewidth": 2
          }
         }
        },
        "title": {
         "text": "流失与未流失员工绩效考核分数分布"
        },
        "xaxis": {
         "anchor": "y",
         "categoryarray": [
          "未流失",
          "流失"
         ],
         "categoryorder": "array",
         "domain": [
          0,
          1
         ],
         "title": {
          "text": "员工状态"
         }
        },
        "yaxis": {
         "anchor": "x",
         "domain": [
          0,
          1
         ],
         "title": {
          "text": "绩效考核分数"
         }
        }
       }
      },
      "text/html": [
       "<div>                            <div id=\"63ba1165-ae2a-4d50-bbde-60e2d9bd5c84\" class=\"plotly-graph-div\" style=\"height:525px; width:100%;\"></div>            <script type=\"text/javascript\">                require([\"plotly\"], function(Plotly) {                    window.PLOTLYENV=window.PLOTLYENV || {};                                    if (document.getElementById(\"63ba1165-ae2a-4d50-bbde-60e2d9bd5c84\")) {                    Plotly.newPlot(                        \"63ba1165-ae2a-4d50-bbde-60e2d9bd5c84\",                        [{\"alignmentgroup\":\"True\",\"hovertemplate\":\"\\u5458\\u5de5\\u72b6\\u6001=%{x}\\u003cbr\\u003e\\u7ee9\\u6548\\u8003\\u6838\\u5206\\u6570=%{y}\\u003cextra\\u003e\\u003c\\u002fextra\\u003e\",\"legendgroup\":\"\\u672a\\u6d41\\u5931\",\"marker\":{\"color\":\"#636efa\"},\"name\":\"\\u672a\\u6d41\\u5931\",\"notched\":false,\"offsetgroup\":\"\\u672a\\u6d41\\u5931\",\"orientation\":\"v\",\"showlegend\":true,\"x\":[\"\\u672a\\u6d41\\u5931\",\"\\u672a\\u6d41\\u5931\",\"\\u672a\\u6d41\\u5931\",\"\\u672a\\u6d41\\u5931\",\"\\u672a\\u6d41\\u5931\",\"\\u672a\\u6d41\\u5931\",\"\\u672a\\u6d41\\u5931\",\"\\u672a\\u6d41\\u5931\",\"\\u672a\\u6d41\\u5931\",\"\\u672a\\u6d41\\u5931\",\"\\u672a\\u6d41\\u5931\",\"\\u672a\\u6d41\\u5931\",\"\\u672a\\u6d41\\u5931\",\"\\u672a\\u6d41\\u5931\",\"\\u672a\\u6d41\\u5931\",\"\\u672a\\u6d41\\u5931\",\"\\u672a\\u6d41\\u5931\",\"\\u672a\\u6d41\\u5931\",\"\\u672a\\u6d41\\u5931\",\"\\u672a\\u6d41\\u5931\",\"\\u672a\\u6d41\\u5931\",\"\\u672a\\u6d41\\u5931\",\"\\u672a\\u6d41\\u5931\",\"\\u672a\\u6d41\\u5931\",\"\\u672a\\u6d41\\u5931\",\"\\u672a\\u6d41\\u5931\",\"\\u672a\\u6d41\\u5931\",\"\\u672a\\u6d41\\u5931\",\"\\u672a\\u6d41\\u5931\",\"\\u672a\\u6d41\\u5931\",\"\\u672a\\u6d41\\u5931\",\"\\u672a\\u6d41\\u5931\",\"\\u672a\\u6d41\\u5931\",\"\\u672a\\u6d41\\u5931\",\"\\u672a\\u6d41\\u5931\",\"\\u672a\\u6d41\\u5931\",\"\\u672a\\u6d41\\u5931\",\"\\u672a\\u6d41\\u5931\",\"\\u672a\\u6d41\\u5931\",\"\\u672a\\u6d41\\u5931\",\"\\u672a\\u6d41\\u5931\",\"\\u672a\\u6d41\\u5931\",\"\\u672a\\u6d41\\u5931\",\"\\u672a\\u6d41\\u5931\",\"\\u672a\\u6d41\\u5931\",\"\\u672a\\u6d41\\u5931\",\"\\u672a\\u6d41\\u5931\",\"\\u672a\\u6d41\\u5931\",\"\\u672a\\u6d41\\u5931\",\"\\u672a\\u6d41\\u5931\",\"\\u672a\\u6d41\\u5931\",\"\\u672a\\u6d41\\u5931\",\"\\u672a\\u6d41\\u5931\",\"\\u672a\\u6d41\\u5931\",\"\\u672a\\u6d41\\u5931\",\"\\u672a\\u6d41\\u5931\",\"\\u672a\\u6d41\\u5931\",\"\\u672a\\u6d41\\u5931\",\"\\u672a\\u6d41\\u5931\",\"\\u672a\\u6d41\\u5931\",\"\\u672a\\u6d41\\u5931\",\"\\u672a\\u6d41\\u5931\",\"\\u672a\\u6d41\\u5931\",\"\\u672a\\u6d41\\u5931\",\"\\u672a\\u6d41\\u5931\",\"\\u672a\\u6d41\\u5931\",\"\\u672a\\u6d41\\u5931\",\"\\u672a\\u6d41\\u5931\",\"\\u672a\\u6d41\\u5931\",\"\\u672a\\u6d41\\u5931\",\"\\u672a\\u6d41\\u5931\",\"\\u672a\\u6d41\\u5931\",\"\\u672a\\u6d41\\u5931\",\"\\u672a\\u6d41\\u5931\",\"\\u672a\\u6d41\\u5931\",\"\\u672a\\u6d41\\u5931\",\"\\u672a\\u6d41\\u5931\",\"\\u672a\\u6d41\\u5931\",\"\\u672a\\u6d41\\u5931\",\"\\u672a\\u6d41\\u5931\",\"\\u672a\\u6d41\\u5931\",\"\\u672a\\u6d41\\u5931\",\"\\u672a\\u6d41\\u5931\",\"\\u672a\\u6d41\\u5931\",\"\\u672a\\u6d41\\u5931\",\"\\u672a\\u6d41\\u5931\",\"\\u672a\\u6d41\\u5931\",\"\\u672a\\u6d41\\u5931\",\"\\u672a\\u6d41\\u5931\",\"\\u672a\\u6d41\\u5931\",\"\\u672a\\u6d41\\u5931\",\"\\u672a\\u6d41\\u5931\",\"\\u672a\\u6d41\\u5931\",\"\\u672a\\u6d41\\u5931\",\"\\u672a\\u6d41\\u5931\",\"\\u672a\\u6d41\\u5931\",\"\\u672a\\u6d41\\u5931\",\"\\u672a\\u6d41\\u5931\",\"\\u672a\\u6d41\\u5931\",\"\\u672a\\u6d41\\u5931\",\"\\u672a\\u6d41\\u5931\",\"\\u672a\\u6d41\\u5931\",\"\\u672a\\u6d41\\u5931\",\"\\u672a\\u6d41\\u5931\",\"\\u672a\\u6d41\\u5931\",\"\\u672a\\u6d41\\u5931\",\"\\u672a\\u6d41\\u5931\",\"\\u672a\\u6d41\\u5931\",\"\\u672a\\u6d41\\u5931\",\"\\u672a\\u6d41\\u5931\",\"\\u672a\\u6d41\\u5931\",\"\\u672a\\u6d41\\u5931\",\"\\u672a\\u6d41\\u5931\",\"\\u672a\\u6d41\\u5931\",\"\\u672a\\u6d41\\u5931\",\"\\u672a\\u6d41\\u5931\",\"\\u672a\\u6d41\\u5931\",\"\\u672a\\u6d41\\u5931\",\"\\u672a\\u6d41\\u5931\",\"\\u672a\\u6d41\\u5931\",\"\\u672a\\u6d41\\u5931\",\"\\u672a\\u6d41\\u5931\",\"\\u672a\\u6d41\\u5931\",\"\\u672a\\u6d41\\u5931\",\"\\u672a\\u6d41\\u5931\",\"\\u672a\\u6d41\\u5931\",\"\\u672a\\u6d41\\u5931\",\"\\u672a\\u6d41\\u5931\",\"\\u672a\\u6d41\\u5931\",\"\\u672a\\u6d41\\u5931\",\"\\u672a\\u6d41\\u5931\",\"\\u672a\\u6d41\\u5931\",\"\\u672a\\u6d41\\u5931\",\"\\u672a\\u6d41\\u5931\",\"\\u672a\\u6d41\\u5931\",\"\\u672a\\u6d41\\u5931\",\"\\u672a\\u6d41\\u5931\",\"\\u672a\\u6d41\\u5931\",\"\\u672a\\u6d41\\u5931\",\"\\u672a\\u6d41\\u5931\",\"\\u672a\\u6d41\\u5931\",\"\\u672a\\u6d41\\u5931\",\"\\u672a\\u6d41\\u5931\",\"\\u672a\\u6d41\\u5931\",\"\\u672a\\u6d41\\u5931\",\"\\u672a\\u6d41\\u5931\",\"\\u672a\\u6d41\\u5931\",\"\\u672a\\u6d41\\u5931\",\"\\u672a\\u6d41\\u5931\",\"\\u672a\\u6d41\\u5931\",\"\\u672a\\u6d41\\u5931\",\"\\u672a\\u6d41\\u5931\",\"\\u672a\\u6d41\\u5931\",\"\\u672a\\u6d41\\u5931\",\"\\u672a\\u6d41\\u5931\",\"\\u672a\\u6d41\\u5931\",\"\\u672a\\u6d41\\u5931\",\"\\u672a\\u6d41\\u5931\",\"\\u672a\\u6d41\\u5931\",\"\\u672a\\u6d41\\u5931\",\"\\u672a\\u6d41\\u5931\",\"\\u672a\\u6d41\\u5931\",\"\\u672a\\u6d41\\u5931\",\"\\u672a\\u6d41\\u5931\",\"\\u672a\\u6d41\\u5931\",\"\\u672a\\u6d41\\u5931\",\"\\u672a\\u6d41\\u5931\",\"\\u672a\\u6d41\\u5931\",\"\\u672a\\u6d41\\u5931\",\"\\u672a\\u6d41\\u5931\",\"\\u672a\\u6d41\\u5931\",\"\\u672a\\u6d41\\u5931\",\"\\u672a\\u6d41\\u5931\",\"\\u672a\\u6d41\\u5931\",\"\\u672a\\u6d41\\u5931\",\"\\u672a\\u6d41\\u5931\",\"\\u672a\\u6d41\\u5931\",\"\\u672a\\u6d41\\u5931\",\"\\u672a\\u6d41\\u5931\",\"\\u672a\\u6d41\\u5931\",\"\\u672a\\u6d41\\u5931\",\"\\u672a\\u6d41\\u5931\",\"\\u672a\\u6d41\\u5931\",\"\\u672a\\u6d41\\u5931\",\"\\u672a\\u6d41\\u5931\",\"\\u672a\\u6d41\\u5931\",\"\\u672a\\u6d41\\u5931\",\"\\u672a\\u6d41\\u5931\",\"\\u672a\\u6d41\\u5931\",\"\\u672a\\u6d41\\u5931\",\"\\u672a\\u6d41\\u5931\",\"\\u672a\\u6d41\\u5931\",\"\\u672a\\u6d41\\u5931\",\"\\u672a\\u6d41\\u5931\",\"\\u672a\\u6d41\\u5931\",\"\\u672a\\u6d41\\u5931\",\"\\u672a\\u6d41\\u5931\",\"\\u672a\\u6d41\\u5931\",\"\\u672a\\u6d41\\u5931\",\"\\u672a\\u6d41\\u5931\",\"\\u672a\\u6d41\\u5931\",\"\\u672a\\u6d41\\u5931\",\"\\u672a\\u6d41\\u5931\",\"\\u672a\\u6d41\\u5931\",\"\\u672a\\u6d41\\u5931\",\"\\u672a\\u6d41\\u5931\",\"\\u672a\\u6d41\\u5931\",\"\\u672a\\u6d41\\u5931\",\"\\u672a\\u6d41\\u5931\",\"\\u672a\\u6d41\\u5931\",\"\\u672a\\u6d41\\u5931\",\"\\u672a\\u6d41\\u5931\",\"\\u672a\\u6d41\\u5931\",\"\\u672a\\u6d41\\u5931\",\"\\u672a\\u6d41\\u5931\",\"\\u672a\\u6d41\\u5931\",\"\\u672a\\u6d41\\u5931\",\"\\u672a\\u6d41\\u5931\",\"\\u672a\\u6d41\\u5931\",\"\\u672a\\u6d41\\u5931\",\"\\u672a\\u6d41\\u5931\",\"\\u672a\\u6d41\\u5931\",\"\\u672a\\u6d41\\u5931\",\"\\u672a\\u6d41\\u5931\",\"\\u672a\\u6d41\\u5931\",\"\\u672a\\u6d41\\u5931\",\"\\u672a\\u6d41\\u5931\",\"\\u672a\\u6d41\\u5931\",\"\\u672a\\u6d41\\u5931\",\"\\u672a\\u6d41\\u5931\",\"\\u672a\\u6d41\\u5931\",\"\\u672a\\u6d41\\u5931\",\"\\u672a\\u6d41\\u5931\",\"\\u672a\\u6d41\\u5931\",\"\\u672a\\u6d41\\u5931\",\"\\u672a\\u6d41\\u5931\",\"\\u672a\\u6d41\\u5931\",\"\\u672a\\u6d41\\u5931\",\"\\u672a\\u6d41\\u5931\",\"\\u672a\\u6d41\\u5931\",\"\\u672a\\u6d41\\u5931\",\"\\u672a\\u6d41\\u5931\",\"\\u672a\\u6d41\\u5931\",\"\\u672a\\u6d41\\u5931\",\"\\u672a\\u6d41\\u5931\",\"\\u672a\\u6d41\\u5931\",\"\\u672a\\u6d41\\u5931\",\"\\u672a\\u6d41\\u5931\",\"\\u672a\\u6d41\\u5931\",\"\\u672a\\u6d41\\u5931\",\"\\u672a\\u6d41\\u5931\",\"\\u672a\\u6d41\\u5931\",\"\\u672a\\u6d41\\u5931\",\"\\u672a\\u6d41\\u5931\",\"\\u672a\\u6d41\\u5931\",\"\\u672a\\u6d41\\u5931\",\"\\u672a\\u6d41\\u5931\",\"\\u672a\\u6d41\\u5931\",\"\\u672a\\u6d41\\u5931\",\"\\u672a\\u6d41\\u5931\",\"\\u672a\\u6d41\\u5931\",\"\\u672a\\u6d41\\u5931\",\"\\u672a\\u6d41\\u5931\",\"\\u672a\\u6d41\\u5931\",\"\\u672a\\u6d41\\u5931\",\"\\u672a\\u6d41\\u5931\",\"\\u672a\\u6d41\\u5931\",\"\\u672a\\u6d41\\u5931\",\"\\u672a\\u6d41\\u5931\",\"\\u672a\\u6d41\\u5931\",\"\\u672a\\u6d41\\u5931\",\"\\u672a\\u6d41\\u5931\",\"\\u672a\\u6d41\\u5931\",\"\\u672a\\u6d41\\u5931\",\"\\u672a\\u6d41\\u5931\",\"\\u672a\\u6d41\\u5931\",\"\\u672a\\u6d41\\u5931\",\"\\u672a\\u6d41\\u5931\",\"\\u672a\\u6d41\\u5931\",\"\\u672a\\u6d41\\u5931\",\"\\u672a\\u6d41\\u5931\",\"\\u672a\\u6d41\\u5931\",\"\\u672a\\u6d41\\u5931\",\"\\u672a\\u6d41\\u5931\",\"\\u672a\\u6d41\\u5931\",\"\\u672a\\u6d41\\u5931\",\"\\u672a\\u6d41\\u5931\",\"\\u672a\\u6d41\\u5931\",\"\\u672a\\u6d41\\u5931\",\"\\u672a\\u6d41\\u5931\",\"\\u672a\\u6d41\\u5931\",\"\\u672a\\u6d41\\u5931\",\"\\u672a\\u6d41\\u5931\",\"\\u672a\\u6d41\\u5931\",\"\\u672a\\u6d41\\u5931\",\"\\u672a\\u6d41\\u5931\",\"\\u672a\\u6d41\\u5931\",\"\\u672a\\u6d41\\u5931\",\"\\u672a\\u6d41\\u5931\",\"\\u672a\\u6d41\\u5931\",\"\\u672a\\u6d41\\u5931\",\"\\u672a\\u6d41\\u5931\",\"\\u672a\\u6d41\\u5931\",\"\\u672a\\u6d41\\u5931\",\"\\u672a\\u6d41\\u5931\",\"\\u672a\\u6d41\\u5931\",\"\\u672a\\u6d41\\u5931\",\"\\u672a\\u6d41\\u5931\",\"\\u672a\\u6d41\\u5931\",\"\\u672a\\u6d41\\u5931\",\"\\u672a\\u6d41\\u5931\",\"\\u672a\\u6d41\\u5931\",\"\\u672a\\u6d41\\u5931\",\"\\u672a\\u6d41\\u5931\",\"\\u672a\\u6d41\\u5931\",\"\\u672a\\u6d41\\u5931\",\"\\u672a\\u6d41\\u5931\",\"\\u672a\\u6d41\\u5931\",\"\\u672a\\u6d41\\u5931\",\"\\u672a\\u6d41\\u5931\",\"\\u672a\\u6d41\\u5931\",\"\\u672a\\u6d41\\u5931\",\"\\u672a\\u6d41\\u5931\",\"\\u672a\\u6d41\\u5931\",\"\\u672a\\u6d41\\u5931\",\"\\u672a\\u6d41\\u5931\",\"\\u672a\\u6d41\\u5931\",\"\\u672a\\u6d41\\u5931\",\"\\u672a\\u6d41\\u5931\",\"\\u672a\\u6d41\\u5931\",\"\\u672a\\u6d41\\u5931\",\"\\u672a\\u6d41\\u5931\",\"\\u672a\\u6d41\\u5931\",\"\\u672a\\u6d41\\u5931\",\"\\u672a\\u6d41\\u5931\",\"\\u672a\\u6d41\\u5931\",\"\\u672a\\u6d41\\u5931\",\"\\u672a\\u6d41\\u5931\",\"\\u672a\\u6d41\\u5931\",\"\\u672a\\u6d41\\u5931\",\"\\u672a\\u6d41\\u5931\",\"\\u672a\\u6d41\\u5931\",\"\\u672a\\u6d41\\u5931\",\"\\u672a\\u6d41\\u5931\",\"\\u672a\\u6d41\\u5931\",\"\\u672a\\u6d41\\u5931\",\"\\u672a\\u6d41\\u5931\",\"\\u672a\\u6d41\\u5931\",\"\\u672a\\u6d41\\u5931\",\"\\u672a\\u6d41\\u5931\",\"\\u672a\\u6d41\\u5931\",\"\\u672a\\u6d41\\u5931\",\"\\u672a\\u6d41\\u5931\",\"\\u672a\\u6d41\\u5931\",\"\\u672a\\u6d41\\u5931\",\"\\u672a\\u6d41\\u5931\",\"\\u672a\\u6d41\\u5931\",\"\\u672a\\u6d41\\u5931\",\"\\u672a\\u6d41\\u5931\",\"\\u672a\\u6d41\\u5931\",\"\\u672a\\u6d41\\u5931\",\"\\u672a\\u6d41\\u5931\",\"\\u672a\\u6d41\\u5931\",\"\\u672a\\u6d41\\u5931\",\"\\u672a\\u6d41\\u5931\",\"\\u672a\\u6d41\\u5931\",\"\\u672a\\u6d41\\u5931\",\"\\u672a\\u6d41\\u5931\",\"\\u672a\\u6d41\\u5931\",\"\\u672a\\u6d41\\u5931\",\"\\u672a\\u6d41\\u5931\",\"\\u672a\\u6d41\\u5931\",\"\\u672a\\u6d41\\u5931\",\"\\u672a\\u6d41\\u5931\",\"\\u672a\\u6d41\\u5931\",\"\\u672a\\u6d41\\u5931\",\"\\u672a\\u6d41\\u5931\",\"\\u672a\\u6d41\\u5931\",\"\\u672a\\u6d41\\u5931\",\"\\u672a\\u6d41\\u5931\",\"\\u672a\\u6d41\\u5931\",\"\\u672a\\u6d41\\u5931\",\"\\u672a\\u6d41\\u5931\",\"\\u672a\\u6d41\\u5931\",\"\\u672a\\u6d41\\u5931\",\"\\u672a\\u6d41\\u5931\",\"\\u672a\\u6d41\\u5931\",\"\\u672a\\u6d41\\u5931\",\"\\u672a\\u6d41\\u5931\",\"\\u672a\\u6d41\\u5931\",\"\\u672a\\u6d41\\u5931\",\"\\u672a\\u6d41\\u5931\",\"\\u672a\\u6d41\\u5931\",\"\\u672a\\u6d41\\u5931\",\"\\u672a\\u6d41\\u5931\",\"\\u672a\\u6d41\\u5931\",\"\\u672a\\u6d41\\u5931\",\"\\u672a\\u6d41\\u5931\",\"\\u672a\\u6d41\\u5931\",\"\\u672a\\u6d41\\u5931\",\"\\u672a\\u6d41\\u5931\",\"\\u672a\\u6d41\\u5931\",\"\\u672a\\u6d41\\u5931\",\"\\u672a\\u6d41\\u5931\",\"\\u672a\\u6d41\\u5931\",\"\\u672a\\u6d41\\u5931\",\"\\u672a\\u6d41\\u5931\",\"\\u672a\\u6d41\\u5931\",\"\\u672a\\u6d41\\u5931\",\"\\u672a\\u6d41\\u5931\",\"\\u672a\\u6d41\\u5931\",\"\\u672a\\u6d41\\u5931\",\"\\u672a\\u6d41\\u5931\",\"\\u672a\\u6d41\\u5931\",\"\\u672a\\u6d41\\u5931\",\"\\u672a\\u6d41\\u5931\",\"\\u672a\\u6d41\\u5931\",\"\\u672a\\u6d41\\u5931\",\"\\u672a\\u6d41\\u5931\",\"\\u672a\\u6d41\\u5931\",\"\\u672a\\u6d41\\u5931\",\"\\u672a\\u6d41\\u5931\",\"\\u672a\\u6d41\\u5931\",\"\\u672a\\u6d41\\u5931\",\"\\u672a\\u6d41\\u5931\",\"\\u672a\\u6d41\\u5931\",\"\\u672a\\u6d41\\u5931\",\"\\u672a\\u6d41\\u5931\",\"\\u672a\\u6d41\\u5931\",\"\\u672a\\u6d41\\u5931\",\"\\u672a\\u6d41\\u5931\",\"\\u672a\\u6d41\\u5931\",\"\\u672a\\u6d41\\u5931\",\"\\u672a\\u6d41\\u5931\",\"\\u672a\\u6d41\\u5931\",\"\\u672a\\u6d41\\u5931\",\"\\u672a\\u6d41\\u5931\",\"\\u672a\\u6d41\\u5931\",\"\\u672a\\u6d41\\u5931\",\"\\u672a\\u6d41\\u5931\",\"\\u672a\\u6d41\\u5931\",\"\\u672a\\u6d41\\u5931\",\"\\u672a\\u6d41\\u5931\",\"\\u672a\\u6d41\\u5931\",\"\\u672a\\u6d41\\u5931\",\"\\u672a\\u6d41\\u5931\",\"\\u672a\\u6d41\\u5931\",\"\\u672a\\u6d41\\u5931\",\"\\u672a\\u6d41\\u5931\",\"\\u672a\\u6d41\\u5931\",\"\\u672a\\u6d41\\u5931\",\"\\u672a\\u6d41\\u5931\",\"\\u672a\\u6d41\\u5931\",\"\\u672a\\u6d41\\u5931\",\"\\u672a\\u6d41\\u5931\",\"\\u672a\\u6d41\\u5931\",\"\\u672a\\u6d41\\u5931\",\"\\u672a\\u6d41\\u5931\",\"\\u672a\\u6d41\\u5931\",\"\\u672a\\u6d41\\u5931\",\"\\u672a\\u6d41\\u5931\",\"\\u672a\\u6d41\\u5931\",\"\\u672a\\u6d41\\u5931\",\"\\u672a\\u6d41\\u5931\",\"\\u672a\\u6d41\\u5931\",\"\\u672a\\u6d41\\u5931\",\"\\u672a\\u6d41\\u5931\",\"\\u672a\\u6d41\\u5931\",\"\\u672a\\u6d41\\u5931\",\"\\u672a\\u6d41\\u5931\",\"\\u672a\\u6d41\\u5931\",\"\\u672a\\u6d41\\u5931\",\"\\u672a\\u6d41\\u5931\",\"\\u672a\\u6d41\\u5931\",\"\\u672a\\u6d41\\u5931\",\"\\u672a\\u6d41\\u5931\",\"\\u672a\\u6d41\\u5931\",\"\\u672a\\u6d41\\u5931\",\"\\u672a\\u6d41\\u5931\",\"\\u672a\\u6d41\\u5931\",\"\\u672a\\u6d41\\u5931\",\"\\u672a\\u6d41\\u5931\",\"\\u672a\\u6d41\\u5931\",\"\\u672a\\u6d41\\u5931\",\"\\u672a\\u6d41\\u5931\",\"\\u672a\\u6d41\\u5931\",\"\\u672a\\u6d41\\u5931\",\"\\u672a\\u6d41\\u5931\",\"\\u672a\\u6d41\\u5931\",\"\\u672a\\u6d41\\u5931\",\"\\u672a\\u6d41\\u5931\",\"\\u672a\\u6d41\\u5931\",\"\\u672a\\u6d41\\u5931\",\"\\u672a\\u6d41\\u5931\",\"\\u672a\\u6d41\\u5931\",\"\\u672a\\u6d41\\u5931\",\"\\u672a\\u6d41\\u5931\",\"\\u672a\\u6d41\\u5931\",\"\\u672a\\u6d41\\u5931\",\"\\u672a\\u6d41\\u5931\",\"\\u672a\\u6d41\\u5931\",\"\\u672a\\u6d41\\u5931\",\"\\u672a\\u6d41\\u5931\",\"\\u672a\\u6d41\\u5931\",\"\\u672a\\u6d41\\u5931\",\"\\u672a\\u6d41\\u5931\",\"\\u672a\\u6d41\\u5931\",\"\\u672a\\u6d41\\u5931\",\"\\u672a\\u6d41\\u5931\",\"\\u672a\\u6d41\\u5931\",\"\\u672a\\u6d41\\u5931\",\"\\u672a\\u6d41\\u5931\",\"\\u672a\\u6d41\\u5931\",\"\\u672a\\u6d41\\u5931\",\"\\u672a\\u6d41\\u5931\",\"\\u672a\\u6d41\\u5931\",\"\\u672a\\u6d41\\u5931\",\"\\u672a\\u6d41\\u5931\",\"\\u672a\\u6d41\\u5931\",\"\\u672a\\u6d41\\u5931\",\"\\u672a\\u6d41\\u5931\",\"\\u672a\\u6d41\\u5931\",\"\\u672a\\u6d41\\u5931\",\"\\u672a\\u6d41\\u5931\",\"\\u672a\\u6d41\\u5931\",\"\\u672a\\u6d41\\u5931\",\"\\u672a\\u6d41\\u5931\",\"\\u672a\\u6d41\\u5931\",\"\\u672a\\u6d41\\u5931\",\"\\u672a\\u6d41\\u5931\",\"\\u672a\\u6d41\\u5931\",\"\\u672a\\u6d41\\u5931\",\"\\u672a\\u6d41\\u5931\",\"\\u672a\\u6d41\\u5931\",\"\\u672a\\u6d41\\u5931\",\"\\u672a\\u6d41\\u5931\",\"\\u672a\\u6d41\\u5931\",\"\\u672a\\u6d41\\u5931\",\"\\u672a\\u6d41\\u5931\",\"\\u672a\\u6d41\\u5931\",\"\\u672a\\u6d41\\u5931\",\"\\u672a\\u6d41\\u5931\",\"\\u672a\\u6d41\\u5931\",\"\\u672a\\u6d41\\u5931\",\"\\u672a\\u6d41\\u5931\",\"\\u672a\\u6d41\\u5931\",\"\\u672a\\u6d41\\u5931\",\"\\u672a\\u6d41\\u5931\",\"\\u672a\\u6d41\\u5931\",\"\\u672a\\u6d41\\u5931\",\"\\u672a\\u6d41\\u5931\",\"\\u672a\\u6d41\\u5931\",\"\\u672a\\u6d41\\u5931\",\"\\u672a\\u6d41\\u5931\",\"\\u672a\\u6d41\\u5931\",\"\\u672a\\u6d41\\u5931\",\"\\u672a\\u6d41\\u5931\",\"\\u672a\\u6d41\\u5931\",\"\\u672a\\u6d41\\u5931\",\"\\u672a\\u6d41\\u5931\",\"\\u672a\\u6d41\\u5931\",\"\\u672a\\u6d41\\u5931\",\"\\u672a\\u6d41\\u5931\",\"\\u672a\\u6d41\\u5931\",\"\\u672a\\u6d41\\u5931\",\"\\u672a\\u6d41\\u5931\",\"\\u672a\\u6d41\\u5931\",\"\\u672a\\u6d41\\u5931\",\"\\u672a\\u6d41\\u5931\",\"\\u672a\\u6d41\\u5931\",\"\\u672a\\u6d41\\u5931\",\"\\u672a\\u6d41\\u5931\",\"\\u672a\\u6d41\\u5931\",\"\\u672a\\u6d41\\u5931\",\"\\u672a\\u6d41\\u5931\",\"\\u672a\\u6d41\\u5931\",\"\\u672a\\u6d41\\u5931\",\"\\u672a\\u6d41\\u5931\",\"\\u672a\\u6d41\\u5931\",\"\\u672a\\u6d41\\u5931\",\"\\u672a\\u6d41\\u5931\",\"\\u672a\\u6d41\\u5931\",\"\\u672a\\u6d41\\u5931\",\"\\u672a\\u6d41\\u5931\",\"\\u672a\\u6d41\\u5931\",\"\\u672a\\u6d41\\u5931\",\"\\u672a\\u6d41\\u5931\",\"\\u672a\\u6d41\\u5931\",\"\\u672a\\u6d41\\u5931\",\"\\u672a\\u6d41\\u5931\",\"\\u672a\\u6d41\\u5931\",\"\\u672a\\u6d41\\u5931\",\"\\u672a\\u6d41\\u5931\",\"\\u672a\\u6d41\\u5931\",\"\\u672a\\u6d41\\u5931\",\"\\u672a\\u6d41\\u5931\",\"\\u672a\\u6d41\\u5931\",\"\\u672a\\u6d41\\u5931\",\"\\u672a\\u6d41\\u5931\",\"\\u672a\\u6d41\\u5931\",\"\\u672a\\u6d41\\u5931\",\"\\u672a\\u6d41\\u5931\",\"\\u672a\\u6d41\\u5931\",\"\\u672a\\u6d41\\u5931\",\"\\u672a\\u6d41\\u5931\",\"\\u672a\\u6d41\\u5931\",\"\\u672a\\u6d41\\u5931\",\"\\u672a\\u6d41\\u5931\",\"\\u672a\\u6d41\\u5931\",\"\\u672a\\u6d41\\u5931\",\"\\u672a\\u6d41\\u5931\",\"\\u672a\\u6d41\\u5931\",\"\\u672a\\u6d41\\u5931\",\"\\u672a\\u6d41\\u5931\",\"\\u672a\\u6d41\\u5931\",\"\\u672a\\u6d41\\u5931\",\"\\u672a\\u6d41\\u5931\",\"\\u672a\\u6d41\\u5931\",\"\\u672a\\u6d41\\u5931\",\"\\u672a\\u6d41\\u5931\",\"\\u672a\\u6d41\\u5931\",\"\\u672a\\u6d41\\u5931\",\"\\u672a\\u6d41\\u5931\",\"\\u672a\\u6d41\\u5931\",\"\\u672a\\u6d41\\u5931\",\"\\u672a\\u6d41\\u5931\",\"\\u672a\\u6d41\\u5931\",\"\\u672a\\u6d41\\u5931\",\"\\u672a\\u6d41\\u5931\",\"\\u672a\\u6d41\\u5931\",\"\\u672a\\u6d41\\u5931\",\"\\u672a\\u6d41\\u5931\",\"\\u672a\\u6d41\\u5931\",\"\\u672a\\u6d41\\u5931\",\"\\u672a\\u6d41\\u5931\",\"\\u672a\\u6d41\\u5931\",\"\\u672a\\u6d41\\u5931\",\"\\u672a\\u6d41\\u5931\",\"\\u672a\\u6d41\\u5931\",\"\\u672a\\u6d41\\u5931\",\"\\u672a\\u6d41\\u5931\",\"\\u672a\\u6d41\\u5931\",\"\\u672a\\u6d41\\u5931\",\"\\u672a\\u6d41\\u5931\",\"\\u672a\\u6d41\\u5931\",\"\\u672a\\u6d41\\u5931\",\"\\u672a\\u6d41\\u5931\",\"\\u672a\\u6d41\\u5931\",\"\\u672a\\u6d41\\u5931\",\"\\u672a\\u6d41\\u5931\",\"\\u672a\\u6d41\\u5931\",\"\\u672a\\u6d41\\u5931\",\"\\u672a\\u6d41\\u5931\",\"\\u672a\\u6d41\\u5931\",\"\\u672a\\u6d41\\u5931\",\"\\u672a\\u6d41\\u5931\",\"\\u672a\\u6d41\\u5931\",\"\\u672a\\u6d41\\u5931\",\"\\u672a\\u6d41\\u5931\",\"\\u672a\\u6d41\\u5931\",\"\\u672a\\u6d41\\u5931\",\"\\u672a\\u6d41\\u5931\",\"\\u672a\\u6d41\\u5931\",\"\\u672a\\u6d41\\u5931\",\"\\u672a\\u6d41\\u5931\",\"\\u672a\\u6d41\\u5931\",\"\\u672a\\u6d41\\u5931\",\"\\u672a\\u6d41\\u5931\",\"\\u672a\\u6d41\\u5931\",\"\\u672a\\u6d41\\u5931\",\"\\u672a\\u6d41\\u5931\",\"\\u672a\\u6d41\\u5931\",\"\\u672a\\u6d41\\u5931\",\"\\u672a\\u6d41\\u5931\",\"\\u672a\\u6d41\\u5931\",\"\\u672a\\u6d41\\u5931\",\"\\u672a\\u6d41\\u5931\",\"\\u672a\\u6d41\\u5931\",\"\\u672a\\u6d41\\u5931\",\"\\u672a\\u6d41\\u5931\",\"\\u672a\\u6d41\\u5931\",\"\\u672a\\u6d41\\u5931\",\"\\u672a\\u6d41\\u5931\",\"\\u672a\\u6d41\\u5931\",\"\\u672a\\u6d41\\u5931\",\"\\u672a\\u6d41\\u5931\",\"\\u672a\\u6d41\\u5931\",\"\\u672a\\u6d41\\u5931\",\"\\u672a\\u6d41\\u5931\",\"\\u672a\\u6d41\\u5931\",\"\\u672a\\u6d41\\u5931\",\"\\u672a\\u6d41\\u5931\",\"\\u672a\\u6d41\\u5931\",\"\\u672a\\u6d41\\u5931\",\"\\u672a\\u6d41\\u5931\",\"\\u672a\\u6d41\\u5931\",\"\\u672a\\u6d41\\u5931\",\"\\u672a\\u6d41\\u5931\",\"\\u672a\\u6d41\\u5931\",\"\\u672a\\u6d41\\u5931\",\"\\u672a\\u6d41\\u5931\",\"\\u672a\\u6d41\\u5931\",\"\\u672a\\u6d41\\u5931\",\"\\u672a\\u6d41\\u5931\",\"\\u672a\\u6d41\\u5931\",\"\\u672a\\u6d41\\u5931\",\"\\u672a\\u6d41\\u5931\",\"\\u672a\\u6d41\\u5931\",\"\\u672a\\u6d41\\u5931\",\"\\u672a\\u6d41\\u5931\",\"\\u672a\\u6d41\\u5931\",\"\\u672a\\u6d41\\u5931\",\"\\u672a\\u6d41\\u5931\",\"\\u672a\\u6d41\\u5931\",\"\\u672a\\u6d41\\u5931\",\"\\u672a\\u6d41\\u5931\",\"\\u672a\\u6d41\\u5931\",\"\\u672a\\u6d41\\u5931\",\"\\u672a\\u6d41\\u5931\",\"\\u672a\\u6d41\\u5931\",\"\\u672a\\u6d41\\u5931\",\"\\u672a\\u6d41\\u5931\",\"\\u672a\\u6d41\\u5931\",\"\\u672a\\u6d41\\u5931\",\"\\u672a\\u6d41\\u5931\",\"\\u672a\\u6d41\\u5931\",\"\\u672a\\u6d41\\u5931\",\"\\u672a\\u6d41\\u5931\",\"\\u672a\\u6d41\\u5931\",\"\\u672a\\u6d41\\u5931\",\"\\u672a\\u6d41\\u5931\",\"\\u672a\\u6d41\\u5931\",\"\\u672a\\u6d41\\u5931\",\"\\u672a\\u6d41\\u5931\",\"\\u672a\\u6d41\\u5931\",\"\\u672a\\u6d41\\u5931\",\"\\u672a\\u6d41\\u5931\",\"\\u672a\\u6d41\\u5931\",\"\\u672a\\u6d41\\u5931\",\"\\u672a\\u6d41\\u5931\",\"\\u672a\\u6d41\\u5931\",\"\\u672a\\u6d41\\u5931\",\"\\u672a\\u6d41\\u5931\",\"\\u672a\\u6d41\\u5931\",\"\\u672a\\u6d41\\u5931\",\"\\u672a\\u6d41\\u5931\",\"\\u672a\\u6d41\\u5931\",\"\\u672a\\u6d41\\u5931\",\"\\u672a\\u6d41\\u5931\"],\"x0\":\" \",\"xaxis\":\"x\",\"y\":[3.670463770996571,2.5372674347153876,3.2933887203039536,4.110216169589222,3.6569729609684343,2.9134687304360645,3.724216404290793,4.214609790636618,1.450058721422522,4.659074064955898,3.163745261318928,3.92548993324023,4.697246923645228,2.1283263027695343,2.7905589975724534,3.2114513041242954,2.7162464788755716,5.234936575836809,2.643227906173207,2.9444532205131333,3.7043890316029766,2.297850473923911,3.1043192882437363,3.8174532612501753,3.167139595617489,3.4066131411000518,2.9706678875516292,1.985529690819233,3.8215932113392386,5.254933071647241,3.5184016307834383,3.7252641172475496,4.1927227551168595,2.230669503453301,5.202514658129606,3.702328796422802,5.131856899089109,2.766967004476011,5.318061922557825,4.275155494034783,4.053040085852358,3.734024454353148,3.2514713819255507,4.7005316584738726,3.640359869848047,1.5329302964128477,2.3828135382929974,3.3141542478072528,3.809998983165555,3.4434115111001042,4.718970789793663,1.5488981359613752,3.64358793650516,1.6820207746128453,4.259712295484168,3.405541285557997,3.919609972024118,2.636117039410234,4.779464931657751,4.541724664058851,4.083544303011887,3.3704827531365593,4.079857285295132,2.793107432012651,4.3555556590207125,5.149480894323921,4.570610559979186,2.7703975301925903,3.861417317273103,2.2068584562413522,4.072390311175676,3.950603412862539,1.630183660467836,2.338216156087636,3.2168611032562326,3.199140252859174,2.290523064581195,3.888978729352184,3.751473608940512,3.3057308680214805,2.744208499841637,4.548707126416564,5.1554071130882955,3.016438516153463,2.8878330828451793,3.9912076654119963,3.141970620253014,3.3606027993367658,4.239653151724672,1.5906439124927072,4.818302324852669,3.5726805243293414,3.08850685543782,3.4107658457785512,3.4624293550205185,1.7687986965550746,4.994938227453236,3.5413256322706186,3.943002130447375,4.451549770574043,2.4788375424397,3.9734718990352285,3.2323589091012064,4.346770775216494,1.3727725796485046,3.400905699758731,2.8971793442160383,3.9322629506341555,3.970044187368202,2.792374105177974,2.7878261358239564,3.3893346314426704,2.6033577726847916,4.341983695452127,3.130792799552554,0.5930117806783586,3.125177943378194,2.461456179156028,1.8687241845390545,2.2625733617774273,3.60940847183297,4.828640828248231,3.81318447386498,2.8934966117842604,3.9559041951707026,3.0409096897810084,2.805399630836855,2.3456373317670156,1.7481711932482809,3.110076293440555,3.658053489920132,3.40337632998511,3.0840330720526414,2.554253939303219,4.108246191684969,2.182868080053415,4.276027913843476,2.497782981073275,2.747564762646965,2.033214809384323,2.9985978531143633,4.475312458477979,4.015628088443957,4.478422112028035,4.022142545933936,2.396330171469631,3.169210775672443,2.7198008708825374,4.83057490403904,2.3032113535736887,4.393697689389111,4.392953870108769,5.329620201716088,3.0903134073705028,4.212322159580162,5.781651836538843,2.8823583230663035,1.9649597524676403,1.6199899660922363,4.212712028861331,1.6168497919414162,3.127680947062077,3.937313187038961,3.685175536829914,3.9254448641841724,3.722289855800854,4.778865813313393,2.547683619261203,2.8230048615414685,2.7273405547291762,4.33019181186261,4.400398588395063,3.951225319318508,4.683493666889928,2.3219591326236193,5.167224111551137,5.023238621712258,4.2356219972457465,5.28179890877106,1.8433767923222262,2.975551863737348,2.764696539318048,4.221479323757343,2.4498592603978544,4.257495149337485,4.870536143996714,4.195202900083999,3.7837510236615013,2.512126659099251,2.6531490338746355,4.749618905296667,4.279349003905333,3.460980480622456,3.0820904542341094,1.4741921268886231,2.4291475813155614,5.411419087139723,2.2195444289975335,3.689479821221081,4.5074439731951985,2.2450773319977078,3.6847104747810833,4.437915537510655,3.5124993219072502,6.368403055666768,1.8314007411218047,4.558728529883879,3.3271982626035355,4.271920154836675,3.9413071516992457,2.7668438028900035,3.72899639245934,1.6420985486017128,4.103247500571394,3.7981584659905256,4.138660168643103,4.55811832508715,3.867619840209711,3.6480894197982763,2.618931663338708,2.787779236350949,4.686734620177331,4.936335405705979,3.261889563687946,3.546002747253274,2.5953856250062337,4.672756845267445,4.165416823691778,5.441217436463749,2.621676922820261,3.1219921009817826,3.7314459225255723,4.1464895377257704,3.2843323624523677,2.6270389095462994,4.381407528923571,4.221135362545581,2.583725899436275,4.855442801105496,4.670198709196604,3.6342964972477927,3.5795978623760365,4.054057771115907,2.638296929743742,3.5300314791640823,1.3476164553908196,4.3764556455029355,1.9385067775581406,5.003419828428999,3.16987990603355,3.288333018068823,2.8722660939154943,3.2119611260779237,4.918531345148036,1.0121913434649206,4.776965386088188,3.838023481101708,2.2929783521427844,2.424687606950762,5.176393027208203,2.554493120057269,2.3466494894040406,4.637314542364729,3.838552876285914,2.562074423463601,3.716624975404619,2.4742473163597225,4.600821398422605,4.5613709648731335,4.032006198821943,3.8616610612470166,5.261188124867374,3.4996863273882255,2.3181258745791986,3.949473912832307,5.586047049537114,2.485240506814148,3.1385372333060144,3.9164460381014528,3.446095150994261,2.5176964196226854,4.621857856230471,5.820040722017259,3.696131459023907,2.595931710264,1.951039474946525,3.757975981221181,4.603877343316258,3.975167746495382,3.497596159081146,2.910728348210694,2.4078363672819103,4.3347513263248825,4.413771621385585,1.9542702133092669,5.089838978180683,4.074071220894002,4.899594645145793,2.1578722515148847,2.1341758445845613,3.351030690232703,4.002784426895194,5.296360822926964,4.206078913815132,3.2573187231879666,2.4736307923341077,4.73000057271915,2.535294574249285,5.128468554772322,3.215615350393491,5.090582072617851,4.178931290059278,3.3630045105575417,2.9806036281738733,3.15909212265392,3.9283166923752377,3.5771564962177167,2.906188591931295,3.334368589682368,3.57857702971915,1.371265905585188,3.9581681147886987,2.5202787752831934,2.346667596794255,1.8126556528892896,1.7061075021321097,2.1445524968877105,2.7909790423695098,5.453259137526568,2.974120324104796,3.6777501062680313,3.900481386506329,3.6310651862158485,3.4225565392740065,2.3047062364007553,4.950927548279212,5.3071966436378855,1.8173413058773142,2.4759714091136207,3.220189657622994,2.5354622050898086,4.005965553455865,2.771727797593387,5.665056067806603,4.690548594343596,3.712574030632215,4.526986263319732,4.6059004243573085,2.9360525119417566,2.683782755458035,3.5781430629696476,4.361636124497944,3.6390603986534176,1.9230035178090028,2.6971755560491575,3.426027136405622,3.42433439567417,5.472542176789808,2.114012057601002,4.0055892418358745,4.98911310832829,5.771449745422796,3.095602576816039,3.9914294527201997,4.069760357198647,3.695481731553291,3.401154798760694,3.935975389500046,0.9677539147803147,4.182069490062632,3.6261779036619672,3.2775251032217345,5.546862195719558,2.825065981209448,3.0969240109349694,5.491553302204734,2.667938695150143,2.949884717063461,3.35297457656915,4.340734482129549,3.707802507353313,2.2073746528477374,2.9678314368728103,2.8926455667877886,3.4227789547769545,3.9258436586298293,3.918205755887972,1.7239882459515978,4.563940987560856,3.7525688459966235,4.884532047593906,3.944198327290672,4.601322957735762,3.966545311450127,4.846225756202748,4.0222506360177785,3.402084753557096,5.772434720446881,4.389037122279892,4.073744421004413,2.223695583461664,2.2116923825364623,3.7927154821418534,3.645521197768241,2.885877434991684,3.64098269961206,5.088626928043595,4.195402474550299,2.358991490247262,3.3884911728570564,2.6950335191474393,3.112300083591439,3.0863843343703574,3.0223544173959946,2.244864628026605,3.37234531848181,2.93939236315269,0.570551309997732,5.552972024501663,4.588769654216672,3.123699275075004,3.5188190497405984,2.3283456526824384,5.195722877810866,5.397288694773112,3.6566937282465246,4.523530644185344,3.675286778933924,2.1632745611240694,3.0881766310363425,3.631927966771957,3.045452281256556,3.281346722564964,3.4086004424908856,3.419121502134539,3.552258490497483,2.439394933603399,2.7829838508720637,2.2154157343000307,4.4778155496862,1.3943530581596755,4.6535903433169254,4.886349397262843,3.1978194130173785,0.8968629121727014,3.1386894380327095,3.435815838711181,2.489401780071087,2.984781606191757,5.0301951988633515,4.1649271623017405,2.5754358856219,1.9024008304045679,3.172982682390229,3.2865432206495617,3.9961991873633163,2.964683287432341,4.011499575361862,5.43515404006023,4.315501022444263,3.4519114926692276,3.3168495289467055,3.1433268658201285,4.680640912452144,2.872686554048697,3.5452227089999826,3.5511979018810855,2.998215807188468,2.127534452115899,3.8229745036176683,3.4389960281446164,4.000240469436569,2.966399693560833,4.720821298813048,2.6232262187881554,5.212040284017893,1.7523634901717384,3.9347700645568913,3.9754306825266235,2.7044429320591177,3.9243939378610126,4.779518669760159,1.2831811606459356,4.0027448074908145,1.0067291796699225,2.5343351964767917,5.129166364900945,2.918217966607946,2.3261200355910274,3.302062271015318,5.567906338163552,1.6683177527939739,2.4486900883606557,4.997431683179626,5.357702343537732,3.3965687757097163,2.2609472974733578,5.595843501809159,5.0944423917491966,4.178946987762233,2.68759765106258,3.450970659161963,3.3396399189551693,3.8308513046155777,4.951001438131336,4.379417041137403,2.4226239230152418,4.876496450019538,3.8131321400131553,4.187065795858916,4.966540859278603,2.388419750486449,3.4641744212935373,2.9685454486407847,1.9321405746345441,3.84670997760492,6.011556551584423,1.6599222554942472,3.46771938895053,4.140542935074773,3.623078201656181,3.3868719474842597,2.200783636554176,3.7327867429401635,2.7432360229840738,1.3100782950214467,4.694592220513731,4.458385819842042,3.5516609768510796,3.7290746882057024,4.574318012715562,3.7243396567780827,4.404017554761315,3.20251779912615,4.811983738573947,3.820785725932684,3.694051943605874,2.229938911287968,3.786955854301709,2.668045082505549,2.861717273471506,2.6846243716838787,2.433765068100775,5.624771403016961,4.831339061988404,5.420367502144261,2.2771049804444363,3.5712537499108925,2.2064923747959044,2.804305122802936,2.581873016583425,4.739584006441562,3.10377032189824,4.568379333694017,4.104120889588518,5.8036387521047885,2.020555776860276,4.7592332397867985,4.646440870400728,2.5266211619729653,4.50713333647316,3.836144963026229,3.272523740046592,2.6760645130280003,2.780890548550814,5.549812095785926,3.5006828189574826,4.282130001531459,2.709100618332447,2.720147053778361,4.581984809249942,2.150423788448468,3.0847862320947286,3.534027411072232,3.6113726018400523,3.3209067149838436,3.895819781095923,4.192855755817812,4.23463754545933,2.5141961913321733,3.2158449020712028,4.694762861876938,4.394647187573872,2.127140548518936,3.8514799003522016,1.5217747506251897,3.5469349020603698,5.397767016745977,2.5521072827310136,2.665676954508418,4.26402978157286,1.957198484790354,2.867244970114961,4.096441137581753,2.8657141523105967,3.2640300127890285,4.244185710315034,3.9215460835365614,3.766818396295402,3.160877720729961,3.8700611152689555,3.3762673199002435,3.9578056099257846,3.003067974882022,3.3174310256204587,2.5100422074479862,3.464992389993764,2.688999136371155,2.385953549838007,3.758661147855388,3.7127397758576604,4.282873734948573,3.068874430424901,3.908052846836756,4.050797572273663,3.9447738078315946,2.674346317197858,3.649363482271189,3.8641402960546616,3.5071784669079418,1.4135223416289153,3.66048962397348,5.712531039397242,3.139960731243017,2.771922902144679,3.873348559711398,3.8123782104665715,4.692735165416415,2.242131844091112,4.231380252574993,4.090422061251464,3.357853463059454,3.83868731792169,4.5294574815983575,4.37231538002845,2.3569806879262716,4.320158186755484,3.4353113949674814,3.5728740980155154,3.5731969910016943,3.34975701120174,4.691707497107065,3.416282040150788,2.3804538716168313,3.106470144030271,3.6786947168104756,4.72921478429705,4.103094684948833,2.649464721252956,5.985189916678891,3.7647753109779796,4.775390737999015,3.3482855664227706,4.03335924470545,4.339468504518405,4.718194711754256,4.557368305378225,4.372197000072978,3.184913268805891,2.9282539580439386,3.8326075103241974,4.433128072341069,3.277279299223393,4.565171965714386,4.952616745486179,2.58367908092658,2.66307929620372,3.3596249410946637,3.807612668189196,2.975432986232949,4.852202678867144,3.924066861518451,3.5394470482407394,2.0640904761314722,2.184184183572493,3.7810092502818065,1.3674043738451638,4.512637409644071,3.3418461556276795,6.743092969594733,5.807916250616111,3.318550930752483,3.393662997468685,4.49558151400203,5.203172609918038,1.8619709425639832,1.7136245346453134,2.8779651944456184,4.082737583173865,3.996873590507597,4.56977145498385,2.3003024716346916,1.1838561370311234,4.358014195302145,2.6718037270347654,1.481512135611362,3.6450637459593818,4.293175688218677,3.3779428678787227,3.0421516138175106,3.3406377678540933,3.1294172375992173,2.151952888059833,2.7853193230095683,4.021279905013815,3.8216785413765,3.6680598059668204,2.5048515181466207,3.3184968378643327,1.3229349535571453,3.6784766638853896,4.928857707813568,2.0258678679578943,2.914072326682245,3.8291067787101296,4.752842634427484,3.0517753836998507,2.8077496707341036,1.5310768575839169,3.6034381293081066,5.542076040143744,3.777358461964676,3.4777210208162868,3.8220823107669855,3.488907996051398,2.6869856277398703,4.3232799156777055,3.7257615231117542,3.5176132519336574,2.52463397272175,4.803507931934759,4.16470274533311,2.947079162632698,4.501824853681937,3.002429161614793,2.717996507488963,2.740296882519713,1.7289314469119088,3.9715423804182057,1.6688551216616498,2.2715561687342376,1.4244119909214668,3.4139303072091067,3.349679539728128,3.173303786813636,2.4574223053294237,2.32776624656336,3.9643698635465743,2.9494480682915123],\"y0\":\" \",\"yaxis\":\"y\",\"type\":\"box\"},{\"alignmentgroup\":\"True\",\"hovertemplate\":\"\\u5458\\u5de5\\u72b6\\u6001=%{x}\\u003cbr\\u003e\\u7ee9\\u6548\\u8003\\u6838\\u5206\\u6570=%{y}\\u003cextra\\u003e\\u003c\\u002fextra\\u003e\",\"legendgroup\":\"\\u6d41\\u5931\",\"marker\":{\"color\":\"#EF553B\"},\"name\":\"\\u6d41\\u5931\",\"notched\":false,\"offsetgroup\":\"\\u6d41\\u5931\",\"orientation\":\"v\",\"showlegend\":true,\"x\":[\"\\u6d41\\u5931\",\"\\u6d41\\u5931\",\"\\u6d41\\u5931\",\"\\u6d41\\u5931\",\"\\u6d41\\u5931\",\"\\u6d41\\u5931\",\"\\u6d41\\u5931\",\"\\u6d41\\u5931\",\"\\u6d41\\u5931\",\"\\u6d41\\u5931\",\"\\u6d41\\u5931\",\"\\u6d41\\u5931\",\"\\u6d41\\u5931\",\"\\u6d41\\u5931\",\"\\u6d41\\u5931\",\"\\u6d41\\u5931\",\"\\u6d41\\u5931\",\"\\u6d41\\u5931\",\"\\u6d41\\u5931\",\"\\u6d41\\u5931\",\"\\u6d41\\u5931\",\"\\u6d41\\u5931\",\"\\u6d41\\u5931\",\"\\u6d41\\u5931\",\"\\u6d41\\u5931\",\"\\u6d41\\u5931\",\"\\u6d41\\u5931\",\"\\u6d41\\u5931\",\"\\u6d41\\u5931\",\"\\u6d41\\u5931\",\"\\u6d41\\u5931\",\"\\u6d41\\u5931\",\"\\u6d41\\u5931\",\"\\u6d41\\u5931\",\"\\u6d41\\u5931\",\"\\u6d41\\u5931\",\"\\u6d41\\u5931\",\"\\u6d41\\u5931\",\"\\u6d41\\u5931\",\"\\u6d41\\u5931\",\"\\u6d41\\u5931\",\"\\u6d41\\u5931\",\"\\u6d41\\u5931\",\"\\u6d41\\u5931\",\"\\u6d41\\u5931\",\"\\u6d41\\u5931\",\"\\u6d41\\u5931\",\"\\u6d41\\u5931\",\"\\u6d41\\u5931\",\"\\u6d41\\u5931\",\"\\u6d41\\u5931\",\"\\u6d41\\u5931\",\"\\u6d41\\u5931\",\"\\u6d41\\u5931\",\"\\u6d41\\u5931\",\"\\u6d41\\u5931\",\"\\u6d41\\u5931\",\"\\u6d41\\u5931\",\"\\u6d41\\u5931\",\"\\u6d41\\u5931\",\"\\u6d41\\u5931\",\"\\u6d41\\u5931\",\"\\u6d41\\u5931\",\"\\u6d41\\u5931\",\"\\u6d41\\u5931\",\"\\u6d41\\u5931\",\"\\u6d41\\u5931\",\"\\u6d41\\u5931\",\"\\u6d41\\u5931\",\"\\u6d41\\u5931\",\"\\u6d41\\u5931\",\"\\u6d41\\u5931\",\"\\u6d41\\u5931\",\"\\u6d41\\u5931\",\"\\u6d41\\u5931\",\"\\u6d41\\u5931\",\"\\u6d41\\u5931\",\"\\u6d41\\u5931\",\"\\u6d41\\u5931\",\"\\u6d41\\u5931\",\"\\u6d41\\u5931\",\"\\u6d41\\u5931\",\"\\u6d41\\u5931\",\"\\u6d41\\u5931\",\"\\u6d41\\u5931\",\"\\u6d41\\u5931\",\"\\u6d41\\u5931\",\"\\u6d41\\u5931\",\"\\u6d41\\u5931\",\"\\u6d41\\u5931\",\"\\u6d41\\u5931\",\"\\u6d41\\u5931\",\"\\u6d41\\u5931\",\"\\u6d41\\u5931\",\"\\u6d41\\u5931\",\"\\u6d41\\u5931\",\"\\u6d41\\u5931\",\"\\u6d41\\u5931\",\"\\u6d41\\u5931\",\"\\u6d41\\u5931\",\"\\u6d41\\u5931\",\"\\u6d41\\u5931\",\"\\u6d41\\u5931\",\"\\u6d41\\u5931\",\"\\u6d41\\u5931\",\"\\u6d41\\u5931\",\"\\u6d41\\u5931\",\"\\u6d41\\u5931\",\"\\u6d41\\u5931\",\"\\u6d41\\u5931\",\"\\u6d41\\u5931\",\"\\u6d41\\u5931\",\"\\u6d41\\u5931\",\"\\u6d41\\u5931\",\"\\u6d41\\u5931\",\"\\u6d41\\u5931\",\"\\u6d41\\u5931\",\"\\u6d41\\u5931\",\"\\u6d41\\u5931\",\"\\u6d41\\u5931\",\"\\u6d41\\u5931\",\"\\u6d41\\u5931\",\"\\u6d41\\u5931\",\"\\u6d41\\u5931\",\"\\u6d41\\u5931\",\"\\u6d41\\u5931\",\"\\u6d41\\u5931\",\"\\u6d41\\u5931\",\"\\u6d41\\u5931\",\"\\u6d41\\u5931\",\"\\u6d41\\u5931\",\"\\u6d41\\u5931\",\"\\u6d41\\u5931\",\"\\u6d41\\u5931\",\"\\u6d41\\u5931\",\"\\u6d41\\u5931\",\"\\u6d41\\u5931\",\"\\u6d41\\u5931\",\"\\u6d41\\u5931\",\"\\u6d41\\u5931\",\"\\u6d41\\u5931\",\"\\u6d41\\u5931\",\"\\u6d41\\u5931\",\"\\u6d41\\u5931\",\"\\u6d41\\u5931\",\"\\u6d41\\u5931\",\"\\u6d41\\u5931\",\"\\u6d41\\u5931\",\"\\u6d41\\u5931\",\"\\u6d41\\u5931\",\"\\u6d41\\u5931\",\"\\u6d41\\u5931\",\"\\u6d41\\u5931\",\"\\u6d41\\u5931\",\"\\u6d41\\u5931\",\"\\u6d41\\u5931\",\"\\u6d41\\u5931\",\"\\u6d41\\u5931\",\"\\u6d41\\u5931\",\"\\u6d41\\u5931\",\"\\u6d41\\u5931\",\"\\u6d41\\u5931\",\"\\u6d41\\u5931\",\"\\u6d41\\u5931\",\"\\u6d41\\u5931\",\"\\u6d41\\u5931\",\"\\u6d41\\u5931\",\"\\u6d41\\u5931\",\"\\u6d41\\u5931\",\"\\u6d41\\u5931\",\"\\u6d41\\u5931\",\"\\u6d41\\u5931\",\"\\u6d41\\u5931\",\"\\u6d41\\u5931\",\"\\u6d41\\u5931\",\"\\u6d41\\u5931\",\"\\u6d41\\u5931\",\"\\u6d41\\u5931\",\"\\u6d41\\u5931\",\"\\u6d41\\u5931\",\"\\u6d41\\u5931\",\"\\u6d41\\u5931\",\"\\u6d41\\u5931\",\"\\u6d41\\u5931\",\"\\u6d41\\u5931\",\"\\u6d41\\u5931\",\"\\u6d41\\u5931\",\"\\u6d41\\u5931\",\"\\u6d41\\u5931\",\"\\u6d41\\u5931\",\"\\u6d41\\u5931\",\"\\u6d41\\u5931\",\"\\u6d41\\u5931\",\"\\u6d41\\u5931\",\"\\u6d41\\u5931\",\"\\u6d41\\u5931\",\"\\u6d41\\u5931\",\"\\u6d41\\u5931\",\"\\u6d41\\u5931\",\"\\u6d41\\u5931\",\"\\u6d41\\u5931\",\"\\u6d41\\u5931\",\"\\u6d41\\u5931\",\"\\u6d41\\u5931\",\"\\u6d41\\u5931\",\"\\u6d41\\u5931\",\"\\u6d41\\u5931\",\"\\u6d41\\u5931\",\"\\u6d41\\u5931\",\"\\u6d41\\u5931\",\"\\u6d41\\u5931\",\"\\u6d41\\u5931\",\"\\u6d41\\u5931\",\"\\u6d41\\u5931\",\"\\u6d41\\u5931\",\"\\u6d41\\u5931\",\"\\u6d41\\u5931\",\"\\u6d41\\u5931\",\"\\u6d41\\u5931\",\"\\u6d41\\u5931\",\"\\u6d41\\u5931\",\"\\u6d41\\u5931\",\"\\u6d41\\u5931\",\"\\u6d41\\u5931\",\"\\u6d41\\u5931\",\"\\u6d41\\u5931\",\"\\u6d41\\u5931\",\"\\u6d41\\u5931\",\"\\u6d41\\u5931\",\"\\u6d41\\u5931\",\"\\u6d41\\u5931\",\"\\u6d41\\u5931\",\"\\u6d41\\u5931\",\"\\u6d41\\u5931\",\"\\u6d41\\u5931\",\"\\u6d41\\u5931\",\"\\u6d41\\u5931\",\"\\u6d41\\u5931\",\"\\u6d41\\u5931\",\"\\u6d41\\u5931\",\"\\u6d41\\u5931\",\"\\u6d41\\u5931\",\"\\u6d41\\u5931\",\"\\u6d41\\u5931\",\"\\u6d41\\u5931\",\"\\u6d41\\u5931\",\"\\u6d41\\u5931\",\"\\u6d41\\u5931\",\"\\u6d41\\u5931\",\"\\u6d41\\u5931\",\"\\u6d41\\u5931\"],\"x0\":\" \",\"xaxis\":\"x\",\"y\":[2.5300039338025426,2.003883335750105,2.8438791725258117,3.481426620113971,3.8950294658355644,2.7425769468916785,2.8870021778565658,2.373301691152689,3.2685608296252235,2.451571365809185,3.8731278132412,1.5141335080658886,2.9403703275475372,3.601107339191742,3.483834516322504,5.993033663980496,3.649800024567907,2.2959454031579893,3.204535752910927,1.523753666533548,3.219400250703239,2.466943942999241,4.2153902755601615,2.7504597254044647,3.183234084204753,2.6644421585955964,5.0388513518533316,2.9787572338820882,5.132557043479202,4.114151762118267,3.782066727335386,3.6687331473175195,3.6937972982162512,1.3723274206543898,3.0211166058492434,4.145157971184322,3.2511028165258944,1.8948101531964248,3.24759554942253,5.004105516255491,4.546891715534719,3.237995990633968,4.251449277058087,2.933492979631948,1.596128413173281,2.3755340118704455,4.862888768508197,3.0260069181706957,3.0566160206249817,3.000161803725119,5.2041365895730065,4.925958915362063,5.518780233448133,3.1409547895999483,3.5956244887470947,1.7833574505792087,4.776934426118274,2.132220448732065,3.516775563762629,2.2026974723671557,2.7111331732613038,2.4627375689502995,2.692124739324182,2.7608772968510213,2.7517312050749227,4.133333911780307,2.1951372069374795,3.5205414270138666,4.517959152305558,2.7868036354866037,2.582081109252398,3.069475374819749,4.47972520836071,3.4941076309533576,2.768785705392401,3.7838766511880397,2.1977078501635763,3.981359510442948,3.7086073077017674,2.992191528861116,2.4614142015527687,2.4133190777165425,3.83481733634591,4.528980502489062,2.662692252971205,3.758386703551484,1.212972981397931,2.7153822693428005,3.2689410671290977,2.390316583018166,2.363493625210404,2.6322204435311134,3.592192728326373,3.112670981593625,1.0617687666750277,1.1792998473649337,2.6931348221428246,3.757686586053552,0.5524951572747652,2.800269823848369,2.7737521434825787,4.688337778208448,2.914978188287136,3.6829889847409283,3.441257140087463,1.1694335201927992,4.068207216631738,3.515396505456288,3.8082686396745893,7.226237706436327,1.2158870605014114,5.0246966497611085,3.0125524805996444,3.5873289044030092,3.254487754698758,2.8757636666019564,2.730167071761241,3.629508735573009,1.7828263033283207,4.050579167521765,2.8838055951147457,2.169930660959642,2.8499871420041862,4.557149216862573,2.764664912983777,3.65845361820962,2.5690437242845263,4.05792184992362,3.985507738790204,5.148608833296411,3.1244360545007845,3.9686548047579064,3.3980675395389444,4.595871781863014,2.5811676123912695,4.045005312877281,3.1053027038833183,3.235811822891502,3.391752484448373,3.552240396426677,3.1837709568780417,3.5147131831705263,4.878118057562184,4.285449685615218,4.169154592496897,2.8444604739761292,2.4107591717716756,4.255300558237753,4.176046792529794,4.772670675750982,2.6960193740307705,3.0704513446396526,1.6605158374745657,2.907528893939127,4.296570510579447,2.833504620771802,3.9404797952008237,3.1094968940021883,3.6240570282215603,2.1523086101843325,3.385209449633901,0.30886402909927657,3.113103841838015,1.6695267562848597,4.505994516546815,4.077407352764511,3.766670981966081,4.82100622715938,2.3510834791751627,5.047363197915558,4.2321915642603845,3.063444712781054,4.435620147182944,2.193706487588366,2.475485838472326,2.6914102767602994,2.7710222919359846,2.243442357239747,4.523083067095325,3.041145599630168,3.6525049683568795,2.7296486335863195,1.4793966994514827,3.5700573583914217,1.387745024580223,3.231365953914531,1.9316849611671894,5.287275999230808,4.211362722174721,3.40575379127148,4.563706677654668,2.453684022534264,3.843479378670093,3.4998104337187135,3.5640200813336698,4.572353500106768,4.032492102779802,3.588723662825023,1.6451125637717037,2.339953704720536,3.1772910664042757,3.393372374276651,2.169796275326076,5.7116766755784205,4.816394055253573,3.9021183203924834,3.3720368612837444,3.087791030098848,2.3480815399777644,3.3774805185188623,3.5577525401427503,2.0582394245183755,3.6341764172448974,3.144740951175251,1.3921924421226088,2.439614989220498,2.8863944665783556,5.18768765734019,3.856553124533758,1.9645184309001085,3.7860362894176367,1.7526960110616343,4.382691053887073,2.8288753481821214,3.206363811260829,4.62579664754219,2.01283643141575,1.9028818148870086,2.716400673653995,4.338378851019316,1.7806539245231574,0.467844401889431,2.848841141591001,3.85174079991092,4.500261749738829,2.836838637914601,2.8885733928839974,4.453900734255747,1.4302583003045792,2.9114792248169907,3.4904238899250575,3.7492187212850343,2.790193306809117,3.334441011705841,0.8116726465870103,2.6417515876661515,3.753508712554467,2.3177059657453203,3.3589842215895973,3.7468725008026977,2.9574507991422347],\"y0\":\" \",\"yaxis\":\"y\",\"type\":\"box\"}],                        {\"template\":{\"data\":{\"barpolar\":[{\"marker\":{\"line\":{\"color\":\"white\",\"width\":0.5},\"pattern\":{\"fillmode\":\"overlay\",\"size\":10,\"solidity\":0.2}},\"type\":\"barpolar\"}],\"bar\":[{\"error_x\":{\"color\":\"#2a3f5f\"},\"error_y\":{\"color\":\"#2a3f5f\"},\"marker\":{\"line\":{\"color\":\"white\",\"width\":0.5},\"pattern\":{\"fillmode\":\"overlay\",\"size\":10,\"solidity\":0.2}},\"type\":\"bar\"}],\"carpet\":[{\"aaxis\":{\"endlinecolor\":\"#2a3f5f\",\"gridcolor\":\"#C8D4E3\",\"linecolor\":\"#C8D4E3\",\"minorgridcolor\":\"#C8D4E3\",\"startlinecolor\":\"#2a3f5f\"},\"baxis\":{\"endlinecolor\":\"#2a3f5f\",\"gridcolor\":\"#C8D4E3\",\"linecolor\":\"#C8D4E3\",\"minorgridcolor\":\"#C8D4E3\",\"startlinecolor\":\"#2a3f5f\"},\"type\":\"carpet\"}],\"choropleth\":[{\"colorbar\":{\"outlinewidth\":0,\"ticks\":\"\"},\"type\":\"choropleth\"}],\"contourcarpet\":[{\"colorbar\":{\"outlinewidth\":0,\"ticks\":\"\"},\"type\":\"contourcarpet\"}],\"contour\":[{\"colorbar\":{\"outlinewidth\":0,\"ticks\":\"\"},\"colorscale\":[[0.0,\"#0d0887\"],[0.1111111111111111,\"#46039f\"],[0.2222222222222222,\"#7201a8\"],[0.3333333333333333,\"#9c179e\"],[0.4444444444444444,\"#bd3786\"],[0.5555555555555556,\"#d8576b\"],[0.6666666666666666,\"#ed7953\"],[0.7777777777777778,\"#fb9f3a\"],[0.8888888888888888,\"#fdca26\"],[1.0,\"#f0f921\"]],\"type\":\"contour\"}],\"heatmapgl\":[{\"colorbar\":{\"outlinewidth\":0,\"ticks\":\"\"},\"colorscale\":[[0.0,\"#0d0887\"],[0.1111111111111111,\"#46039f\"],[0.2222222222222222,\"#7201a8\"],[0.3333333333333333,\"#9c179e\"],[0.4444444444444444,\"#bd3786\"],[0.5555555555555556,\"#d8576b\"],[0.6666666666666666,\"#ed7953\"],[0.7777777777777778,\"#fb9f3a\"],[0.8888888888888888,\"#fdca26\"],[1.0,\"#f0f921\"]],\"type\":\"heatmapgl\"}],\"heatmap\":[{\"colorbar\":{\"outlinewidth\":0,\"ticks\":\"\"},\"colorscale\":[[0.0,\"#0d0887\"],[0.1111111111111111,\"#46039f\"],[0.2222222222222222,\"#7201a8\"],[0.3333333333333333,\"#9c179e\"],[0.4444444444444444,\"#bd3786\"],[0.5555555555555556,\"#d8576b\"],[0.6666666666666666,\"#ed7953\"],[0.7777777777777778,\"#fb9f3a\"],[0.8888888888888888,\"#fdca26\"],[1.0,\"#f0f921\"]],\"type\":\"heatmap\"}],\"histogram2dcontour\":[{\"colorbar\":{\"outlinewidth\":0,\"ticks\":\"\"},\"colorscale\":[[0.0,\"#0d0887\"],[0.1111111111111111,\"#46039f\"],[0.2222222222222222,\"#7201a8\"],[0.3333333333333333,\"#9c179e\"],[0.4444444444444444,\"#bd3786\"],[0.5555555555555556,\"#d8576b\"],[0.6666666666666666,\"#ed7953\"],[0.7777777777777778,\"#fb9f3a\"],[0.8888888888888888,\"#fdca26\"],[1.0,\"#f0f921\"]],\"type\":\"histogram2dcontour\"}],\"histogram2d\":[{\"colorbar\":{\"outlinewidth\":0,\"ticks\":\"\"},\"colorscale\":[[0.0,\"#0d0887\"],[0.1111111111111111,\"#46039f\"],[0.2222222222222222,\"#7201a8\"],[0.3333333333333333,\"#9c179e\"],[0.4444444444444444,\"#bd3786\"],[0.5555555555555556,\"#d8576b\"],[0.6666666666666666,\"#ed7953\"],[0.7777777777777778,\"#fb9f3a\"],[0.8888888888888888,\"#fdca26\"],[1.0,\"#f0f921\"]],\"type\":\"histogram2d\"}],\"histogram\":[{\"marker\":{\"pattern\":{\"fillmode\":\"overlay\",\"size\":10,\"solidity\":0.2}},\"type\":\"histogram\"}],\"mesh3d\":[{\"colorbar\":{\"outlinewidth\":0,\"ticks\":\"\"},\"type\":\"mesh3d\"}],\"parcoords\":[{\"line\":{\"colorbar\":{\"outlinewidth\":0,\"ticks\":\"\"}},\"type\":\"parcoords\"}],\"pie\":[{\"automargin\":true,\"type\":\"pie\"}],\"scatter3d\":[{\"line\":{\"colorbar\":{\"outlinewidth\":0,\"ticks\":\"\"}},\"marker\":{\"colorbar\":{\"outlinewidth\":0,\"ticks\":\"\"}},\"type\":\"scatter3d\"}],\"scattercarpet\":[{\"marker\":{\"colorbar\":{\"outlinewidth\":0,\"ticks\":\"\"}},\"type\":\"scattercarpet\"}],\"scattergeo\":[{\"marker\":{\"colorbar\":{\"outlinewidth\":0,\"ticks\":\"\"}},\"type\":\"scattergeo\"}],\"scattergl\":[{\"marker\":{\"colorbar\":{\"outlinewidth\":0,\"ticks\":\"\"}},\"type\":\"scattergl\"}],\"scattermapbox\":[{\"marker\":{\"colorbar\":{\"outlinewidth\":0,\"ticks\":\"\"}},\"type\":\"scattermapbox\"}],\"scatterpolargl\":[{\"marker\":{\"colorbar\":{\"outlinewidth\":0,\"ticks\":\"\"}},\"type\":\"scatterpolargl\"}],\"scatterpolar\":[{\"marker\":{\"colorbar\":{\"outlinewidth\":0,\"ticks\":\"\"}},\"type\":\"scatterpolar\"}],\"scatter\":[{\"fillpattern\":{\"fillmode\":\"overlay\",\"size\":10,\"solidity\":0.2},\"type\":\"scatter\"}],\"scatterternary\":[{\"marker\":{\"colorbar\":{\"outlinewidth\":0,\"ticks\":\"\"}},\"type\":\"scatterternary\"}],\"surface\":[{\"colorbar\":{\"outlinewidth\":0,\"ticks\":\"\"},\"colorscale\":[[0.0,\"#0d0887\"],[0.1111111111111111,\"#46039f\"],[0.2222222222222222,\"#7201a8\"],[0.3333333333333333,\"#9c179e\"],[0.4444444444444444,\"#bd3786\"],[0.5555555555555556,\"#d8576b\"],[0.6666666666666666,\"#ed7953\"],[0.7777777777777778,\"#fb9f3a\"],[0.8888888888888888,\"#fdca26\"],[1.0,\"#f0f921\"]],\"type\":\"surface\"}],\"table\":[{\"cells\":{\"fill\":{\"color\":\"#EBF0F8\"},\"line\":{\"color\":\"white\"}},\"header\":{\"fill\":{\"color\":\"#C8D4E3\"},\"line\":{\"color\":\"white\"}},\"type\":\"table\"}]},\"layout\":{\"annotationdefaults\":{\"arrowcolor\":\"#2a3f5f\",\"arrowhead\":0,\"arrowwidth\":1},\"autotypenumbers\":\"strict\",\"coloraxis\":{\"colorbar\":{\"outlinewidth\":0,\"ticks\":\"\"}},\"colorscale\":{\"diverging\":[[0,\"#8e0152\"],[0.1,\"#c51b7d\"],[0.2,\"#de77ae\"],[0.3,\"#f1b6da\"],[0.4,\"#fde0ef\"],[0.5,\"#f7f7f7\"],[0.6,\"#e6f5d0\"],[0.7,\"#b8e186\"],[0.8,\"#7fbc41\"],[0.9,\"#4d9221\"],[1,\"#276419\"]],\"sequential\":[[0.0,\"#0d0887\"],[0.1111111111111111,\"#46039f\"],[0.2222222222222222,\"#7201a8\"],[0.3333333333333333,\"#9c179e\"],[0.4444444444444444,\"#bd3786\"],[0.5555555555555556,\"#d8576b\"],[0.6666666666666666,\"#ed7953\"],[0.7777777777777778,\"#fb9f3a\"],[0.8888888888888888,\"#fdca26\"],[1.0,\"#f0f921\"]],\"sequentialminus\":[[0.0,\"#0d0887\"],[0.1111111111111111,\"#46039f\"],[0.2222222222222222,\"#7201a8\"],[0.3333333333333333,\"#9c179e\"],[0.4444444444444444,\"#bd3786\"],[0.5555555555555556,\"#d8576b\"],[0.6666666666666666,\"#ed7953\"],[0.7777777777777778,\"#fb9f3a\"],[0.8888888888888888,\"#fdca26\"],[1.0,\"#f0f921\"]]},\"colorway\":[\"#636efa\",\"#EF553B\",\"#00cc96\",\"#ab63fa\",\"#FFA15A\",\"#19d3f3\",\"#FF6692\",\"#B6E880\",\"#FF97FF\",\"#FECB52\"],\"font\":{\"color\":\"#2a3f5f\"},\"geo\":{\"bgcolor\":\"white\",\"lakecolor\":\"white\",\"landcolor\":\"white\",\"showlakes\":true,\"showland\":true,\"subunitcolor\":\"#C8D4E3\"},\"hoverlabel\":{\"align\":\"left\"},\"hovermode\":\"closest\",\"mapbox\":{\"style\":\"light\"},\"paper_bgcolor\":\"white\",\"plot_bgcolor\":\"white\",\"polar\":{\"angularaxis\":{\"gridcolor\":\"#EBF0F8\",\"linecolor\":\"#EBF0F8\",\"ticks\":\"\"},\"bgcolor\":\"white\",\"radialaxis\":{\"gridcolor\":\"#EBF0F8\",\"linecolor\":\"#EBF0F8\",\"ticks\":\"\"}},\"scene\":{\"xaxis\":{\"backgroundcolor\":\"white\",\"gridcolor\":\"#DFE8F3\",\"gridwidth\":2,\"linecolor\":\"#EBF0F8\",\"showbackground\":true,\"ticks\":\"\",\"zerolinecolor\":\"#EBF0F8\"},\"yaxis\":{\"backgroundcolor\":\"white\",\"gridcolor\":\"#DFE8F3\",\"gridwidth\":2,\"linecolor\":\"#EBF0F8\",\"showbackground\":true,\"ticks\":\"\",\"zerolinecolor\":\"#EBF0F8\"},\"zaxis\":{\"backgroundcolor\":\"white\",\"gridcolor\":\"#DFE8F3\",\"gridwidth\":2,\"linecolor\":\"#EBF0F8\",\"showbackground\":true,\"ticks\":\"\",\"zerolinecolor\":\"#EBF0F8\"}},\"shapedefaults\":{\"line\":{\"color\":\"#2a3f5f\"}},\"ternary\":{\"aaxis\":{\"gridcolor\":\"#DFE8F3\",\"linecolor\":\"#A2B1C6\",\"ticks\":\"\"},\"baxis\":{\"gridcolor\":\"#DFE8F3\",\"linecolor\":\"#A2B1C6\",\"ticks\":\"\"},\"bgcolor\":\"white\",\"caxis\":{\"gridcolor\":\"#DFE8F3\",\"linecolor\":\"#A2B1C6\",\"ticks\":\"\"}},\"title\":{\"x\":0.05},\"xaxis\":{\"automargin\":true,\"gridcolor\":\"#EBF0F8\",\"linecolor\":\"#EBF0F8\",\"ticks\":\"\",\"title\":{\"standoff\":15},\"zerolinecolor\":\"#EBF0F8\",\"zerolinewidth\":2},\"yaxis\":{\"automargin\":true,\"gridcolor\":\"#EBF0F8\",\"linecolor\":\"#EBF0F8\",\"ticks\":\"\",\"title\":{\"standoff\":15},\"zerolinecolor\":\"#EBF0F8\",\"zerolinewidth\":2}}},\"xaxis\":{\"anchor\":\"y\",\"domain\":[0.0,1.0],\"title\":{\"text\":\"\\u5458\\u5de5\\u72b6\\u6001\"},\"categoryorder\":\"array\",\"categoryarray\":[\"\\u672a\\u6d41\\u5931\",\"\\u6d41\\u5931\"]},\"yaxis\":{\"anchor\":\"x\",\"domain\":[0.0,1.0],\"title\":{\"text\":\"\\u7ee9\\u6548\\u8003\\u6838\\u5206\\u6570\"}},\"legend\":{\"title\":{\"text\":\"\\u5458\\u5de5\\u72b6\\u6001\"},\"tracegroupgap\":0},\"title\":{\"text\":\"\\u6d41\\u5931\\u4e0e\\u672a\\u6d41\\u5931\\u5458\\u5de5\\u7ee9\\u6548\\u8003\\u6838\\u5206\\u6570\\u5206\\u5e03\"},\"boxmode\":\"overlay\",\"font\":{\"family\":\"SimHei, Arial\",\"size\":12}},                        {\"responsive\": true}                    ).then(function(){\n",
       "                            \n",
       "var gd = document.getElementById('63ba1165-ae2a-4d50-bbde-60e2d9bd5c84');\n",
       "var x = new MutationObserver(function (mutations, observer) {{\n",
       "        var display = window.getComputedStyle(gd).display;\n",
       "        if (!display || display === 'none') {{\n",
       "            console.log([gd, 'removed!']);\n",
       "            Plotly.purge(gd);\n",
       "            observer.disconnect();\n",
       "        }}\n",
       "}});\n",
       "\n",
       "// Listen for the removal of the full notebook cells\n",
       "var notebookContainer = gd.closest('#notebook-container');\n",
       "if (notebookContainer) {{\n",
       "    x.observe(notebookContainer, {childList: true});\n",
       "}}\n",
       "\n",
       "// Listen for the clearing of the current output cell\n",
       "var outputEl = gd.closest('.output');\n",
       "if (outputEl) {{\n",
       "    x.observe(outputEl, {childList: true});\n",
       "}}\n",
       "\n",
       "                        })                };                });            </script>        </div>"
      ]
     },
     "metadata": {},
     "output_type": "display_data"
    },
    {
     "name": "stdout",
     "output_type": "stream",
     "text": [
      "解释：比较流失员工和未流失员工的绩效考核分数分布，直观显示流失员工的绩效考核分数普遍低于未流失员工，说明工作表现较差的员工更容易流失。\n",
      "\n",
      "图3：平均加班时长与员工流失率散点图\n"
     ]
    },
    {
     "data": {
      "application/vnd.plotly.v1+json": {
       "config": {
        "plotlyServerURL": "https://plot.ly"
       },
       "data": [
        {
         "hovertemplate": "流失状态=%{y}<br>平均加班时长(小时/周)=%{x}<extra></extra>",
         "legendgroup": "未流失",
         "marker": {
          "color": "#636efa",
          "symbol": "circle"
         },
         "mode": "markers",
         "name": "未流失",
         "orientation": "v",
         "showlegend": true,
         "type": "scatter",
         "x": [
          5.644090458328072,
          14.008463673976372,
          9.51706884692722,
          9.936726854418653,
          2.003979589451151,
          7.5132035292947315,
          5.1875786029816355,
          11.12757290991378,
          12.007311411458154,
          0.6203594093209537,
          8.050233792304542,
          12.191138647355194,
          7.45422215642533,
          10.76921039490856,
          9.401218992810046,
          9.366810039668508,
          7.147839779392764,
          3.7259774890287316,
          4.070060866321401,
          10.697856102328249,
          8.200438884978357,
          7.628585674521847,
          6.595518046793084,
          7.025216379359679,
          11.919820696047065,
          6.9164164236377434,
          3.2753457378483217,
          10.822019427455428,
          7.3883464768097245,
          8.243653033228652,
          13.949433469166229,
          8.055570782391165,
          9.176844896689786,
          3.8622969615000633,
          7.334796582489525,
          10.336484283655137,
          2.4995470834947033,
          8.85705923707887,
          8.4948636829742,
          8.279460589226531,
          11.88451521314284,
          9.340667423751649,
          13.480620272050327,
          4.53320595354959,
          8.62204693333042,
          8.43576976673161,
          4.259298732606611,
          11.591787907570673,
          16.545317367187202,
          8.068438010368533,
          9.958176339551038,
          8.435956882451485,
          5.5468234949360244,
          1.5388477943567018,
          5.575099991194779,
          3.091110660954733,
          14.298849522574008,
          7.713302907997875,
          6.877772028849243,
          11.348736845731858,
          4.069261007661686,
          5.353952182423521,
          8.376421614680009,
          11.854143748953,
          9.946099863511014,
          9.028937015907495,
          8.41278620155438,
          9.578853797006927,
          8.859983516567903,
          4.401500365307493,
          8.296806782312009,
          4.243247054717736,
          8.423518805300983,
          6.390054451812567,
          17.322561474473957,
          7.985582330818803,
          3.0466527701330497,
          7.644267637349534,
          10.010078659209157,
          14.187577485072136,
          5.9961823122218405,
          2.401610734034424,
          11.086949981380153,
          3.132232684643263,
          6.551117301742905,
          7.197413842450202,
          7.877926899053609,
          10.624775334609096,
          5.6552438981232775,
          7.139100107156327,
          8.078341322323215,
          8.671544606218013,
          8.48413437244268,
          9.70834090630574,
          11.18469902490309,
          9.551335498656504,
          9.771979595103371,
          2.4023521363777514,
          8.311824270979765,
          9.865817323765825,
          10.76876712434503,
          5.623690197273666,
          5.744277824903106,
          6.051755555473375,
          10.071818317606663,
          11.872649418825636,
          6.654994411604403,
          11.416823575329918,
          8.576996909175833,
          7.680085486671981,
          7.364789088058953,
          10.83273313985981,
          9.308591696769195,
          16.36848804808445,
          5.044946792349688,
          10.005528161348513,
          6.214292344482324,
          4.98318110710111,
          8.090660963933402,
          8.62721597545347,
          18.693788269317537,
          7.463392147226809,
          4.038752999265447,
          9.118298797329677,
          0.6198030640821477,
          7.7971164469725585,
          8.188011521908482,
          11.006453386261667,
          11.654512542928806,
          6.307077979554063,
          7.584777267039644,
          5.356642593189372,
          4.046413551596149,
          9.251819101357897,
          3.5196203140803117,
          6.629050619929856,
          4.527470265164761,
          10.119853134370741,
          14.651176959344689,
          3.418251502251942,
          1.422073091910801,
          7.677909475032757,
          8.186826021367086,
          8.921546690461419,
          6.514319734851672,
          7.403685738251937,
          9.460387686156981,
          11.896359831374317,
          1.0527234514478163,
          6.794439230706107,
          8.903987834066651,
          4.806926501309136,
          14.396834066997625,
          5.8298162335719725,
          7.9805204730336365,
          10.142799990569094,
          5.989549064537142,
          1.4454055669480104,
          6.57827061256215,
          11.856574812455888,
          6.910439641037799,
          5.065907828718498,
          11.480933398399854,
          6.93259487639655,
          6.283217854586214,
          8.67103104458118,
          10.92011575882001,
          16.751802984871816,
          11.124594709719872,
          12.328620678325807,
          6.298402359663965,
          4.416357456390497,
          8.355639485621225,
          8.517955093239738,
          4.225783876260159,
          7.495433801747474,
          9.575529718223255,
          9.434624089965451,
          9.955522029251068,
          9.183292323097545,
          6.294628653442398,
          6.2696797315311885,
          3.78979593926217,
          14.590885641850043,
          8.178690319921841,
          7.316031938022637,
          4.7677726651421,
          18.75708160642656,
          4.244552523353119,
          6.577570509306015,
          9.63532934735554,
          10.302770935994285,
          11.597714039880778,
          14.673542798124734,
          9.96229071276778,
          4.307168504120664,
          7.199858647059152,
          9.244353188500265,
          15.616978270251083,
          3.069944168104046,
          12.483326948915325,
          8.78129001775803,
          11.162946537530722,
          7.760779125777927,
          5.080393878942699,
          10.848159461432823,
          10.49904031812235,
          11.648846215977795,
          8.08183721992934,
          5.958644275582146,
          2.4871910780136943,
          11.096131230664652,
          9.66447992644723,
          4.6338668690324685,
          6.180363302666221,
          6.440333100735786,
          2.761596356223647,
          5.169989724289417,
          4.025534108360999,
          6.63682597696567,
          5.455915056046983,
          2.2402421864623703,
          15.451776634661524,
          12.664197446325815,
          5.309949694097653,
          9.116165455886069,
          9.641223625153089,
          12.441730794279987,
          5.166649803490516,
          12.083426558016384,
          6.146582798770896,
          3.2941780969096204,
          10.751374344718482,
          12.80254549532319,
          17.49823048418108,
          3.7869945403734278,
          10.660089259992457,
          6.646519497467411,
          10.965758532096995,
          2.8068278245428733,
          3.558773411971199,
          5.321333140137329,
          8.415849845318467,
          5.809285815131155,
          10.51577672496658,
          11.847358518093651,
          10.300470699308189,
          13.990011255572343,
          9.635292398628343,
          3.7248339085685958,
          13.06542297900879,
          5.9393344271062904,
          11.425714968861765,
          13.826917863929484,
          9.783210598844047,
          2.713905096343969,
          4.806071957234556,
          12.918334970124192,
          7.517775877973006,
          8.41805619649064,
          10.876944386512267,
          10.650688760730771,
          9.13925532083537,
          7.374620496181914,
          6.998140226448867,
          11.235593747554663,
          10.133921702465413,
          7.198573997763602,
          12.04724657303517,
          7.662896503230184,
          5.046982928909497,
          5.3825260699698925,
          4.5869581725586475,
          7.1438757398946535,
          12.59608188757702,
          5.215555444669558,
          8.812282254885533,
          5.7527845688287655,
          7.1876812705973965,
          2.6636508126133878,
          7.331651610453335,
          7.428786525106038,
          10.085842357409218,
          8.938276905984441,
          3.791820507673597,
          12.054797643437626,
          8.891297005603624,
          8.848184532182502,
          8.096759880745799,
          6.255718041055565,
          8.918444469890389,
          9.85163013806147,
          1.8062375973290923,
          6.1796857688071345,
          7.207091967139007,
          9.057337592613287,
          12.449785841456197,
          5.336298251159649,
          6.327378114519413,
          6.274626519459489,
          5.228470123821561,
          6.87318488769361,
          10.920304036356455,
          4.315115506781069,
          9.67868811045351,
          1.969113927333626,
          6.097956452879215,
          6.937248733210891,
          14.192992015948915,
          7.13521565679527,
          0.16149862610767585,
          0.8940221571622757,
          8.253187102574985,
          10.35185049795947,
          9.489150204610656,
          8.736603782999586,
          12.337379742970516,
          6.176679780931584,
          11.369576212817108,
          2.22210611620437,
          4.854088844764201,
          1.588510150346826,
          7.135060011575353,
          7.962534393495841,
          8.543047401860003,
          8.35401773745143,
          4.772256942461546,
          7.44132814322416,
          2.709243059647191,
          13.064888889978747,
          7.030873616109237,
          6.360232249061839,
          13.88196398896758,
          3.633067548551791,
          4.055374647204273,
          4.161682423975795,
          7.8843055982478765,
          9.692506499288104,
          10.807625194586558,
          17.44062304933179,
          -0.01294548420676378,
          10.33362283263039,
          6.113187327288523,
          6.007177161022641,
          5.886424895720964,
          4.840253791675137,
          14.227979901264497,
          11.179116323790328,
          8.213969442377698,
          13.020677024002943,
          2.654645145618071,
          3.3128474245820483,
          0.24575680945523093,
          5.5981193647537,
          8.715348666671206,
          8.50234805211505,
          8.670617718036768,
          3.0219742715407847,
          11.037420168262761,
          8.997451616025174,
          10.783656498906915,
          1.2782009171240132,
          9.257596908848,
          3.830289831498553,
          6.691689825764071,
          10.064400933063709,
          8.459758854646406,
          5.047425273198867,
          8.152708825387595,
          2.5858421588180125,
          12.293967973151833,
          7.386871849423571,
          12.179150798204281,
          6.223955292712325,
          6.23465492196817,
          5.363643832370997,
          11.301749632728933,
          5.561859210470918,
          10.46343546534294,
          6.74552232043717,
          0.9770128543923375,
          6.065463074612993,
          3.86162826400649,
          8.252727859730063,
          3.820723996858346,
          11.482029864586913,
          7.800305385522043,
          7.487102498973366,
          10.50432953879105,
          11.619343101354623,
          8.057242518593862,
          5.338254915631569,
          1.7082299896740922,
          5.646499879532649,
          5.895691667134379,
          8.517547979832115,
          6.880568290280342,
          10.62031735882617,
          5.911000558000104,
          7.923510975992351,
          12.41603454437274,
          9.36740727451698,
          7.912664099087397,
          5.95096112019466,
          5.837702343891784,
          5.05078002431395,
          6.171555145865905,
          10.86551033625442,
          7.326764457921988,
          3.243821488839944,
          14.530772840876416,
          9.288273991945491,
          3.0368648901423274,
          6.5305068833882185,
          8.531408705838873,
          14.300623377736507,
          4.1186329011028935,
          11.663267404068527,
          13.196140865639883,
          5.854271415630056,
          7.125400699725955,
          4.378560524506952,
          7.393470669289297,
          7.99754429287859,
          10.517932993058182,
          12.076464165094018,
          5.421892246069638,
          1.0082832675019002,
          8.053093899020004,
          9.19260585848648,
          9.032892029419852,
          6.947442844017262,
          8.581602600783445,
          13.615910206235137,
          9.511877691644285,
          6.778406301488835,
          6.319283902112496,
          7.515134465206616,
          14.054998661826918,
          7.466451431515167,
          8.058344472835039,
          6.384024873210584,
          12.108319753939913,
          15.224610862175725,
          9.761219238941626,
          8.429637911703242,
          8.26315385609073,
          -0.501190575404399,
          10.82744612871104,
          8.615682425904954,
          9.680598223391826,
          5.554506857416989,
          6.738266098102929,
          6.642089729858514,
          11.828275202344402,
          6.758889391496803,
          15.669230366037468,
          9.689721956834436,
          3.5120287708154523,
          7.664662418427917,
          5.770936057793776,
          0.18633545925151296,
          13.920084803211918,
          10.675376002836416,
          10.060210490795512,
          8.72876125028493,
          3.127096401333376,
          6.37930595480932,
          11.177246404718126,
          4.32458349218734,
          -1.0350049248279447,
          7.307876251833049,
          7.616837654420311,
          8.620739567421248,
          10.767237489522621,
          10.438133040276977,
          9.066746694982998,
          12.457823624873889,
          2.6313293934558013,
          9.956586168408153,
          10.398068875279733,
          3.6427845243895334,
          2.689608396569751,
          5.429689502158324,
          5.735219978094644,
          10.8573784578788,
          5.9053696030382365,
          5.030018363822043,
          5.915885873165697,
          12.179449049638247,
          8.177217015244567,
          7.48111128820798,
          7.731780094702194,
          12.807258410262012,
          5.417998349696266,
          12.892140013203177,
          8.891996602095844,
          7.549281837249242,
          17.1832598025221,
          4.308585046929082,
          6.849657550367439,
          3.66859891422632,
          11.577912333340935,
          14.24486393981908,
          14.175120468684794,
          12.560694486388538,
          7.414613906578605,
          6.8078276614867566,
          2.080365423571485,
          15.499862197358091,
          9.827700642897454,
          6.349116004372472,
          12.937565938132824,
          4.608592449328798,
          9.60197176388608,
          7.50508253386718,
          10.44201124636669,
          7.8998637881462415,
          2.877641034177369,
          8.403586469065537,
          11.926888193588812,
          8.024236610808574,
          10.935916740152493,
          4.345183261859928,
          8.034935928363137,
          5.8692721525793505,
          10.83407064117905,
          8.243999455388426,
          10.628066708338539,
          12.067511742691476,
          10.633659241939426,
          9.118688732142992,
          4.516471624188714,
          8.119914279385819,
          6.200212744702685,
          6.8844884767307,
          6.774186374284093,
          4.582669419288276,
          1.0444343073349573,
          5.711322165053485,
          8.830033615965457,
          3.249599095552486,
          8.18676969602728,
          15.008971696005693,
          11.833464730013107,
          14.079620263016317,
          9.54588291449647,
          12.356385559210935,
          5.509247675706611,
          5.7974882333804185,
          -1.7856875462176518,
          12.423846616033124,
          13.705972806947988,
          6.127498371842883,
          7.21069482284201,
          5.401019148438721,
          9.515205856348521,
          12.202255813997732,
          1.8211654545506324,
          9.612167480924954,
          7.128448186376694,
          8.540487698919415,
          9.791558286060933,
          7.448707171642388,
          7.755015590671075,
          7.355771893452208,
          11.64254465047358,
          9.64591105566154,
          8.928512406609247,
          3.5291547696459373,
          6.759541329568383,
          11.383182360427812,
          8.266461594708602,
          10.51750391991268,
          14.524772717186035,
          11.889753970535917,
          8.467233182473068,
          6.280219203891469,
          -1.113849537722352,
          7.520446580648275,
          6.949834765143007,
          9.54312562371126,
          7.572863078351632,
          6.970206084838805,
          1.6885758715638621,
          4.727316458476761,
          9.855476767698018,
          14.341585624700354,
          7.776958110840844,
          9.316676086338328,
          11.577970928169156,
          5.1945639509550965,
          9.457866836693302,
          5.449425815077587,
          11.260664467337461,
          8.678079033585274,
          9.210395566612814,
          5.296993077344709,
          10.689457141791042,
          15.676660774856279,
          4.481359662549894,
          6.900072392315964,
          8.968419056488493,
          10.976790487424857,
          6.104442447252123,
          -2.1255696503167183,
          13.050265968873772,
          10.883032152894597,
          1.8205299396382735,
          5.930600973758008,
          13.806820394888922,
          13.371023034817476,
          11.52787688209778,
          7.492472989065298,
          8.430414456101287,
          7.656048585443423,
          12.214228015433193,
          4.959450488487702,
          5.213005249319179,
          11.787194004346377,
          7.969411531048148,
          13.120051826742786,
          5.6991258107304255,
          7.931702335573454,
          4.79086499486489,
          8.156652906753314,
          2.7776600880643487,
          6.364767016143036,
          2.9307610089602143,
          10.642002104152356,
          10.72405340992994,
          1.8664489156466715,
          12.958666398712076,
          17.17064275763987,
          8.296543119985555,
          5.809166377986786,
          18.35407673943103,
          3.355334036144912,
          8.202785410066136,
          8.780232626927564,
          12.999434386037741,
          9.432255089958975,
          6.324945297245806,
          4.6867125791956,
          6.89260501070899,
          4.484922953378579,
          8.303127657620553,
          6.087609828905039,
          2.7215831882911035,
          12.673627753917152,
          6.3284254651868785,
          3.5393447659893695,
          7.5209019331551,
          8.377505068802925,
          1.807790453403899,
          9.330564554995263,
          4.3392896013412425,
          14.323924289270654,
          10.026737053717781,
          6.682362035804275,
          5.432492671451191,
          7.750016898619682,
          10.348302484531509,
          8.037711254521579,
          7.34388511816458,
          8.341300452760784,
          5.944030668922225,
          6.887594544828204,
          0.5794313711638859,
          11.654888955685571,
          9.21164796476478,
          5.330089844598984,
          15.003420632505964,
          8.44499965902044,
          4.379160269449788,
          11.23138946572306,
          9.570934543763531,
          9.558379547452875,
          6.588764711161243,
          9.760794520076487,
          7.182434989399638,
          10.14250805495795,
          1.2341010764814877,
          6.559378064015336,
          14.364201454065666,
          5.353215811450912,
          5.944105363074665,
          6.50837995481109,
          3.732401788083112,
          0.13602359005372744,
          7.295277237344522,
          8.621811115175598,
          7.93993165189008,
          7.605539605748651,
          8.285807952478404,
          11.832686127013767,
          7.440584806936236,
          6.051821070944085,
          7.112325744705128,
          10.227235270319529,
          13.241537300326563,
          5.856119664207576,
          8.48814030904456,
          9.354853939808175,
          4.536867615641661,
          8.203910145310765,
          2.8242606364216165,
          1.7260379004633775,
          9.457621996569971,
          6.740373436382567,
          8.862255075588815,
          8.065220183229773,
          4.595431823837054,
          7.966179426889103,
          3.6661732758462247,
          13.165319935965071,
          3.221387351606932,
          7.421257319093736,
          4.3569768512689615,
          10.194924647566081,
          6.930218435960961,
          6.2524264749712195,
          11.218589593086628,
          8.23653874187274,
          10.000252894288202,
          4.577600109806778,
          3.0445626629824254,
          8.518092822585285,
          6.975776193109073,
          10.39769351428328,
          7.8407314013615705,
          8.872372728029362,
          2.2533552416126996,
          14.96614172140361,
          7.535444014184045,
          10.655264832627902,
          5.103348153804953,
          9.244995846026775,
          3.4137019560404225,
          9.76648557450001,
          6.841373814523286,
          8.235669624246755,
          10.656665989070953,
          3.6682040733825865,
          5.652139935181676,
          9.785513897534091,
          15.725561737859225,
          7.630141948525437,
          10.269912746884636
         ],
         "xaxis": "x",
         "y": [
          0,
          0,
          0,
          0,
          0,
          0,
          0,
          0,
          0,
          0,
          0,
          0,
          0,
          0,
          0,
          0,
          0,
          0,
          0,
          0,
          0,
          0,
          0,
          0,
          0,
          0,
          0,
          0,
          0,
          0,
          0,
          0,
          0,
          0,
          0,
          0,
          0,
          0,
          0,
          0,
          0,
          0,
          0,
          0,
          0,
          0,
          0,
          0,
          0,
          0,
          0,
          0,
          0,
          0,
          0,
          0,
          0,
          0,
          0,
          0,
          0,
          0,
          0,
          0,
          0,
          0,
          0,
          0,
          0,
          0,
          0,
          0,
          0,
          0,
          0,
          0,
          0,
          0,
          0,
          0,
          0,
          0,
          0,
          0,
          0,
          0,
          0,
          0,
          0,
          0,
          0,
          0,
          0,
          0,
          0,
          0,
          0,
          0,
          0,
          0,
          0,
          0,
          0,
          0,
          0,
          0,
          0,
          0,
          0,
          0,
          0,
          0,
          0,
          0,
          0,
          0,
          0,
          0,
          0,
          0,
          0,
          0,
          0,
          0,
          0,
          0,
          0,
          0,
          0,
          0,
          0,
          0,
          0,
          0,
          0,
          0,
          0,
          0,
          0,
          0,
          0,
          0,
          0,
          0,
          0,
          0,
          0,
          0,
          0,
          0,
          0,
          0,
          0,
          0,
          0,
          0,
          0,
          0,
          0,
          0,
          0,
          0,
          0,
          0,
          0,
          0,
          0,
          0,
          0,
          0,
          0,
          0,
          0,
          0,
          0,
          0,
          0,
          0,
          0,
          0,
          0,
          0,
          0,
          0,
          0,
          0,
          0,
          0,
          0,
          0,
          0,
          0,
          0,
          0,
          0,
          0,
          0,
          0,
          0,
          0,
          0,
          0,
          0,
          0,
          0,
          0,
          0,
          0,
          0,
          0,
          0,
          0,
          0,
          0,
          0,
          0,
          0,
          0,
          0,
          0,
          0,
          0,
          0,
          0,
          0,
          0,
          0,
          0,
          0,
          0,
          0,
          0,
          0,
          0,
          0,
          0,
          0,
          0,
          0,
          0,
          0,
          0,
          0,
          0,
          0,
          0,
          0,
          0,
          0,
          0,
          0,
          0,
          0,
          0,
          0,
          0,
          0,
          0,
          0,
          0,
          0,
          0,
          0,
          0,
          0,
          0,
          0,
          0,
          0,
          0,
          0,
          0,
          0,
          0,
          0,
          0,
          0,
          0,
          0,
          0,
          0,
          0,
          0,
          0,
          0,
          0,
          0,
          0,
          0,
          0,
          0,
          0,
          0,
          0,
          0,
          0,
          0,
          0,
          0,
          0,
          0,
          0,
          0,
          0,
          0,
          0,
          0,
          0,
          0,
          0,
          0,
          0,
          0,
          0,
          0,
          0,
          0,
          0,
          0,
          0,
          0,
          0,
          0,
          0,
          0,
          0,
          0,
          0,
          0,
          0,
          0,
          0,
          0,
          0,
          0,
          0,
          0,
          0,
          0,
          0,
          0,
          0,
          0,
          0,
          0,
          0,
          0,
          0,
          0,
          0,
          0,
          0,
          0,
          0,
          0,
          0,
          0,
          0,
          0,
          0,
          0,
          0,
          0,
          0,
          0,
          0,
          0,
          0,
          0,
          0,
          0,
          0,
          0,
          0,
          0,
          0,
          0,
          0,
          0,
          0,
          0,
          0,
          0,
          0,
          0,
          0,
          0,
          0,
          0,
          0,
          0,
          0,
          0,
          0,
          0,
          0,
          0,
          0,
          0,
          0,
          0,
          0,
          0,
          0,
          0,
          0,
          0,
          0,
          0,
          0,
          0,
          0,
          0,
          0,
          0,
          0,
          0,
          0,
          0,
          0,
          0,
          0,
          0,
          0,
          0,
          0,
          0,
          0,
          0,
          0,
          0,
          0,
          0,
          0,
          0,
          0,
          0,
          0,
          0,
          0,
          0,
          0,
          0,
          0,
          0,
          0,
          0,
          0,
          0,
          0,
          0,
          0,
          0,
          0,
          0,
          0,
          0,
          0,
          0,
          0,
          0,
          0,
          0,
          0,
          0,
          0,
          0,
          0,
          0,
          0,
          0,
          0,
          0,
          0,
          0,
          0,
          0,
          0,
          0,
          0,
          0,
          0,
          0,
          0,
          0,
          0,
          0,
          0,
          0,
          0,
          0,
          0,
          0,
          0,
          0,
          0,
          0,
          0,
          0,
          0,
          0,
          0,
          0,
          0,
          0,
          0,
          0,
          0,
          0,
          0,
          0,
          0,
          0,
          0,
          0,
          0,
          0,
          0,
          0,
          0,
          0,
          0,
          0,
          0,
          0,
          0,
          0,
          0,
          0,
          0,
          0,
          0,
          0,
          0,
          0,
          0,
          0,
          0,
          0,
          0,
          0,
          0,
          0,
          0,
          0,
          0,
          0,
          0,
          0,
          0,
          0,
          0,
          0,
          0,
          0,
          0,
          0,
          0,
          0,
          0,
          0,
          0,
          0,
          0,
          0,
          0,
          0,
          0,
          0,
          0,
          0,
          0,
          0,
          0,
          0,
          0,
          0,
          0,
          0,
          0,
          0,
          0,
          0,
          0,
          0,
          0,
          0,
          0,
          0,
          0,
          0,
          0,
          0,
          0,
          0,
          0,
          0,
          0,
          0,
          0,
          0,
          0,
          0,
          0,
          0,
          0,
          0,
          0,
          0,
          0,
          0,
          0,
          0,
          0,
          0,
          0,
          0,
          0,
          0,
          0,
          0,
          0,
          0,
          0,
          0,
          0,
          0,
          0,
          0,
          0,
          0,
          0,
          0,
          0,
          0,
          0,
          0,
          0,
          0,
          0,
          0,
          0,
          0,
          0,
          0,
          0,
          0,
          0,
          0,
          0,
          0,
          0,
          0,
          0,
          0,
          0,
          0,
          0,
          0,
          0,
          0,
          0,
          0,
          0,
          0,
          0,
          0,
          0,
          0,
          0,
          0,
          0,
          0,
          0,
          0,
          0,
          0,
          0,
          0,
          0,
          0,
          0,
          0,
          0,
          0,
          0,
          0,
          0,
          0,
          0,
          0,
          0,
          0,
          0,
          0,
          0,
          0,
          0,
          0,
          0,
          0,
          0,
          0,
          0,
          0,
          0,
          0,
          0,
          0,
          0,
          0,
          0,
          0,
          0,
          0,
          0,
          0,
          0,
          0,
          0,
          0,
          0,
          0,
          0,
          0,
          0,
          0,
          0,
          0,
          0,
          0,
          0,
          0,
          0,
          0,
          0,
          0,
          0,
          0,
          0,
          0,
          0,
          0,
          0,
          0,
          0,
          0,
          0,
          0
         ],
         "yaxis": "y"
        },
        {
         "hovertemplate": "流失状态=%{y}<br>平均加班时长(小时/周)=%{x}<extra></extra>",
         "legendgroup": "流失",
         "marker": {
          "color": "#EF553B",
          "symbol": "circle"
         },
         "mode": "markers",
         "name": "流失",
         "orientation": "v",
         "showlegend": true,
         "type": "scatter",
         "x": [
          11.036071494481902,
          6.034611424926451,
          0.8231035061515728,
          7.773665146598822,
          7.4285114917643,
          6.942440776020495,
          7.97500017546686,
          9.346651143357205,
          7.84657663646122,
          3.814297672030544,
          10.149988945454218,
          1.3332742457328282,
          0.9677060046311956,
          11.065833390819677,
          10.225413385129993,
          8.18222877843199,
          3.3384764127866395,
          5.827362394759848,
          7.438856773374856,
          2.6128638337617103,
          5.714716257955898,
          10.751435824199582,
          13.556845418726965,
          6.871646195376047,
          11.128487842624278,
          1.461102544473369,
          10.777213492831274,
          5.479706738686519,
          9.502591132482852,
          7.493136245972253,
          13.169898715417482,
          5.224542953009497,
          10.66193479717383,
          7.37818298286655,
          7.816934169605018,
          7.724448906763661,
          5.328663361731312,
          8.33896174341785,
          8.163213435919006,
          9.263289699232361,
          8.695908627408164,
          11.278740269596296,
          11.733101190091475,
          4.586743574983361,
          11.53495645213859,
          4.095462133862328,
          10.518038315058602,
          10.633454400624386,
          1.471032852181736,
          8.726584872436463,
          6.694044069635657,
          5.643269766273943,
          13.2800854371304,
          6.023681510892544,
          5.47091551659266,
          8.66401568281844,
          10.871834881600268,
          7.877232118643342,
          12.612261375322692,
          10.312131896310008,
          0.5048750225722225,
          6.473329592104631,
          6.35613160034685,
          10.125286651414509,
          -1.1118377440742844,
          17.617415145558155,
          10.31231446351704,
          8.928934030182042,
          12.667275133437311,
          16.8740276711817,
          11.54210285341002,
          11.824703409227265,
          8.863097888561065,
          7.877676772811648,
          6.667620492702259,
          5.399474589993359,
          5.9030089590878205,
          3.5009874090784017,
          8.115345348520217,
          2.2915033704404797,
          9.081117817400234,
          8.258483198886724,
          8.921905780159811,
          6.499883716527628,
          19.528234540053425,
          13.313619558652732,
          3.8847561496933043,
          9.232982476485372,
          6.189017762566889,
          4.717583389319162,
          3.538939102531356,
          9.9546244205485,
          5.9234035490481425,
          11.893530206971239,
          11.98749161660019,
          13.363570074465448,
          5.3043599068117455,
          10.110823510705078,
          10.67948426424513,
          6.673475006123647,
          5.596185514237792,
          14.216464810109024,
          9.213535070150035,
          10.692203257576491,
          5.414084837182903,
          3.9761902311896593,
          6.328591816338561,
          7.941042577648211,
          4.537523575321197,
          8.354361792685614,
          2.27761121919203,
          4.335428330659063,
          10.818698718762288,
          10.575721683405977,
          6.9714061092995445,
          4.705693201141431,
          4.670799143475841,
          7.038768949692443,
          10.723156939755956,
          11.750249402666455,
          6.592555117555273,
          4.214357417935083,
          9.359593969076126,
          5.4088034063344255,
          6.513925447322448,
          13.187499447382077,
          11.38415785140808,
          8.961867010350256,
          3.7856532159719434,
          9.155255574243785,
          12.236819392650848,
          7.030206129928762,
          13.281033005751908,
          13.06973794805591,
          14.412712852359375,
          9.494980118043499,
          10.516357953297765,
          13.509357983758546,
          10.009566052189692,
          6.57553252979943,
          6.766274931769143,
          9.253568932660936,
          3.7181676525546887,
          7.871402726381623,
          12.35950056799352,
          0.4576610587816834,
          13.944825208496145,
          12.452994671705438,
          6.725652090693677,
          10.357074796895951,
          8.401394771400904,
          12.842565133748034,
          11.947312976827188,
          3.321743982077507,
          10.51588993674032,
          7.645627169811444,
          8.689853905275521,
          5.754017718489268,
          14.718256190217424,
          12.155023788047325,
          5.71202838641786,
          3.5587096029849583,
          6.99386507586019,
          9.962899578850527,
          9.259545155085327,
          12.926340825661041,
          11.249509394294686,
          11.899839873225524,
          9.573216550209784,
          3.3607385966362155,
          7.681571317248217,
          12.22752485846937,
          8.203486998740782,
          10.211187134417964,
          7.236131098808999,
          4.662081108278521,
          7.943494488153081,
          9.508751743778207,
          6.0164104555495745,
          7.5367252936188605,
          4.989143064010744,
          12.441666601582028,
          7.324070157531318,
          13.648975073356784,
          13.92406721895809,
          8.096613607707289,
          4.739415588178595,
          0.83904968260532,
          3.061225795643015,
          3.4167179338668507,
          13.380060051410648,
          8.809285005761545,
          9.800368377212997,
          0.3520759476548445,
          4.053361526233513,
          11.60122879073556,
          9.428122286824962,
          7.857116891158139,
          10.434729338132444,
          14.311588058211651,
          7.589826281995878,
          8.641118685622212,
          9.087200845807326,
          17.049436879691854,
          0.7903303228031282,
          10.863267313535486,
          7.97441585949219,
          10.441713648786731,
          6.010311354539098,
          8.212746588292411,
          10.965306297665093,
          19.658734927778703,
          11.3150910056355,
          5.320002535129559,
          6.855989951077815,
          6.748640927650449,
          1.8897717150793456,
          7.1950735060407975,
          11.042841276194718,
          3.777279728942002,
          12.185507196803146,
          10.155744852325306,
          5.732075374464843,
          7.877662712836993,
          14.17592494366054,
          11.045443084891236,
          8.421796830731296,
          7.529586392601237,
          8.667324835035009,
          6.537415920248862,
          0.7708067892971675,
          15.782684036135727,
          8.952276497101835,
          9.831293099743585,
          8.180373945445591,
          5.728877181376992,
          7.71695337896545,
          2.600190960856594,
          16.633053122952965,
          3.9210665657109267,
          4.654282052473211,
          6.796261680121231,
          13.052834123965606,
          8.44252257733081,
          3.915188418369726,
          12.93070486594157,
          11.036222268963444,
          10.339134545123558,
          10.980957953038443,
          17.057590080108472,
          16.300043520030727
         ],
         "xaxis": "x",
         "y": [
          1,
          1,
          1,
          1,
          1,
          1,
          1,
          1,
          1,
          1,
          1,
          1,
          1,
          1,
          1,
          1,
          1,
          1,
          1,
          1,
          1,
          1,
          1,
          1,
          1,
          1,
          1,
          1,
          1,
          1,
          1,
          1,
          1,
          1,
          1,
          1,
          1,
          1,
          1,
          1,
          1,
          1,
          1,
          1,
          1,
          1,
          1,
          1,
          1,
          1,
          1,
          1,
          1,
          1,
          1,
          1,
          1,
          1,
          1,
          1,
          1,
          1,
          1,
          1,
          1,
          1,
          1,
          1,
          1,
          1,
          1,
          1,
          1,
          1,
          1,
          1,
          1,
          1,
          1,
          1,
          1,
          1,
          1,
          1,
          1,
          1,
          1,
          1,
          1,
          1,
          1,
          1,
          1,
          1,
          1,
          1,
          1,
          1,
          1,
          1,
          1,
          1,
          1,
          1,
          1,
          1,
          1,
          1,
          1,
          1,
          1,
          1,
          1,
          1,
          1,
          1,
          1,
          1,
          1,
          1,
          1,
          1,
          1,
          1,
          1,
          1,
          1,
          1,
          1,
          1,
          1,
          1,
          1,
          1,
          1,
          1,
          1,
          1,
          1,
          1,
          1,
          1,
          1,
          1,
          1,
          1,
          1,
          1,
          1,
          1,
          1,
          1,
          1,
          1,
          1,
          1,
          1,
          1,
          1,
          1,
          1,
          1,
          1,
          1,
          1,
          1,
          1,
          1,
          1,
          1,
          1,
          1,
          1,
          1,
          1,
          1,
          1,
          1,
          1,
          1,
          1,
          1,
          1,
          1,
          1,
          1,
          1,
          1,
          1,
          1,
          1,
          1,
          1,
          1,
          1,
          1,
          1,
          1,
          1,
          1,
          1,
          1,
          1,
          1,
          1,
          1,
          1,
          1,
          1,
          1,
          1,
          1,
          1,
          1,
          1,
          1,
          1,
          1,
          1,
          1,
          1,
          1,
          1,
          1,
          1,
          1,
          1,
          1,
          1,
          1,
          1,
          1,
          1,
          1,
          1,
          1,
          1,
          1,
          1,
          1,
          1,
          1,
          1,
          1,
          1,
          1,
          1,
          1,
          1,
          1,
          1
         ],
         "yaxis": "y"
        }
       ],
       "layout": {
        "font": {
         "family": "SimHei, Arial",
         "size": 12
        },
        "legend": {
         "title": {
          "text": "流失状态"
         },
         "tracegroupgap": 0
        },
        "template": {
         "data": {
          "bar": [
           {
            "error_x": {
             "color": "#2a3f5f"
            },
            "error_y": {
             "color": "#2a3f5f"
            },
            "marker": {
             "line": {
              "color": "white",
              "width": 0.5
             },
             "pattern": {
              "fillmode": "overlay",
              "size": 10,
              "solidity": 0.2
             }
            },
            "type": "bar"
           }
          ],
          "barpolar": [
           {
            "marker": {
             "line": {
              "color": "white",
              "width": 0.5
             },
             "pattern": {
              "fillmode": "overlay",
              "size": 10,
              "solidity": 0.2
             }
            },
            "type": "barpolar"
           }
          ],
          "carpet": [
           {
            "aaxis": {
             "endlinecolor": "#2a3f5f",
             "gridcolor": "#C8D4E3",
             "linecolor": "#C8D4E3",
             "minorgridcolor": "#C8D4E3",
             "startlinecolor": "#2a3f5f"
            },
            "baxis": {
             "endlinecolor": "#2a3f5f",
             "gridcolor": "#C8D4E3",
             "linecolor": "#C8D4E3",
             "minorgridcolor": "#C8D4E3",
             "startlinecolor": "#2a3f5f"
            },
            "type": "carpet"
           }
          ],
          "choropleth": [
           {
            "colorbar": {
             "outlinewidth": 0,
             "ticks": ""
            },
            "type": "choropleth"
           }
          ],
          "contour": [
           {
            "colorbar": {
             "outlinewidth": 0,
             "ticks": ""
            },
            "colorscale": [
             [
              0,
              "#0d0887"
             ],
             [
              0.1111111111111111,
              "#46039f"
             ],
             [
              0.2222222222222222,
              "#7201a8"
             ],
             [
              0.3333333333333333,
              "#9c179e"
             ],
             [
              0.4444444444444444,
              "#bd3786"
             ],
             [
              0.5555555555555556,
              "#d8576b"
             ],
             [
              0.6666666666666666,
              "#ed7953"
             ],
             [
              0.7777777777777778,
              "#fb9f3a"
             ],
             [
              0.8888888888888888,
              "#fdca26"
             ],
             [
              1,
              "#f0f921"
             ]
            ],
            "type": "contour"
           }
          ],
          "contourcarpet": [
           {
            "colorbar": {
             "outlinewidth": 0,
             "ticks": ""
            },
            "type": "contourcarpet"
           }
          ],
          "heatmap": [
           {
            "colorbar": {
             "outlinewidth": 0,
             "ticks": ""
            },
            "colorscale": [
             [
              0,
              "#0d0887"
             ],
             [
              0.1111111111111111,
              "#46039f"
             ],
             [
              0.2222222222222222,
              "#7201a8"
             ],
             [
              0.3333333333333333,
              "#9c179e"
             ],
             [
              0.4444444444444444,
              "#bd3786"
             ],
             [
              0.5555555555555556,
              "#d8576b"
             ],
             [
              0.6666666666666666,
              "#ed7953"
             ],
             [
              0.7777777777777778,
              "#fb9f3a"
             ],
             [
              0.8888888888888888,
              "#fdca26"
             ],
             [
              1,
              "#f0f921"
             ]
            ],
            "type": "heatmap"
           }
          ],
          "heatmapgl": [
           {
            "colorbar": {
             "outlinewidth": 0,
             "ticks": ""
            },
            "colorscale": [
             [
              0,
              "#0d0887"
             ],
             [
              0.1111111111111111,
              "#46039f"
             ],
             [
              0.2222222222222222,
              "#7201a8"
             ],
             [
              0.3333333333333333,
              "#9c179e"
             ],
             [
              0.4444444444444444,
              "#bd3786"
             ],
             [
              0.5555555555555556,
              "#d8576b"
             ],
             [
              0.6666666666666666,
              "#ed7953"
             ],
             [
              0.7777777777777778,
              "#fb9f3a"
             ],
             [
              0.8888888888888888,
              "#fdca26"
             ],
             [
              1,
              "#f0f921"
             ]
            ],
            "type": "heatmapgl"
           }
          ],
          "histogram": [
           {
            "marker": {
             "pattern": {
              "fillmode": "overlay",
              "size": 10,
              "solidity": 0.2
             }
            },
            "type": "histogram"
           }
          ],
          "histogram2d": [
           {
            "colorbar": {
             "outlinewidth": 0,
             "ticks": ""
            },
            "colorscale": [
             [
              0,
              "#0d0887"
             ],
             [
              0.1111111111111111,
              "#46039f"
             ],
             [
              0.2222222222222222,
              "#7201a8"
             ],
             [
              0.3333333333333333,
              "#9c179e"
             ],
             [
              0.4444444444444444,
              "#bd3786"
             ],
             [
              0.5555555555555556,
              "#d8576b"
             ],
             [
              0.6666666666666666,
              "#ed7953"
             ],
             [
              0.7777777777777778,
              "#fb9f3a"
             ],
             [
              0.8888888888888888,
              "#fdca26"
             ],
             [
              1,
              "#f0f921"
             ]
            ],
            "type": "histogram2d"
           }
          ],
          "histogram2dcontour": [
           {
            "colorbar": {
             "outlinewidth": 0,
             "ticks": ""
            },
            "colorscale": [
             [
              0,
              "#0d0887"
             ],
             [
              0.1111111111111111,
              "#46039f"
             ],
             [
              0.2222222222222222,
              "#7201a8"
             ],
             [
              0.3333333333333333,
              "#9c179e"
             ],
             [
              0.4444444444444444,
              "#bd3786"
             ],
             [
              0.5555555555555556,
              "#d8576b"
             ],
             [
              0.6666666666666666,
              "#ed7953"
             ],
             [
              0.7777777777777778,
              "#fb9f3a"
             ],
             [
              0.8888888888888888,
              "#fdca26"
             ],
             [
              1,
              "#f0f921"
             ]
            ],
            "type": "histogram2dcontour"
           }
          ],
          "mesh3d": [
           {
            "colorbar": {
             "outlinewidth": 0,
             "ticks": ""
            },
            "type": "mesh3d"
           }
          ],
          "parcoords": [
           {
            "line": {
             "colorbar": {
              "outlinewidth": 0,
              "ticks": ""
             }
            },
            "type": "parcoords"
           }
          ],
          "pie": [
           {
            "automargin": true,
            "type": "pie"
           }
          ],
          "scatter": [
           {
            "fillpattern": {
             "fillmode": "overlay",
             "size": 10,
             "solidity": 0.2
            },
            "type": "scatter"
           }
          ],
          "scatter3d": [
           {
            "line": {
             "colorbar": {
              "outlinewidth": 0,
              "ticks": ""
             }
            },
            "marker": {
             "colorbar": {
              "outlinewidth": 0,
              "ticks": ""
             }
            },
            "type": "scatter3d"
           }
          ],
          "scattercarpet": [
           {
            "marker": {
             "colorbar": {
              "outlinewidth": 0,
              "ticks": ""
             }
            },
            "type": "scattercarpet"
           }
          ],
          "scattergeo": [
           {
            "marker": {
             "colorbar": {
              "outlinewidth": 0,
              "ticks": ""
             }
            },
            "type": "scattergeo"
           }
          ],
          "scattergl": [
           {
            "marker": {
             "colorbar": {
              "outlinewidth": 0,
              "ticks": ""
             }
            },
            "type": "scattergl"
           }
          ],
          "scattermapbox": [
           {
            "marker": {
             "colorbar": {
              "outlinewidth": 0,
              "ticks": ""
             }
            },
            "type": "scattermapbox"
           }
          ],
          "scatterpolar": [
           {
            "marker": {
             "colorbar": {
              "outlinewidth": 0,
              "ticks": ""
             }
            },
            "type": "scatterpolar"
           }
          ],
          "scatterpolargl": [
           {
            "marker": {
             "colorbar": {
              "outlinewidth": 0,
              "ticks": ""
             }
            },
            "type": "scatterpolargl"
           }
          ],
          "scatterternary": [
           {
            "marker": {
             "colorbar": {
              "outlinewidth": 0,
              "ticks": ""
             }
            },
            "type": "scatterternary"
           }
          ],
          "surface": [
           {
            "colorbar": {
             "outlinewidth": 0,
             "ticks": ""
            },
            "colorscale": [
             [
              0,
              "#0d0887"
             ],
             [
              0.1111111111111111,
              "#46039f"
             ],
             [
              0.2222222222222222,
              "#7201a8"
             ],
             [
              0.3333333333333333,
              "#9c179e"
             ],
             [
              0.4444444444444444,
              "#bd3786"
             ],
             [
              0.5555555555555556,
              "#d8576b"
             ],
             [
              0.6666666666666666,
              "#ed7953"
             ],
             [
              0.7777777777777778,
              "#fb9f3a"
             ],
             [
              0.8888888888888888,
              "#fdca26"
             ],
             [
              1,
              "#f0f921"
             ]
            ],
            "type": "surface"
           }
          ],
          "table": [
           {
            "cells": {
             "fill": {
              "color": "#EBF0F8"
             },
             "line": {
              "color": "white"
             }
            },
            "header": {
             "fill": {
              "color": "#C8D4E3"
             },
             "line": {
              "color": "white"
             }
            },
            "type": "table"
           }
          ]
         },
         "layout": {
          "annotationdefaults": {
           "arrowcolor": "#2a3f5f",
           "arrowhead": 0,
           "arrowwidth": 1
          },
          "autotypenumbers": "strict",
          "coloraxis": {
           "colorbar": {
            "outlinewidth": 0,
            "ticks": ""
           }
          },
          "colorscale": {
           "diverging": [
            [
             0,
             "#8e0152"
            ],
            [
             0.1,
             "#c51b7d"
            ],
            [
             0.2,
             "#de77ae"
            ],
            [
             0.3,
             "#f1b6da"
            ],
            [
             0.4,
             "#fde0ef"
            ],
            [
             0.5,
             "#f7f7f7"
            ],
            [
             0.6,
             "#e6f5d0"
            ],
            [
             0.7,
             "#b8e186"
            ],
            [
             0.8,
             "#7fbc41"
            ],
            [
             0.9,
             "#4d9221"
            ],
            [
             1,
             "#276419"
            ]
           ],
           "sequential": [
            [
             0,
             "#0d0887"
            ],
            [
             0.1111111111111111,
             "#46039f"
            ],
            [
             0.2222222222222222,
             "#7201a8"
            ],
            [
             0.3333333333333333,
             "#9c179e"
            ],
            [
             0.4444444444444444,
             "#bd3786"
            ],
            [
             0.5555555555555556,
             "#d8576b"
            ],
            [
             0.6666666666666666,
             "#ed7953"
            ],
            [
             0.7777777777777778,
             "#fb9f3a"
            ],
            [
             0.8888888888888888,
             "#fdca26"
            ],
            [
             1,
             "#f0f921"
            ]
           ],
           "sequentialminus": [
            [
             0,
             "#0d0887"
            ],
            [
             0.1111111111111111,
             "#46039f"
            ],
            [
             0.2222222222222222,
             "#7201a8"
            ],
            [
             0.3333333333333333,
             "#9c179e"
            ],
            [
             0.4444444444444444,
             "#bd3786"
            ],
            [
             0.5555555555555556,
             "#d8576b"
            ],
            [
             0.6666666666666666,
             "#ed7953"
            ],
            [
             0.7777777777777778,
             "#fb9f3a"
            ],
            [
             0.8888888888888888,
             "#fdca26"
            ],
            [
             1,
             "#f0f921"
            ]
           ]
          },
          "colorway": [
           "#636efa",
           "#EF553B",
           "#00cc96",
           "#ab63fa",
           "#FFA15A",
           "#19d3f3",
           "#FF6692",
           "#B6E880",
           "#FF97FF",
           "#FECB52"
          ],
          "font": {
           "color": "#2a3f5f"
          },
          "geo": {
           "bgcolor": "white",
           "lakecolor": "white",
           "landcolor": "white",
           "showlakes": true,
           "showland": true,
           "subunitcolor": "#C8D4E3"
          },
          "hoverlabel": {
           "align": "left"
          },
          "hovermode": "closest",
          "mapbox": {
           "style": "light"
          },
          "paper_bgcolor": "white",
          "plot_bgcolor": "white",
          "polar": {
           "angularaxis": {
            "gridcolor": "#EBF0F8",
            "linecolor": "#EBF0F8",
            "ticks": ""
           },
           "bgcolor": "white",
           "radialaxis": {
            "gridcolor": "#EBF0F8",
            "linecolor": "#EBF0F8",
            "ticks": ""
           }
          },
          "scene": {
           "xaxis": {
            "backgroundcolor": "white",
            "gridcolor": "#DFE8F3",
            "gridwidth": 2,
            "linecolor": "#EBF0F8",
            "showbackground": true,
            "ticks": "",
            "zerolinecolor": "#EBF0F8"
           },
           "yaxis": {
            "backgroundcolor": "white",
            "gridcolor": "#DFE8F3",
            "gridwidth": 2,
            "linecolor": "#EBF0F8",
            "showbackground": true,
            "ticks": "",
            "zerolinecolor": "#EBF0F8"
           },
           "zaxis": {
            "backgroundcolor": "white",
            "gridcolor": "#DFE8F3",
            "gridwidth": 2,
            "linecolor": "#EBF0F8",
            "showbackground": true,
            "ticks": "",
            "zerolinecolor": "#EBF0F8"
           }
          },
          "shapedefaults": {
           "line": {
            "color": "#2a3f5f"
           }
          },
          "ternary": {
           "aaxis": {
            "gridcolor": "#DFE8F3",
            "linecolor": "#A2B1C6",
            "ticks": ""
           },
           "baxis": {
            "gridcolor": "#DFE8F3",
            "linecolor": "#A2B1C6",
            "ticks": ""
           },
           "bgcolor": "white",
           "caxis": {
            "gridcolor": "#DFE8F3",
            "linecolor": "#A2B1C6",
            "ticks": ""
           }
          },
          "title": {
           "x": 0.05
          },
          "xaxis": {
           "automargin": true,
           "gridcolor": "#EBF0F8",
           "linecolor": "#EBF0F8",
           "ticks": "",
           "title": {
            "standoff": 15
           },
           "zerolinecolor": "#EBF0F8",
           "zerolinewidth": 2
          },
          "yaxis": {
           "automargin": true,
           "gridcolor": "#EBF0F8",
           "linecolor": "#EBF0F8",
           "ticks": "",
           "title": {
            "standoff": 15
           },
           "zerolinecolor": "#EBF0F8",
           "zerolinewidth": 2
          }
         }
        },
        "title": {
         "text": "平均加班时长与员工流失率关系"
        },
        "xaxis": {
         "anchor": "y",
         "domain": [
          0,
          1
         ],
         "title": {
          "text": "平均加班时长(小时/周)"
         }
        },
        "yaxis": {
         "anchor": "x",
         "domain": [
          0,
          1
         ],
         "ticktext": [
          "未流失",
          "流失"
         ],
         "tickvals": [
          0,
          1
         ],
         "title": {
          "text": "流失状态"
         }
        }
       }
      },
      "text/html": [
       "<div>                            <div id=\"4ff47742-851f-4064-beee-c07333f22509\" class=\"plotly-graph-div\" style=\"height:525px; width:100%;\"></div>            <script type=\"text/javascript\">                require([\"plotly\"], function(Plotly) {                    window.PLOTLYENV=window.PLOTLYENV || {};                                    if (document.getElementById(\"4ff47742-851f-4064-beee-c07333f22509\")) {                    Plotly.newPlot(                        \"4ff47742-851f-4064-beee-c07333f22509\",                        [{\"hovertemplate\":\"\\u6d41\\u5931\\u72b6\\u6001=%{y}\\u003cbr\\u003e\\u5e73\\u5747\\u52a0\\u73ed\\u65f6\\u957f(\\u5c0f\\u65f6\\u002f\\u5468)=%{x}\\u003cextra\\u003e\\u003c\\u002fextra\\u003e\",\"legendgroup\":\"\\u672a\\u6d41\\u5931\",\"marker\":{\"color\":\"#636efa\",\"symbol\":\"circle\"},\"mode\":\"markers\",\"name\":\"\\u672a\\u6d41\\u5931\",\"orientation\":\"v\",\"showlegend\":true,\"x\":[5.644090458328072,14.008463673976372,9.51706884692722,9.936726854418653,2.003979589451151,7.5132035292947315,5.1875786029816355,11.12757290991378,12.007311411458154,0.6203594093209537,8.050233792304542,12.191138647355194,7.45422215642533,10.76921039490856,9.401218992810046,9.366810039668508,7.147839779392764,3.7259774890287316,4.070060866321401,10.697856102328249,8.200438884978357,7.628585674521847,6.595518046793084,7.025216379359679,11.919820696047065,6.9164164236377434,3.2753457378483217,10.822019427455428,7.3883464768097245,8.243653033228652,13.949433469166229,8.055570782391165,9.176844896689786,3.8622969615000633,7.334796582489525,10.336484283655137,2.4995470834947033,8.85705923707887,8.4948636829742,8.279460589226531,11.88451521314284,9.340667423751649,13.480620272050327,4.53320595354959,8.62204693333042,8.43576976673161,4.259298732606611,11.591787907570673,16.545317367187202,8.068438010368533,9.958176339551038,8.435956882451485,5.5468234949360244,1.5388477943567018,5.575099991194779,3.091110660954733,14.298849522574008,7.713302907997875,6.877772028849243,11.348736845731858,4.069261007661686,5.353952182423521,8.376421614680009,11.854143748953,9.946099863511014,9.028937015907495,8.41278620155438,9.578853797006927,8.859983516567903,4.401500365307493,8.296806782312009,4.243247054717736,8.423518805300983,6.390054451812567,17.322561474473957,7.985582330818803,3.0466527701330497,7.644267637349534,10.010078659209157,14.187577485072136,5.9961823122218405,2.401610734034424,11.086949981380153,3.132232684643263,6.551117301742905,7.197413842450202,7.877926899053609,10.624775334609096,5.6552438981232775,7.139100107156327,8.078341322323215,8.671544606218013,8.48413437244268,9.70834090630574,11.18469902490309,9.551335498656504,9.771979595103371,2.4023521363777514,8.311824270979765,9.865817323765825,10.76876712434503,5.623690197273666,5.744277824903106,6.051755555473375,10.071818317606663,11.872649418825636,6.654994411604403,11.416823575329918,8.576996909175833,7.680085486671981,7.364789088058953,10.83273313985981,9.308591696769195,16.36848804808445,5.044946792349688,10.005528161348513,6.214292344482324,4.98318110710111,8.090660963933402,8.62721597545347,18.693788269317537,7.463392147226809,4.038752999265447,9.118298797329677,0.6198030640821477,7.7971164469725585,8.188011521908482,11.006453386261667,11.654512542928806,6.307077979554063,7.584777267039644,5.356642593189372,4.046413551596149,9.251819101357897,3.5196203140803117,6.629050619929856,4.527470265164761,10.119853134370741,14.651176959344689,3.418251502251942,1.422073091910801,7.677909475032757,8.186826021367086,8.921546690461419,6.514319734851672,7.403685738251937,9.460387686156981,11.896359831374317,1.0527234514478163,6.794439230706107,8.903987834066651,4.806926501309136,14.396834066997625,5.8298162335719725,7.9805204730336365,10.142799990569094,5.989549064537142,1.4454055669480104,6.57827061256215,11.856574812455888,6.910439641037799,5.065907828718498,11.480933398399854,6.93259487639655,6.283217854586214,8.67103104458118,10.92011575882001,16.751802984871816,11.124594709719872,12.328620678325807,6.298402359663965,4.416357456390497,8.355639485621225,8.517955093239738,4.225783876260159,7.495433801747474,9.575529718223255,9.434624089965451,9.955522029251068,9.183292323097545,6.294628653442398,6.2696797315311885,3.78979593926217,14.590885641850043,8.178690319921841,7.316031938022637,4.7677726651421,18.75708160642656,4.244552523353119,6.577570509306015,9.63532934735554,10.302770935994285,11.597714039880778,14.673542798124734,9.96229071276778,4.307168504120664,7.199858647059152,9.244353188500265,15.616978270251083,3.069944168104046,12.483326948915325,8.78129001775803,11.162946537530722,7.760779125777927,5.080393878942699,10.848159461432823,10.49904031812235,11.648846215977795,8.08183721992934,5.958644275582146,2.4871910780136943,11.096131230664652,9.66447992644723,4.6338668690324685,6.180363302666221,6.440333100735786,2.761596356223647,5.169989724289417,4.025534108360999,6.63682597696567,5.455915056046983,2.2402421864623703,15.451776634661524,12.664197446325815,5.309949694097653,9.116165455886069,9.641223625153089,12.441730794279987,5.166649803490516,12.083426558016384,6.146582798770896,3.2941780969096204,10.751374344718482,12.80254549532319,17.49823048418108,3.7869945403734278,10.660089259992457,6.646519497467411,10.965758532096995,2.8068278245428733,3.558773411971199,5.321333140137329,8.415849845318467,5.809285815131155,10.51577672496658,11.847358518093651,10.300470699308189,13.990011255572343,9.635292398628343,3.7248339085685958,13.06542297900879,5.9393344271062904,11.425714968861765,13.826917863929484,9.783210598844047,2.713905096343969,4.806071957234556,12.918334970124192,7.517775877973006,8.41805619649064,10.876944386512267,10.650688760730771,9.13925532083537,7.374620496181914,6.998140226448867,11.235593747554663,10.133921702465413,7.198573997763602,12.04724657303517,7.662896503230184,5.046982928909497,5.3825260699698925,4.5869581725586475,7.1438757398946535,12.59608188757702,5.215555444669558,8.812282254885533,5.7527845688287655,7.1876812705973965,2.6636508126133878,7.331651610453335,7.428786525106038,10.085842357409218,8.938276905984441,3.791820507673597,12.054797643437626,8.891297005603624,8.848184532182502,8.096759880745799,6.255718041055565,8.918444469890389,9.85163013806147,1.8062375973290923,6.1796857688071345,7.207091967139007,9.057337592613287,12.449785841456197,5.336298251159649,6.327378114519413,6.274626519459489,5.228470123821561,6.87318488769361,10.920304036356455,4.315115506781069,9.67868811045351,1.969113927333626,6.097956452879215,6.937248733210891,14.192992015948915,7.13521565679527,0.16149862610767585,0.8940221571622757,8.253187102574985,10.35185049795947,9.489150204610656,8.736603782999586,12.337379742970516,6.176679780931584,11.369576212817108,2.22210611620437,4.854088844764201,1.588510150346826,7.135060011575353,7.962534393495841,8.543047401860003,8.35401773745143,4.772256942461546,7.44132814322416,2.709243059647191,13.064888889978747,7.030873616109237,6.360232249061839,13.88196398896758,3.633067548551791,4.055374647204273,4.161682423975795,7.8843055982478765,9.692506499288104,10.807625194586558,17.44062304933179,-0.01294548420676378,10.33362283263039,6.113187327288523,6.007177161022641,5.886424895720964,4.840253791675137,14.227979901264497,11.179116323790328,8.213969442377698,13.020677024002943,2.654645145618071,3.3128474245820483,0.24575680945523093,5.5981193647537,8.715348666671206,8.50234805211505,8.670617718036768,3.0219742715407847,11.037420168262761,8.997451616025174,10.783656498906915,1.2782009171240132,9.257596908848,3.830289831498553,6.691689825764071,10.064400933063709,8.459758854646406,5.047425273198867,8.152708825387595,2.5858421588180125,12.293967973151833,7.386871849423571,12.179150798204281,6.223955292712325,6.23465492196817,5.363643832370997,11.301749632728933,5.561859210470918,10.46343546534294,6.74552232043717,0.9770128543923375,6.065463074612993,3.86162826400649,8.252727859730063,3.820723996858346,11.482029864586913,7.800305385522043,7.487102498973366,10.50432953879105,11.619343101354623,8.057242518593862,5.338254915631569,1.7082299896740922,5.646499879532649,5.895691667134379,8.517547979832115,6.880568290280342,10.62031735882617,5.911000558000104,7.923510975992351,12.41603454437274,9.36740727451698,7.912664099087397,5.95096112019466,5.837702343891784,5.05078002431395,6.171555145865905,10.86551033625442,7.326764457921988,3.243821488839944,14.530772840876416,9.288273991945491,3.0368648901423274,6.5305068833882185,8.531408705838873,14.300623377736507,4.1186329011028935,11.663267404068527,13.196140865639883,5.854271415630056,7.125400699725955,4.378560524506952,7.393470669289297,7.99754429287859,10.517932993058182,12.076464165094018,5.421892246069638,1.0082832675019002,8.053093899020004,9.19260585848648,9.032892029419852,6.947442844017262,8.581602600783445,13.615910206235137,9.511877691644285,6.778406301488835,6.319283902112496,7.515134465206616,14.054998661826918,7.466451431515167,8.058344472835039,6.384024873210584,12.108319753939913,15.224610862175725,9.761219238941626,8.429637911703242,8.26315385609073,-0.501190575404399,10.82744612871104,8.615682425904954,9.680598223391826,5.554506857416989,6.738266098102929,6.642089729858514,11.828275202344402,6.758889391496803,15.669230366037468,9.689721956834436,3.5120287708154523,7.664662418427917,5.770936057793776,0.18633545925151296,13.920084803211918,10.675376002836416,10.060210490795512,8.72876125028493,3.127096401333376,6.37930595480932,11.177246404718126,4.32458349218734,-1.0350049248279447,7.307876251833049,7.616837654420311,8.620739567421248,10.767237489522621,10.438133040276977,9.066746694982998,12.457823624873889,2.6313293934558013,9.956586168408153,10.398068875279733,3.6427845243895334,2.689608396569751,5.429689502158324,5.735219978094644,10.8573784578788,5.9053696030382365,5.030018363822043,5.915885873165697,12.179449049638247,8.177217015244567,7.48111128820798,7.731780094702194,12.807258410262012,5.417998349696266,12.892140013203177,8.891996602095844,7.549281837249242,17.1832598025221,4.308585046929082,6.849657550367439,3.66859891422632,11.577912333340935,14.24486393981908,14.175120468684794,12.560694486388538,7.414613906578605,6.8078276614867566,2.080365423571485,15.499862197358091,9.827700642897454,6.349116004372472,12.937565938132824,4.608592449328798,9.60197176388608,7.50508253386718,10.44201124636669,7.8998637881462415,2.877641034177369,8.403586469065537,11.926888193588812,8.024236610808574,10.935916740152493,4.345183261859928,8.034935928363137,5.8692721525793505,10.83407064117905,8.243999455388426,10.628066708338539,12.067511742691476,10.633659241939426,9.118688732142992,4.516471624188714,8.119914279385819,6.200212744702685,6.8844884767307,6.774186374284093,4.582669419288276,1.0444343073349573,5.711322165053485,8.830033615965457,3.249599095552486,8.18676969602728,15.008971696005693,11.833464730013107,14.079620263016317,9.54588291449647,12.356385559210935,5.509247675706611,5.7974882333804185,-1.7856875462176518,12.423846616033124,13.705972806947988,6.127498371842883,7.21069482284201,5.401019148438721,9.515205856348521,12.202255813997732,1.8211654545506324,9.612167480924954,7.128448186376694,8.540487698919415,9.791558286060933,7.448707171642388,7.755015590671075,7.355771893452208,11.64254465047358,9.64591105566154,8.928512406609247,3.5291547696459373,6.759541329568383,11.383182360427812,8.266461594708602,10.51750391991268,14.524772717186035,11.889753970535917,8.467233182473068,6.280219203891469,-1.113849537722352,7.520446580648275,6.949834765143007,9.54312562371126,7.572863078351632,6.970206084838805,1.6885758715638621,4.727316458476761,9.855476767698018,14.341585624700354,7.776958110840844,9.316676086338328,11.577970928169156,5.1945639509550965,9.457866836693302,5.449425815077587,11.260664467337461,8.678079033585274,9.210395566612814,5.296993077344709,10.689457141791042,15.676660774856279,4.481359662549894,6.900072392315964,8.968419056488493,10.976790487424857,6.104442447252123,-2.1255696503167183,13.050265968873772,10.883032152894597,1.8205299396382735,5.930600973758008,13.806820394888922,13.371023034817476,11.52787688209778,7.492472989065298,8.430414456101287,7.656048585443423,12.214228015433193,4.959450488487702,5.213005249319179,11.787194004346377,7.969411531048148,13.120051826742786,5.6991258107304255,7.931702335573454,4.79086499486489,8.156652906753314,2.7776600880643487,6.364767016143036,2.9307610089602143,10.642002104152356,10.72405340992994,1.8664489156466715,12.958666398712076,17.17064275763987,8.296543119985555,5.809166377986786,18.35407673943103,3.355334036144912,8.202785410066136,8.780232626927564,12.999434386037741,9.432255089958975,6.324945297245806,4.6867125791956,6.89260501070899,4.484922953378579,8.303127657620553,6.087609828905039,2.7215831882911035,12.673627753917152,6.3284254651868785,3.5393447659893695,7.5209019331551,8.377505068802925,1.807790453403899,9.330564554995263,4.3392896013412425,14.323924289270654,10.026737053717781,6.682362035804275,5.432492671451191,7.750016898619682,10.348302484531509,8.037711254521579,7.34388511816458,8.341300452760784,5.944030668922225,6.887594544828204,0.5794313711638859,11.654888955685571,9.21164796476478,5.330089844598984,15.003420632505964,8.44499965902044,4.379160269449788,11.23138946572306,9.570934543763531,9.558379547452875,6.588764711161243,9.760794520076487,7.182434989399638,10.14250805495795,1.2341010764814877,6.559378064015336,14.364201454065666,5.353215811450912,5.944105363074665,6.50837995481109,3.732401788083112,0.13602359005372744,7.295277237344522,8.621811115175598,7.93993165189008,7.605539605748651,8.285807952478404,11.832686127013767,7.440584806936236,6.051821070944085,7.112325744705128,10.227235270319529,13.241537300326563,5.856119664207576,8.48814030904456,9.354853939808175,4.536867615641661,8.203910145310765,2.8242606364216165,1.7260379004633775,9.457621996569971,6.740373436382567,8.862255075588815,8.065220183229773,4.595431823837054,7.966179426889103,3.6661732758462247,13.165319935965071,3.221387351606932,7.421257319093736,4.3569768512689615,10.194924647566081,6.930218435960961,6.2524264749712195,11.218589593086628,8.23653874187274,10.000252894288202,4.577600109806778,3.0445626629824254,8.518092822585285,6.975776193109073,10.39769351428328,7.8407314013615705,8.872372728029362,2.2533552416126996,14.96614172140361,7.535444014184045,10.655264832627902,5.103348153804953,9.244995846026775,3.4137019560404225,9.76648557450001,6.841373814523286,8.235669624246755,10.656665989070953,3.6682040733825865,5.652139935181676,9.785513897534091,15.725561737859225,7.630141948525437,10.269912746884636],\"xaxis\":\"x\",\"y\":[0,0,0,0,0,0,0,0,0,0,0,0,0,0,0,0,0,0,0,0,0,0,0,0,0,0,0,0,0,0,0,0,0,0,0,0,0,0,0,0,0,0,0,0,0,0,0,0,0,0,0,0,0,0,0,0,0,0,0,0,0,0,0,0,0,0,0,0,0,0,0,0,0,0,0,0,0,0,0,0,0,0,0,0,0,0,0,0,0,0,0,0,0,0,0,0,0,0,0,0,0,0,0,0,0,0,0,0,0,0,0,0,0,0,0,0,0,0,0,0,0,0,0,0,0,0,0,0,0,0,0,0,0,0,0,0,0,0,0,0,0,0,0,0,0,0,0,0,0,0,0,0,0,0,0,0,0,0,0,0,0,0,0,0,0,0,0,0,0,0,0,0,0,0,0,0,0,0,0,0,0,0,0,0,0,0,0,0,0,0,0,0,0,0,0,0,0,0,0,0,0,0,0,0,0,0,0,0,0,0,0,0,0,0,0,0,0,0,0,0,0,0,0,0,0,0,0,0,0,0,0,0,0,0,0,0,0,0,0,0,0,0,0,0,0,0,0,0,0,0,0,0,0,0,0,0,0,0,0,0,0,0,0,0,0,0,0,0,0,0,0,0,0,0,0,0,0,0,0,0,0,0,0,0,0,0,0,0,0,0,0,0,0,0,0,0,0,0,0,0,0,0,0,0,0,0,0,0,0,0,0,0,0,0,0,0,0,0,0,0,0,0,0,0,0,0,0,0,0,0,0,0,0,0,0,0,0,0,0,0,0,0,0,0,0,0,0,0,0,0,0,0,0,0,0,0,0,0,0,0,0,0,0,0,0,0,0,0,0,0,0,0,0,0,0,0,0,0,0,0,0,0,0,0,0,0,0,0,0,0,0,0,0,0,0,0,0,0,0,0,0,0,0,0,0,0,0,0,0,0,0,0,0,0,0,0,0,0,0,0,0,0,0,0,0,0,0,0,0,0,0,0,0,0,0,0,0,0,0,0,0,0,0,0,0,0,0,0,0,0,0,0,0,0,0,0,0,0,0,0,0,0,0,0,0,0,0,0,0,0,0,0,0,0,0,0,0,0,0,0,0,0,0,0,0,0,0,0,0,0,0,0,0,0,0,0,0,0,0,0,0,0,0,0,0,0,0,0,0,0,0,0,0,0,0,0,0,0,0,0,0,0,0,0,0,0,0,0,0,0,0,0,0,0,0,0,0,0,0,0,0,0,0,0,0,0,0,0,0,0,0,0,0,0,0,0,0,0,0,0,0,0,0,0,0,0,0,0,0,0,0,0,0,0,0,0,0,0,0,0,0,0,0,0,0,0,0,0,0,0,0,0,0,0,0,0,0,0,0,0,0,0,0,0,0,0,0,0,0,0,0,0,0,0,0,0,0,0,0,0,0,0,0,0,0,0,0,0,0,0,0,0,0,0,0,0,0,0,0,0,0,0,0,0,0,0,0,0,0,0,0,0,0,0,0,0,0,0,0,0,0,0,0,0,0,0,0,0,0,0,0,0,0,0,0,0,0,0,0,0,0,0,0,0,0,0,0,0,0,0,0,0,0,0,0,0,0,0,0,0,0,0,0,0,0,0,0,0,0,0,0,0,0,0,0,0,0,0,0,0,0,0,0,0,0,0,0,0,0,0,0,0,0,0,0,0,0,0,0,0,0,0,0,0,0,0,0,0,0],\"yaxis\":\"y\",\"type\":\"scatter\"},{\"hovertemplate\":\"\\u6d41\\u5931\\u72b6\\u6001=%{y}\\u003cbr\\u003e\\u5e73\\u5747\\u52a0\\u73ed\\u65f6\\u957f(\\u5c0f\\u65f6\\u002f\\u5468)=%{x}\\u003cextra\\u003e\\u003c\\u002fextra\\u003e\",\"legendgroup\":\"\\u6d41\\u5931\",\"marker\":{\"color\":\"#EF553B\",\"symbol\":\"circle\"},\"mode\":\"markers\",\"name\":\"\\u6d41\\u5931\",\"orientation\":\"v\",\"showlegend\":true,\"x\":[11.036071494481902,6.034611424926451,0.8231035061515728,7.773665146598822,7.4285114917643,6.942440776020495,7.97500017546686,9.346651143357205,7.84657663646122,3.814297672030544,10.149988945454218,1.3332742457328282,0.9677060046311956,11.065833390819677,10.225413385129993,8.18222877843199,3.3384764127866395,5.827362394759848,7.438856773374856,2.6128638337617103,5.714716257955898,10.751435824199582,13.556845418726965,6.871646195376047,11.128487842624278,1.461102544473369,10.777213492831274,5.479706738686519,9.502591132482852,7.493136245972253,13.169898715417482,5.224542953009497,10.66193479717383,7.37818298286655,7.816934169605018,7.724448906763661,5.328663361731312,8.33896174341785,8.163213435919006,9.263289699232361,8.695908627408164,11.278740269596296,11.733101190091475,4.586743574983361,11.53495645213859,4.095462133862328,10.518038315058602,10.633454400624386,1.471032852181736,8.726584872436463,6.694044069635657,5.643269766273943,13.2800854371304,6.023681510892544,5.47091551659266,8.66401568281844,10.871834881600268,7.877232118643342,12.612261375322692,10.312131896310008,0.5048750225722225,6.473329592104631,6.35613160034685,10.125286651414509,-1.1118377440742844,17.617415145558155,10.31231446351704,8.928934030182042,12.667275133437311,16.8740276711817,11.54210285341002,11.824703409227265,8.863097888561065,7.877676772811648,6.667620492702259,5.399474589993359,5.9030089590878205,3.5009874090784017,8.115345348520217,2.2915033704404797,9.081117817400234,8.258483198886724,8.921905780159811,6.499883716527628,19.528234540053425,13.313619558652732,3.8847561496933043,9.232982476485372,6.189017762566889,4.717583389319162,3.538939102531356,9.9546244205485,5.9234035490481425,11.893530206971239,11.98749161660019,13.363570074465448,5.3043599068117455,10.110823510705078,10.67948426424513,6.673475006123647,5.596185514237792,14.216464810109024,9.213535070150035,10.692203257576491,5.414084837182903,3.9761902311896593,6.328591816338561,7.941042577648211,4.537523575321197,8.354361792685614,2.27761121919203,4.335428330659063,10.818698718762288,10.575721683405977,6.9714061092995445,4.705693201141431,4.670799143475841,7.038768949692443,10.723156939755956,11.750249402666455,6.592555117555273,4.214357417935083,9.359593969076126,5.4088034063344255,6.513925447322448,13.187499447382077,11.38415785140808,8.961867010350256,3.7856532159719434,9.155255574243785,12.236819392650848,7.030206129928762,13.281033005751908,13.06973794805591,14.412712852359375,9.494980118043499,10.516357953297765,13.509357983758546,10.009566052189692,6.57553252979943,6.766274931769143,9.253568932660936,3.7181676525546887,7.871402726381623,12.35950056799352,0.4576610587816834,13.944825208496145,12.452994671705438,6.725652090693677,10.357074796895951,8.401394771400904,12.842565133748034,11.947312976827188,3.321743982077507,10.51588993674032,7.645627169811444,8.689853905275521,5.754017718489268,14.718256190217424,12.155023788047325,5.71202838641786,3.5587096029849583,6.99386507586019,9.962899578850527,9.259545155085327,12.926340825661041,11.249509394294686,11.899839873225524,9.573216550209784,3.3607385966362155,7.681571317248217,12.22752485846937,8.203486998740782,10.211187134417964,7.236131098808999,4.662081108278521,7.943494488153081,9.508751743778207,6.0164104555495745,7.5367252936188605,4.989143064010744,12.441666601582028,7.324070157531318,13.648975073356784,13.92406721895809,8.096613607707289,4.739415588178595,0.83904968260532,3.061225795643015,3.4167179338668507,13.380060051410648,8.809285005761545,9.800368377212997,0.3520759476548445,4.053361526233513,11.60122879073556,9.428122286824962,7.857116891158139,10.434729338132444,14.311588058211651,7.589826281995878,8.641118685622212,9.087200845807326,17.049436879691854,0.7903303228031282,10.863267313535486,7.97441585949219,10.441713648786731,6.010311354539098,8.212746588292411,10.965306297665093,19.658734927778703,11.3150910056355,5.320002535129559,6.855989951077815,6.748640927650449,1.8897717150793456,7.1950735060407975,11.042841276194718,3.777279728942002,12.185507196803146,10.155744852325306,5.732075374464843,7.877662712836993,14.17592494366054,11.045443084891236,8.421796830731296,7.529586392601237,8.667324835035009,6.537415920248862,0.7708067892971675,15.782684036135727,8.952276497101835,9.831293099743585,8.180373945445591,5.728877181376992,7.71695337896545,2.600190960856594,16.633053122952965,3.9210665657109267,4.654282052473211,6.796261680121231,13.052834123965606,8.44252257733081,3.915188418369726,12.93070486594157,11.036222268963444,10.339134545123558,10.980957953038443,17.057590080108472,16.300043520030727],\"xaxis\":\"x\",\"y\":[1,1,1,1,1,1,1,1,1,1,1,1,1,1,1,1,1,1,1,1,1,1,1,1,1,1,1,1,1,1,1,1,1,1,1,1,1,1,1,1,1,1,1,1,1,1,1,1,1,1,1,1,1,1,1,1,1,1,1,1,1,1,1,1,1,1,1,1,1,1,1,1,1,1,1,1,1,1,1,1,1,1,1,1,1,1,1,1,1,1,1,1,1,1,1,1,1,1,1,1,1,1,1,1,1,1,1,1,1,1,1,1,1,1,1,1,1,1,1,1,1,1,1,1,1,1,1,1,1,1,1,1,1,1,1,1,1,1,1,1,1,1,1,1,1,1,1,1,1,1,1,1,1,1,1,1,1,1,1,1,1,1,1,1,1,1,1,1,1,1,1,1,1,1,1,1,1,1,1,1,1,1,1,1,1,1,1,1,1,1,1,1,1,1,1,1,1,1,1,1,1,1,1,1,1,1,1,1,1,1,1,1,1,1,1,1,1,1,1,1,1,1,1,1,1,1,1,1,1,1,1,1,1,1,1,1,1,1,1,1,1,1,1,1,1,1,1,1,1,1,1],\"yaxis\":\"y\",\"type\":\"scatter\"}],                        {\"template\":{\"data\":{\"barpolar\":[{\"marker\":{\"line\":{\"color\":\"white\",\"width\":0.5},\"pattern\":{\"fillmode\":\"overlay\",\"size\":10,\"solidity\":0.2}},\"type\":\"barpolar\"}],\"bar\":[{\"error_x\":{\"color\":\"#2a3f5f\"},\"error_y\":{\"color\":\"#2a3f5f\"},\"marker\":{\"line\":{\"color\":\"white\",\"width\":0.5},\"pattern\":{\"fillmode\":\"overlay\",\"size\":10,\"solidity\":0.2}},\"type\":\"bar\"}],\"carpet\":[{\"aaxis\":{\"endlinecolor\":\"#2a3f5f\",\"gridcolor\":\"#C8D4E3\",\"linecolor\":\"#C8D4E3\",\"minorgridcolor\":\"#C8D4E3\",\"startlinecolor\":\"#2a3f5f\"},\"baxis\":{\"endlinecolor\":\"#2a3f5f\",\"gridcolor\":\"#C8D4E3\",\"linecolor\":\"#C8D4E3\",\"minorgridcolor\":\"#C8D4E3\",\"startlinecolor\":\"#2a3f5f\"},\"type\":\"carpet\"}],\"choropleth\":[{\"colorbar\":{\"outlinewidth\":0,\"ticks\":\"\"},\"type\":\"choropleth\"}],\"contourcarpet\":[{\"colorbar\":{\"outlinewidth\":0,\"ticks\":\"\"},\"type\":\"contourcarpet\"}],\"contour\":[{\"colorbar\":{\"outlinewidth\":0,\"ticks\":\"\"},\"colorscale\":[[0.0,\"#0d0887\"],[0.1111111111111111,\"#46039f\"],[0.2222222222222222,\"#7201a8\"],[0.3333333333333333,\"#9c179e\"],[0.4444444444444444,\"#bd3786\"],[0.5555555555555556,\"#d8576b\"],[0.6666666666666666,\"#ed7953\"],[0.7777777777777778,\"#fb9f3a\"],[0.8888888888888888,\"#fdca26\"],[1.0,\"#f0f921\"]],\"type\":\"contour\"}],\"heatmapgl\":[{\"colorbar\":{\"outlinewidth\":0,\"ticks\":\"\"},\"colorscale\":[[0.0,\"#0d0887\"],[0.1111111111111111,\"#46039f\"],[0.2222222222222222,\"#7201a8\"],[0.3333333333333333,\"#9c179e\"],[0.4444444444444444,\"#bd3786\"],[0.5555555555555556,\"#d8576b\"],[0.6666666666666666,\"#ed7953\"],[0.7777777777777778,\"#fb9f3a\"],[0.8888888888888888,\"#fdca26\"],[1.0,\"#f0f921\"]],\"type\":\"heatmapgl\"}],\"heatmap\":[{\"colorbar\":{\"outlinewidth\":0,\"ticks\":\"\"},\"colorscale\":[[0.0,\"#0d0887\"],[0.1111111111111111,\"#46039f\"],[0.2222222222222222,\"#7201a8\"],[0.3333333333333333,\"#9c179e\"],[0.4444444444444444,\"#bd3786\"],[0.5555555555555556,\"#d8576b\"],[0.6666666666666666,\"#ed7953\"],[0.7777777777777778,\"#fb9f3a\"],[0.8888888888888888,\"#fdca26\"],[1.0,\"#f0f921\"]],\"type\":\"heatmap\"}],\"histogram2dcontour\":[{\"colorbar\":{\"outlinewidth\":0,\"ticks\":\"\"},\"colorscale\":[[0.0,\"#0d0887\"],[0.1111111111111111,\"#46039f\"],[0.2222222222222222,\"#7201a8\"],[0.3333333333333333,\"#9c179e\"],[0.4444444444444444,\"#bd3786\"],[0.5555555555555556,\"#d8576b\"],[0.6666666666666666,\"#ed7953\"],[0.7777777777777778,\"#fb9f3a\"],[0.8888888888888888,\"#fdca26\"],[1.0,\"#f0f921\"]],\"type\":\"histogram2dcontour\"}],\"histogram2d\":[{\"colorbar\":{\"outlinewidth\":0,\"ticks\":\"\"},\"colorscale\":[[0.0,\"#0d0887\"],[0.1111111111111111,\"#46039f\"],[0.2222222222222222,\"#7201a8\"],[0.3333333333333333,\"#9c179e\"],[0.4444444444444444,\"#bd3786\"],[0.5555555555555556,\"#d8576b\"],[0.6666666666666666,\"#ed7953\"],[0.7777777777777778,\"#fb9f3a\"],[0.8888888888888888,\"#fdca26\"],[1.0,\"#f0f921\"]],\"type\":\"histogram2d\"}],\"histogram\":[{\"marker\":{\"pattern\":{\"fillmode\":\"overlay\",\"size\":10,\"solidity\":0.2}},\"type\":\"histogram\"}],\"mesh3d\":[{\"colorbar\":{\"outlinewidth\":0,\"ticks\":\"\"},\"type\":\"mesh3d\"}],\"parcoords\":[{\"line\":{\"colorbar\":{\"outlinewidth\":0,\"ticks\":\"\"}},\"type\":\"parcoords\"}],\"pie\":[{\"automargin\":true,\"type\":\"pie\"}],\"scatter3d\":[{\"line\":{\"colorbar\":{\"outlinewidth\":0,\"ticks\":\"\"}},\"marker\":{\"colorbar\":{\"outlinewidth\":0,\"ticks\":\"\"}},\"type\":\"scatter3d\"}],\"scattercarpet\":[{\"marker\":{\"colorbar\":{\"outlinewidth\":0,\"ticks\":\"\"}},\"type\":\"scattercarpet\"}],\"scattergeo\":[{\"marker\":{\"colorbar\":{\"outlinewidth\":0,\"ticks\":\"\"}},\"type\":\"scattergeo\"}],\"scattergl\":[{\"marker\":{\"colorbar\":{\"outlinewidth\":0,\"ticks\":\"\"}},\"type\":\"scattergl\"}],\"scattermapbox\":[{\"marker\":{\"colorbar\":{\"outlinewidth\":0,\"ticks\":\"\"}},\"type\":\"scattermapbox\"}],\"scatterpolargl\":[{\"marker\":{\"colorbar\":{\"outlinewidth\":0,\"ticks\":\"\"}},\"type\":\"scatterpolargl\"}],\"scatterpolar\":[{\"marker\":{\"colorbar\":{\"outlinewidth\":0,\"ticks\":\"\"}},\"type\":\"scatterpolar\"}],\"scatter\":[{\"fillpattern\":{\"fillmode\":\"overlay\",\"size\":10,\"solidity\":0.2},\"type\":\"scatter\"}],\"scatterternary\":[{\"marker\":{\"colorbar\":{\"outlinewidth\":0,\"ticks\":\"\"}},\"type\":\"scatterternary\"}],\"surface\":[{\"colorbar\":{\"outlinewidth\":0,\"ticks\":\"\"},\"colorscale\":[[0.0,\"#0d0887\"],[0.1111111111111111,\"#46039f\"],[0.2222222222222222,\"#7201a8\"],[0.3333333333333333,\"#9c179e\"],[0.4444444444444444,\"#bd3786\"],[0.5555555555555556,\"#d8576b\"],[0.6666666666666666,\"#ed7953\"],[0.7777777777777778,\"#fb9f3a\"],[0.8888888888888888,\"#fdca26\"],[1.0,\"#f0f921\"]],\"type\":\"surface\"}],\"table\":[{\"cells\":{\"fill\":{\"color\":\"#EBF0F8\"},\"line\":{\"color\":\"white\"}},\"header\":{\"fill\":{\"color\":\"#C8D4E3\"},\"line\":{\"color\":\"white\"}},\"type\":\"table\"}]},\"layout\":{\"annotationdefaults\":{\"arrowcolor\":\"#2a3f5f\",\"arrowhead\":0,\"arrowwidth\":1},\"autotypenumbers\":\"strict\",\"coloraxis\":{\"colorbar\":{\"outlinewidth\":0,\"ticks\":\"\"}},\"colorscale\":{\"diverging\":[[0,\"#8e0152\"],[0.1,\"#c51b7d\"],[0.2,\"#de77ae\"],[0.3,\"#f1b6da\"],[0.4,\"#fde0ef\"],[0.5,\"#f7f7f7\"],[0.6,\"#e6f5d0\"],[0.7,\"#b8e186\"],[0.8,\"#7fbc41\"],[0.9,\"#4d9221\"],[1,\"#276419\"]],\"sequential\":[[0.0,\"#0d0887\"],[0.1111111111111111,\"#46039f\"],[0.2222222222222222,\"#7201a8\"],[0.3333333333333333,\"#9c179e\"],[0.4444444444444444,\"#bd3786\"],[0.5555555555555556,\"#d8576b\"],[0.6666666666666666,\"#ed7953\"],[0.7777777777777778,\"#fb9f3a\"],[0.8888888888888888,\"#fdca26\"],[1.0,\"#f0f921\"]],\"sequentialminus\":[[0.0,\"#0d0887\"],[0.1111111111111111,\"#46039f\"],[0.2222222222222222,\"#7201a8\"],[0.3333333333333333,\"#9c179e\"],[0.4444444444444444,\"#bd3786\"],[0.5555555555555556,\"#d8576b\"],[0.6666666666666666,\"#ed7953\"],[0.7777777777777778,\"#fb9f3a\"],[0.8888888888888888,\"#fdca26\"],[1.0,\"#f0f921\"]]},\"colorway\":[\"#636efa\",\"#EF553B\",\"#00cc96\",\"#ab63fa\",\"#FFA15A\",\"#19d3f3\",\"#FF6692\",\"#B6E880\",\"#FF97FF\",\"#FECB52\"],\"font\":{\"color\":\"#2a3f5f\"},\"geo\":{\"bgcolor\":\"white\",\"lakecolor\":\"white\",\"landcolor\":\"white\",\"showlakes\":true,\"showland\":true,\"subunitcolor\":\"#C8D4E3\"},\"hoverlabel\":{\"align\":\"left\"},\"hovermode\":\"closest\",\"mapbox\":{\"style\":\"light\"},\"paper_bgcolor\":\"white\",\"plot_bgcolor\":\"white\",\"polar\":{\"angularaxis\":{\"gridcolor\":\"#EBF0F8\",\"linecolor\":\"#EBF0F8\",\"ticks\":\"\"},\"bgcolor\":\"white\",\"radialaxis\":{\"gridcolor\":\"#EBF0F8\",\"linecolor\":\"#EBF0F8\",\"ticks\":\"\"}},\"scene\":{\"xaxis\":{\"backgroundcolor\":\"white\",\"gridcolor\":\"#DFE8F3\",\"gridwidth\":2,\"linecolor\":\"#EBF0F8\",\"showbackground\":true,\"ticks\":\"\",\"zerolinecolor\":\"#EBF0F8\"},\"yaxis\":{\"backgroundcolor\":\"white\",\"gridcolor\":\"#DFE8F3\",\"gridwidth\":2,\"linecolor\":\"#EBF0F8\",\"showbackground\":true,\"ticks\":\"\",\"zerolinecolor\":\"#EBF0F8\"},\"zaxis\":{\"backgroundcolor\":\"white\",\"gridcolor\":\"#DFE8F3\",\"gridwidth\":2,\"linecolor\":\"#EBF0F8\",\"showbackground\":true,\"ticks\":\"\",\"zerolinecolor\":\"#EBF0F8\"}},\"shapedefaults\":{\"line\":{\"color\":\"#2a3f5f\"}},\"ternary\":{\"aaxis\":{\"gridcolor\":\"#DFE8F3\",\"linecolor\":\"#A2B1C6\",\"ticks\":\"\"},\"baxis\":{\"gridcolor\":\"#DFE8F3\",\"linecolor\":\"#A2B1C6\",\"ticks\":\"\"},\"bgcolor\":\"white\",\"caxis\":{\"gridcolor\":\"#DFE8F3\",\"linecolor\":\"#A2B1C6\",\"ticks\":\"\"}},\"title\":{\"x\":0.05},\"xaxis\":{\"automargin\":true,\"gridcolor\":\"#EBF0F8\",\"linecolor\":\"#EBF0F8\",\"ticks\":\"\",\"title\":{\"standoff\":15},\"zerolinecolor\":\"#EBF0F8\",\"zerolinewidth\":2},\"yaxis\":{\"automargin\":true,\"gridcolor\":\"#EBF0F8\",\"linecolor\":\"#EBF0F8\",\"ticks\":\"\",\"title\":{\"standoff\":15},\"zerolinecolor\":\"#EBF0F8\",\"zerolinewidth\":2}}},\"xaxis\":{\"anchor\":\"y\",\"domain\":[0.0,1.0],\"title\":{\"text\":\"\\u5e73\\u5747\\u52a0\\u73ed\\u65f6\\u957f(\\u5c0f\\u65f6\\u002f\\u5468)\"}},\"yaxis\":{\"anchor\":\"x\",\"domain\":[0.0,1.0],\"title\":{\"text\":\"\\u6d41\\u5931\\u72b6\\u6001\"},\"tickvals\":[0,1],\"ticktext\":[\"\\u672a\\u6d41\\u5931\",\"\\u6d41\\u5931\"]},\"legend\":{\"title\":{\"text\":\"\\u6d41\\u5931\\u72b6\\u6001\"},\"tracegroupgap\":0},\"title\":{\"text\":\"\\u5e73\\u5747\\u52a0\\u73ed\\u65f6\\u957f\\u4e0e\\u5458\\u5de5\\u6d41\\u5931\\u7387\\u5173\\u7cfb\"},\"font\":{\"family\":\"SimHei, Arial\",\"size\":12}},                        {\"responsive\": true}                    ).then(function(){\n",
       "                            \n",
       "var gd = document.getElementById('4ff47742-851f-4064-beee-c07333f22509');\n",
       "var x = new MutationObserver(function (mutations, observer) {{\n",
       "        var display = window.getComputedStyle(gd).display;\n",
       "        if (!display || display === 'none') {{\n",
       "            console.log([gd, 'removed!']);\n",
       "            Plotly.purge(gd);\n",
       "            observer.disconnect();\n",
       "        }}\n",
       "}});\n",
       "\n",
       "// Listen for the removal of the full notebook cells\n",
       "var notebookContainer = gd.closest('#notebook-container');\n",
       "if (notebookContainer) {{\n",
       "    x.observe(notebookContainer, {childList: true});\n",
       "}}\n",
       "\n",
       "// Listen for the clearing of the current output cell\n",
       "var outputEl = gd.closest('.output');\n",
       "if (outputEl) {{\n",
       "    x.observe(outputEl, {childList: true});\n",
       "}}\n",
       "\n",
       "                        })                };                });            </script>        </div>"
      ]
     },
     "metadata": {},
     "output_type": "display_data"
    },
    {
     "name": "stdout",
     "output_type": "stream",
     "text": [
      "解释：呈现平均加班时长与员工流失率之间的关系，发现随着平均加班时长的增加，员工流失率也逐渐上升，表明过度加班可能是导致员工流失的重要因素之一。\n",
      "\n",
      "图4：基本工资与员工流失率折线图\n"
     ]
    },
    {
     "data": {
      "application/vnd.plotly.v1+json": {
       "config": {
        "plotlyServerURL": "https://plot.ly"
       },
       "data": [
        {
         "hovertemplate": "基本工资水平=%{x}<br>流失率=%{y}<extra></extra>",
         "legendgroup": "",
         "line": {
          "color": "#636efa",
          "dash": "solid"
         },
         "marker": {
          "symbol": "circle"
         },
         "mode": "lines+markers",
         "name": "",
         "orientation": "v",
         "showlegend": false,
         "type": "scatter",
         "x": [
          "(14559.221, 14602.496]",
          "(14945.271, 14988.118]"
         ],
         "xaxis": "x",
         "y": [
          1,
          0
         ],
         "yaxis": "y"
        }
       ],
       "layout": {
        "font": {
         "family": "SimHei, Arial",
         "size": 12
        },
        "legend": {
         "tracegroupgap": 0
        },
        "template": {
         "data": {
          "bar": [
           {
            "error_x": {
             "color": "#2a3f5f"
            },
            "error_y": {
             "color": "#2a3f5f"
            },
            "marker": {
             "line": {
              "color": "white",
              "width": 0.5
             },
             "pattern": {
              "fillmode": "overlay",
              "size": 10,
              "solidity": 0.2
             }
            },
            "type": "bar"
           }
          ],
          "barpolar": [
           {
            "marker": {
             "line": {
              "color": "white",
              "width": 0.5
             },
             "pattern": {
              "fillmode": "overlay",
              "size": 10,
              "solidity": 0.2
             }
            },
            "type": "barpolar"
           }
          ],
          "carpet": [
           {
            "aaxis": {
             "endlinecolor": "#2a3f5f",
             "gridcolor": "#C8D4E3",
             "linecolor": "#C8D4E3",
             "minorgridcolor": "#C8D4E3",
             "startlinecolor": "#2a3f5f"
            },
            "baxis": {
             "endlinecolor": "#2a3f5f",
             "gridcolor": "#C8D4E3",
             "linecolor": "#C8D4E3",
             "minorgridcolor": "#C8D4E3",
             "startlinecolor": "#2a3f5f"
            },
            "type": "carpet"
           }
          ],
          "choropleth": [
           {
            "colorbar": {
             "outlinewidth": 0,
             "ticks": ""
            },
            "type": "choropleth"
           }
          ],
          "contour": [
           {
            "colorbar": {
             "outlinewidth": 0,
             "ticks": ""
            },
            "colorscale": [
             [
              0,
              "#0d0887"
             ],
             [
              0.1111111111111111,
              "#46039f"
             ],
             [
              0.2222222222222222,
              "#7201a8"
             ],
             [
              0.3333333333333333,
              "#9c179e"
             ],
             [
              0.4444444444444444,
              "#bd3786"
             ],
             [
              0.5555555555555556,
              "#d8576b"
             ],
             [
              0.6666666666666666,
              "#ed7953"
             ],
             [
              0.7777777777777778,
              "#fb9f3a"
             ],
             [
              0.8888888888888888,
              "#fdca26"
             ],
             [
              1,
              "#f0f921"
             ]
            ],
            "type": "contour"
           }
          ],
          "contourcarpet": [
           {
            "colorbar": {
             "outlinewidth": 0,
             "ticks": ""
            },
            "type": "contourcarpet"
           }
          ],
          "heatmap": [
           {
            "colorbar": {
             "outlinewidth": 0,
             "ticks": ""
            },
            "colorscale": [
             [
              0,
              "#0d0887"
             ],
             [
              0.1111111111111111,
              "#46039f"
             ],
             [
              0.2222222222222222,
              "#7201a8"
             ],
             [
              0.3333333333333333,
              "#9c179e"
             ],
             [
              0.4444444444444444,
              "#bd3786"
             ],
             [
              0.5555555555555556,
              "#d8576b"
             ],
             [
              0.6666666666666666,
              "#ed7953"
             ],
             [
              0.7777777777777778,
              "#fb9f3a"
             ],
             [
              0.8888888888888888,
              "#fdca26"
             ],
             [
              1,
              "#f0f921"
             ]
            ],
            "type": "heatmap"
           }
          ],
          "heatmapgl": [
           {
            "colorbar": {
             "outlinewidth": 0,
             "ticks": ""
            },
            "colorscale": [
             [
              0,
              "#0d0887"
             ],
             [
              0.1111111111111111,
              "#46039f"
             ],
             [
              0.2222222222222222,
              "#7201a8"
             ],
             [
              0.3333333333333333,
              "#9c179e"
             ],
             [
              0.4444444444444444,
              "#bd3786"
             ],
             [
              0.5555555555555556,
              "#d8576b"
             ],
             [
              0.6666666666666666,
              "#ed7953"
             ],
             [
              0.7777777777777778,
              "#fb9f3a"
             ],
             [
              0.8888888888888888,
              "#fdca26"
             ],
             [
              1,
              "#f0f921"
             ]
            ],
            "type": "heatmapgl"
           }
          ],
          "histogram": [
           {
            "marker": {
             "pattern": {
              "fillmode": "overlay",
              "size": 10,
              "solidity": 0.2
             }
            },
            "type": "histogram"
           }
          ],
          "histogram2d": [
           {
            "colorbar": {
             "outlinewidth": 0,
             "ticks": ""
            },
            "colorscale": [
             [
              0,
              "#0d0887"
             ],
             [
              0.1111111111111111,
              "#46039f"
             ],
             [
              0.2222222222222222,
              "#7201a8"
             ],
             [
              0.3333333333333333,
              "#9c179e"
             ],
             [
              0.4444444444444444,
              "#bd3786"
             ],
             [
              0.5555555555555556,
              "#d8576b"
             ],
             [
              0.6666666666666666,
              "#ed7953"
             ],
             [
              0.7777777777777778,
              "#fb9f3a"
             ],
             [
              0.8888888888888888,
              "#fdca26"
             ],
             [
              1,
              "#f0f921"
             ]
            ],
            "type": "histogram2d"
           }
          ],
          "histogram2dcontour": [
           {
            "colorbar": {
             "outlinewidth": 0,
             "ticks": ""
            },
            "colorscale": [
             [
              0,
              "#0d0887"
             ],
             [
              0.1111111111111111,
              "#46039f"
             ],
             [
              0.2222222222222222,
              "#7201a8"
             ],
             [
              0.3333333333333333,
              "#9c179e"
             ],
             [
              0.4444444444444444,
              "#bd3786"
             ],
             [
              0.5555555555555556,
              "#d8576b"
             ],
             [
              0.6666666666666666,
              "#ed7953"
             ],
             [
              0.7777777777777778,
              "#fb9f3a"
             ],
             [
              0.8888888888888888,
              "#fdca26"
             ],
             [
              1,
              "#f0f921"
             ]
            ],
            "type": "histogram2dcontour"
           }
          ],
          "mesh3d": [
           {
            "colorbar": {
             "outlinewidth": 0,
             "ticks": ""
            },
            "type": "mesh3d"
           }
          ],
          "parcoords": [
           {
            "line": {
             "colorbar": {
              "outlinewidth": 0,
              "ticks": ""
             }
            },
            "type": "parcoords"
           }
          ],
          "pie": [
           {
            "automargin": true,
            "type": "pie"
           }
          ],
          "scatter": [
           {
            "fillpattern": {
             "fillmode": "overlay",
             "size": 10,
             "solidity": 0.2
            },
            "type": "scatter"
           }
          ],
          "scatter3d": [
           {
            "line": {
             "colorbar": {
              "outlinewidth": 0,
              "ticks": ""
             }
            },
            "marker": {
             "colorbar": {
              "outlinewidth": 0,
              "ticks": ""
             }
            },
            "type": "scatter3d"
           }
          ],
          "scattercarpet": [
           {
            "marker": {
             "colorbar": {
              "outlinewidth": 0,
              "ticks": ""
             }
            },
            "type": "scattercarpet"
           }
          ],
          "scattergeo": [
           {
            "marker": {
             "colorbar": {
              "outlinewidth": 0,
              "ticks": ""
             }
            },
            "type": "scattergeo"
           }
          ],
          "scattergl": [
           {
            "marker": {
             "colorbar": {
              "outlinewidth": 0,
              "ticks": ""
             }
            },
            "type": "scattergl"
           }
          ],
          "scattermapbox": [
           {
            "marker": {
             "colorbar": {
              "outlinewidth": 0,
              "ticks": ""
             }
            },
            "type": "scattermapbox"
           }
          ],
          "scatterpolar": [
           {
            "marker": {
             "colorbar": {
              "outlinewidth": 0,
              "ticks": ""
             }
            },
            "type": "scatterpolar"
           }
          ],
          "scatterpolargl": [
           {
            "marker": {
             "colorbar": {
              "outlinewidth": 0,
              "ticks": ""
             }
            },
            "type": "scatterpolargl"
           }
          ],
          "scatterternary": [
           {
            "marker": {
             "colorbar": {
              "outlinewidth": 0,
              "ticks": ""
             }
            },
            "type": "scatterternary"
           }
          ],
          "surface": [
           {
            "colorbar": {
             "outlinewidth": 0,
             "ticks": ""
            },
            "colorscale": [
             [
              0,
              "#0d0887"
             ],
             [
              0.1111111111111111,
              "#46039f"
             ],
             [
              0.2222222222222222,
              "#7201a8"
             ],
             [
              0.3333333333333333,
              "#9c179e"
             ],
             [
              0.4444444444444444,
              "#bd3786"
             ],
             [
              0.5555555555555556,
              "#d8576b"
             ],
             [
              0.6666666666666666,
              "#ed7953"
             ],
             [
              0.7777777777777778,
              "#fb9f3a"
             ],
             [
              0.8888888888888888,
              "#fdca26"
             ],
             [
              1,
              "#f0f921"
             ]
            ],
            "type": "surface"
           }
          ],
          "table": [
           {
            "cells": {
             "fill": {
              "color": "#EBF0F8"
             },
             "line": {
              "color": "white"
             }
            },
            "header": {
             "fill": {
              "color": "#C8D4E3"
             },
             "line": {
              "color": "white"
             }
            },
            "type": "table"
           }
          ]
         },
         "layout": {
          "annotationdefaults": {
           "arrowcolor": "#2a3f5f",
           "arrowhead": 0,
           "arrowwidth": 1
          },
          "autotypenumbers": "strict",
          "coloraxis": {
           "colorbar": {
            "outlinewidth": 0,
            "ticks": ""
           }
          },
          "colorscale": {
           "diverging": [
            [
             0,
             "#8e0152"
            ],
            [
             0.1,
             "#c51b7d"
            ],
            [
             0.2,
             "#de77ae"
            ],
            [
             0.3,
             "#f1b6da"
            ],
            [
             0.4,
             "#fde0ef"
            ],
            [
             0.5,
             "#f7f7f7"
            ],
            [
             0.6,
             "#e6f5d0"
            ],
            [
             0.7,
             "#b8e186"
            ],
            [
             0.8,
             "#7fbc41"
            ],
            [
             0.9,
             "#4d9221"
            ],
            [
             1,
             "#276419"
            ]
           ],
           "sequential": [
            [
             0,
             "#0d0887"
            ],
            [
             0.1111111111111111,
             "#46039f"
            ],
            [
             0.2222222222222222,
             "#7201a8"
            ],
            [
             0.3333333333333333,
             "#9c179e"
            ],
            [
             0.4444444444444444,
             "#bd3786"
            ],
            [
             0.5555555555555556,
             "#d8576b"
            ],
            [
             0.6666666666666666,
             "#ed7953"
            ],
            [
             0.7777777777777778,
             "#fb9f3a"
            ],
            [
             0.8888888888888888,
             "#fdca26"
            ],
            [
             1,
             "#f0f921"
            ]
           ],
           "sequentialminus": [
            [
             0,
             "#0d0887"
            ],
            [
             0.1111111111111111,
             "#46039f"
            ],
            [
             0.2222222222222222,
             "#7201a8"
            ],
            [
             0.3333333333333333,
             "#9c179e"
            ],
            [
             0.4444444444444444,
             "#bd3786"
            ],
            [
             0.5555555555555556,
             "#d8576b"
            ],
            [
             0.6666666666666666,
             "#ed7953"
            ],
            [
             0.7777777777777778,
             "#fb9f3a"
            ],
            [
             0.8888888888888888,
             "#fdca26"
            ],
            [
             1,
             "#f0f921"
            ]
           ]
          },
          "colorway": [
           "#636efa",
           "#EF553B",
           "#00cc96",
           "#ab63fa",
           "#FFA15A",
           "#19d3f3",
           "#FF6692",
           "#B6E880",
           "#FF97FF",
           "#FECB52"
          ],
          "font": {
           "color": "#2a3f5f"
          },
          "geo": {
           "bgcolor": "white",
           "lakecolor": "white",
           "landcolor": "white",
           "showlakes": true,
           "showland": true,
           "subunitcolor": "#C8D4E3"
          },
          "hoverlabel": {
           "align": "left"
          },
          "hovermode": "closest",
          "mapbox": {
           "style": "light"
          },
          "paper_bgcolor": "white",
          "plot_bgcolor": "white",
          "polar": {
           "angularaxis": {
            "gridcolor": "#EBF0F8",
            "linecolor": "#EBF0F8",
            "ticks": ""
           },
           "bgcolor": "white",
           "radialaxis": {
            "gridcolor": "#EBF0F8",
            "linecolor": "#EBF0F8",
            "ticks": ""
           }
          },
          "scene": {
           "xaxis": {
            "backgroundcolor": "white",
            "gridcolor": "#DFE8F3",
            "gridwidth": 2,
            "linecolor": "#EBF0F8",
            "showbackground": true,
            "ticks": "",
            "zerolinecolor": "#EBF0F8"
           },
           "yaxis": {
            "backgroundcolor": "white",
            "gridcolor": "#DFE8F3",
            "gridwidth": 2,
            "linecolor": "#EBF0F8",
            "showbackground": true,
            "ticks": "",
            "zerolinecolor": "#EBF0F8"
           },
           "zaxis": {
            "backgroundcolor": "white",
            "gridcolor": "#DFE8F3",
            "gridwidth": 2,
            "linecolor": "#EBF0F8",
            "showbackground": true,
            "ticks": "",
            "zerolinecolor": "#EBF0F8"
           }
          },
          "shapedefaults": {
           "line": {
            "color": "#2a3f5f"
           }
          },
          "ternary": {
           "aaxis": {
            "gridcolor": "#DFE8F3",
            "linecolor": "#A2B1C6",
            "ticks": ""
           },
           "baxis": {
            "gridcolor": "#DFE8F3",
            "linecolor": "#A2B1C6",
            "ticks": ""
           },
           "bgcolor": "white",
           "caxis": {
            "gridcolor": "#DFE8F3",
            "linecolor": "#A2B1C6",
            "ticks": ""
           }
          },
          "title": {
           "x": 0.05
          },
          "xaxis": {
           "automargin": true,
           "gridcolor": "#EBF0F8",
           "linecolor": "#EBF0F8",
           "ticks": "",
           "title": {
            "standoff": 15
           },
           "zerolinecolor": "#EBF0F8",
           "zerolinewidth": 2
          },
          "yaxis": {
           "automargin": true,
           "gridcolor": "#EBF0F8",
           "linecolor": "#EBF0F8",
           "ticks": "",
           "title": {
            "standoff": 15
           },
           "zerolinecolor": "#EBF0F8",
           "zerolinewidth": 2
          }
         }
        },
        "title": {
         "text": "基本工资与员工流失率关系"
        },
        "xaxis": {
         "anchor": "y",
         "domain": [
          0,
          1
         ],
         "tickangle": 45,
         "title": {
          "text": "基本工资水平"
         }
        },
        "yaxis": {
         "anchor": "x",
         "domain": [
          0,
          1
         ],
         "range": [
          0,
          1.5
         ],
         "title": {
          "text": "流失率"
         }
        }
       }
      },
      "text/html": [
       "<div>                            <div id=\"6354e253-ff1e-47bb-916d-ed94003e580f\" class=\"plotly-graph-div\" style=\"height:525px; width:100%;\"></div>            <script type=\"text/javascript\">                require([\"plotly\"], function(Plotly) {                    window.PLOTLYENV=window.PLOTLYENV || {};                                    if (document.getElementById(\"6354e253-ff1e-47bb-916d-ed94003e580f\")) {                    Plotly.newPlot(                        \"6354e253-ff1e-47bb-916d-ed94003e580f\",                        [{\"hovertemplate\":\"\\u57fa\\u672c\\u5de5\\u8d44\\u6c34\\u5e73=%{x}\\u003cbr\\u003e\\u6d41\\u5931\\u7387=%{y}\\u003cextra\\u003e\\u003c\\u002fextra\\u003e\",\"legendgroup\":\"\",\"line\":{\"color\":\"#636efa\",\"dash\":\"solid\"},\"marker\":{\"symbol\":\"circle\"},\"mode\":\"lines+markers\",\"name\":\"\",\"orientation\":\"v\",\"showlegend\":false,\"x\":[\"(14559.221, 14602.496]\",\"(14945.271, 14988.118]\"],\"xaxis\":\"x\",\"y\":[1,0],\"yaxis\":\"y\",\"type\":\"scatter\"}],                        {\"template\":{\"data\":{\"barpolar\":[{\"marker\":{\"line\":{\"color\":\"white\",\"width\":0.5},\"pattern\":{\"fillmode\":\"overlay\",\"size\":10,\"solidity\":0.2}},\"type\":\"barpolar\"}],\"bar\":[{\"error_x\":{\"color\":\"#2a3f5f\"},\"error_y\":{\"color\":\"#2a3f5f\"},\"marker\":{\"line\":{\"color\":\"white\",\"width\":0.5},\"pattern\":{\"fillmode\":\"overlay\",\"size\":10,\"solidity\":0.2}},\"type\":\"bar\"}],\"carpet\":[{\"aaxis\":{\"endlinecolor\":\"#2a3f5f\",\"gridcolor\":\"#C8D4E3\",\"linecolor\":\"#C8D4E3\",\"minorgridcolor\":\"#C8D4E3\",\"startlinecolor\":\"#2a3f5f\"},\"baxis\":{\"endlinecolor\":\"#2a3f5f\",\"gridcolor\":\"#C8D4E3\",\"linecolor\":\"#C8D4E3\",\"minorgridcolor\":\"#C8D4E3\",\"startlinecolor\":\"#2a3f5f\"},\"type\":\"carpet\"}],\"choropleth\":[{\"colorbar\":{\"outlinewidth\":0,\"ticks\":\"\"},\"type\":\"choropleth\"}],\"contourcarpet\":[{\"colorbar\":{\"outlinewidth\":0,\"ticks\":\"\"},\"type\":\"contourcarpet\"}],\"contour\":[{\"colorbar\":{\"outlinewidth\":0,\"ticks\":\"\"},\"colorscale\":[[0.0,\"#0d0887\"],[0.1111111111111111,\"#46039f\"],[0.2222222222222222,\"#7201a8\"],[0.3333333333333333,\"#9c179e\"],[0.4444444444444444,\"#bd3786\"],[0.5555555555555556,\"#d8576b\"],[0.6666666666666666,\"#ed7953\"],[0.7777777777777778,\"#fb9f3a\"],[0.8888888888888888,\"#fdca26\"],[1.0,\"#f0f921\"]],\"type\":\"contour\"}],\"heatmapgl\":[{\"colorbar\":{\"outlinewidth\":0,\"ticks\":\"\"},\"colorscale\":[[0.0,\"#0d0887\"],[0.1111111111111111,\"#46039f\"],[0.2222222222222222,\"#7201a8\"],[0.3333333333333333,\"#9c179e\"],[0.4444444444444444,\"#bd3786\"],[0.5555555555555556,\"#d8576b\"],[0.6666666666666666,\"#ed7953\"],[0.7777777777777778,\"#fb9f3a\"],[0.8888888888888888,\"#fdca26\"],[1.0,\"#f0f921\"]],\"type\":\"heatmapgl\"}],\"heatmap\":[{\"colorbar\":{\"outlinewidth\":0,\"ticks\":\"\"},\"colorscale\":[[0.0,\"#0d0887\"],[0.1111111111111111,\"#46039f\"],[0.2222222222222222,\"#7201a8\"],[0.3333333333333333,\"#9c179e\"],[0.4444444444444444,\"#bd3786\"],[0.5555555555555556,\"#d8576b\"],[0.6666666666666666,\"#ed7953\"],[0.7777777777777778,\"#fb9f3a\"],[0.8888888888888888,\"#fdca26\"],[1.0,\"#f0f921\"]],\"type\":\"heatmap\"}],\"histogram2dcontour\":[{\"colorbar\":{\"outlinewidth\":0,\"ticks\":\"\"},\"colorscale\":[[0.0,\"#0d0887\"],[0.1111111111111111,\"#46039f\"],[0.2222222222222222,\"#7201a8\"],[0.3333333333333333,\"#9c179e\"],[0.4444444444444444,\"#bd3786\"],[0.5555555555555556,\"#d8576b\"],[0.6666666666666666,\"#ed7953\"],[0.7777777777777778,\"#fb9f3a\"],[0.8888888888888888,\"#fdca26\"],[1.0,\"#f0f921\"]],\"type\":\"histogram2dcontour\"}],\"histogram2d\":[{\"colorbar\":{\"outlinewidth\":0,\"ticks\":\"\"},\"colorscale\":[[0.0,\"#0d0887\"],[0.1111111111111111,\"#46039f\"],[0.2222222222222222,\"#7201a8\"],[0.3333333333333333,\"#9c179e\"],[0.4444444444444444,\"#bd3786\"],[0.5555555555555556,\"#d8576b\"],[0.6666666666666666,\"#ed7953\"],[0.7777777777777778,\"#fb9f3a\"],[0.8888888888888888,\"#fdca26\"],[1.0,\"#f0f921\"]],\"type\":\"histogram2d\"}],\"histogram\":[{\"marker\":{\"pattern\":{\"fillmode\":\"overlay\",\"size\":10,\"solidity\":0.2}},\"type\":\"histogram\"}],\"mesh3d\":[{\"colorbar\":{\"outlinewidth\":0,\"ticks\":\"\"},\"type\":\"mesh3d\"}],\"parcoords\":[{\"line\":{\"colorbar\":{\"outlinewidth\":0,\"ticks\":\"\"}},\"type\":\"parcoords\"}],\"pie\":[{\"automargin\":true,\"type\":\"pie\"}],\"scatter3d\":[{\"line\":{\"colorbar\":{\"outlinewidth\":0,\"ticks\":\"\"}},\"marker\":{\"colorbar\":{\"outlinewidth\":0,\"ticks\":\"\"}},\"type\":\"scatter3d\"}],\"scattercarpet\":[{\"marker\":{\"colorbar\":{\"outlinewidth\":0,\"ticks\":\"\"}},\"type\":\"scattercarpet\"}],\"scattergeo\":[{\"marker\":{\"colorbar\":{\"outlinewidth\":0,\"ticks\":\"\"}},\"type\":\"scattergeo\"}],\"scattergl\":[{\"marker\":{\"colorbar\":{\"outlinewidth\":0,\"ticks\":\"\"}},\"type\":\"scattergl\"}],\"scattermapbox\":[{\"marker\":{\"colorbar\":{\"outlinewidth\":0,\"ticks\":\"\"}},\"type\":\"scattermapbox\"}],\"scatterpolargl\":[{\"marker\":{\"colorbar\":{\"outlinewidth\":0,\"ticks\":\"\"}},\"type\":\"scatterpolargl\"}],\"scatterpolar\":[{\"marker\":{\"colorbar\":{\"outlinewidth\":0,\"ticks\":\"\"}},\"type\":\"scatterpolar\"}],\"scatter\":[{\"fillpattern\":{\"fillmode\":\"overlay\",\"size\":10,\"solidity\":0.2},\"type\":\"scatter\"}],\"scatterternary\":[{\"marker\":{\"colorbar\":{\"outlinewidth\":0,\"ticks\":\"\"}},\"type\":\"scatterternary\"}],\"surface\":[{\"colorbar\":{\"outlinewidth\":0,\"ticks\":\"\"},\"colorscale\":[[0.0,\"#0d0887\"],[0.1111111111111111,\"#46039f\"],[0.2222222222222222,\"#7201a8\"],[0.3333333333333333,\"#9c179e\"],[0.4444444444444444,\"#bd3786\"],[0.5555555555555556,\"#d8576b\"],[0.6666666666666666,\"#ed7953\"],[0.7777777777777778,\"#fb9f3a\"],[0.8888888888888888,\"#fdca26\"],[1.0,\"#f0f921\"]],\"type\":\"surface\"}],\"table\":[{\"cells\":{\"fill\":{\"color\":\"#EBF0F8\"},\"line\":{\"color\":\"white\"}},\"header\":{\"fill\":{\"color\":\"#C8D4E3\"},\"line\":{\"color\":\"white\"}},\"type\":\"table\"}]},\"layout\":{\"annotationdefaults\":{\"arrowcolor\":\"#2a3f5f\",\"arrowhead\":0,\"arrowwidth\":1},\"autotypenumbers\":\"strict\",\"coloraxis\":{\"colorbar\":{\"outlinewidth\":0,\"ticks\":\"\"}},\"colorscale\":{\"diverging\":[[0,\"#8e0152\"],[0.1,\"#c51b7d\"],[0.2,\"#de77ae\"],[0.3,\"#f1b6da\"],[0.4,\"#fde0ef\"],[0.5,\"#f7f7f7\"],[0.6,\"#e6f5d0\"],[0.7,\"#b8e186\"],[0.8,\"#7fbc41\"],[0.9,\"#4d9221\"],[1,\"#276419\"]],\"sequential\":[[0.0,\"#0d0887\"],[0.1111111111111111,\"#46039f\"],[0.2222222222222222,\"#7201a8\"],[0.3333333333333333,\"#9c179e\"],[0.4444444444444444,\"#bd3786\"],[0.5555555555555556,\"#d8576b\"],[0.6666666666666666,\"#ed7953\"],[0.7777777777777778,\"#fb9f3a\"],[0.8888888888888888,\"#fdca26\"],[1.0,\"#f0f921\"]],\"sequentialminus\":[[0.0,\"#0d0887\"],[0.1111111111111111,\"#46039f\"],[0.2222222222222222,\"#7201a8\"],[0.3333333333333333,\"#9c179e\"],[0.4444444444444444,\"#bd3786\"],[0.5555555555555556,\"#d8576b\"],[0.6666666666666666,\"#ed7953\"],[0.7777777777777778,\"#fb9f3a\"],[0.8888888888888888,\"#fdca26\"],[1.0,\"#f0f921\"]]},\"colorway\":[\"#636efa\",\"#EF553B\",\"#00cc96\",\"#ab63fa\",\"#FFA15A\",\"#19d3f3\",\"#FF6692\",\"#B6E880\",\"#FF97FF\",\"#FECB52\"],\"font\":{\"color\":\"#2a3f5f\"},\"geo\":{\"bgcolor\":\"white\",\"lakecolor\":\"white\",\"landcolor\":\"white\",\"showlakes\":true,\"showland\":true,\"subunitcolor\":\"#C8D4E3\"},\"hoverlabel\":{\"align\":\"left\"},\"hovermode\":\"closest\",\"mapbox\":{\"style\":\"light\"},\"paper_bgcolor\":\"white\",\"plot_bgcolor\":\"white\",\"polar\":{\"angularaxis\":{\"gridcolor\":\"#EBF0F8\",\"linecolor\":\"#EBF0F8\",\"ticks\":\"\"},\"bgcolor\":\"white\",\"radialaxis\":{\"gridcolor\":\"#EBF0F8\",\"linecolor\":\"#EBF0F8\",\"ticks\":\"\"}},\"scene\":{\"xaxis\":{\"backgroundcolor\":\"white\",\"gridcolor\":\"#DFE8F3\",\"gridwidth\":2,\"linecolor\":\"#EBF0F8\",\"showbackground\":true,\"ticks\":\"\",\"zerolinecolor\":\"#EBF0F8\"},\"yaxis\":{\"backgroundcolor\":\"white\",\"gridcolor\":\"#DFE8F3\",\"gridwidth\":2,\"linecolor\":\"#EBF0F8\",\"showbackground\":true,\"ticks\":\"\",\"zerolinecolor\":\"#EBF0F8\"},\"zaxis\":{\"backgroundcolor\":\"white\",\"gridcolor\":\"#DFE8F3\",\"gridwidth\":2,\"linecolor\":\"#EBF0F8\",\"showbackground\":true,\"ticks\":\"\",\"zerolinecolor\":\"#EBF0F8\"}},\"shapedefaults\":{\"line\":{\"color\":\"#2a3f5f\"}},\"ternary\":{\"aaxis\":{\"gridcolor\":\"#DFE8F3\",\"linecolor\":\"#A2B1C6\",\"ticks\":\"\"},\"baxis\":{\"gridcolor\":\"#DFE8F3\",\"linecolor\":\"#A2B1C6\",\"ticks\":\"\"},\"bgcolor\":\"white\",\"caxis\":{\"gridcolor\":\"#DFE8F3\",\"linecolor\":\"#A2B1C6\",\"ticks\":\"\"}},\"title\":{\"x\":0.05},\"xaxis\":{\"automargin\":true,\"gridcolor\":\"#EBF0F8\",\"linecolor\":\"#EBF0F8\",\"ticks\":\"\",\"title\":{\"standoff\":15},\"zerolinecolor\":\"#EBF0F8\",\"zerolinewidth\":2},\"yaxis\":{\"automargin\":true,\"gridcolor\":\"#EBF0F8\",\"linecolor\":\"#EBF0F8\",\"ticks\":\"\",\"title\":{\"standoff\":15},\"zerolinecolor\":\"#EBF0F8\",\"zerolinewidth\":2}}},\"xaxis\":{\"anchor\":\"y\",\"domain\":[0.0,1.0],\"title\":{\"text\":\"\\u57fa\\u672c\\u5de5\\u8d44\\u6c34\\u5e73\"},\"tickangle\":45},\"yaxis\":{\"anchor\":\"x\",\"domain\":[0.0,1.0],\"title\":{\"text\":\"\\u6d41\\u5931\\u7387\"},\"range\":[0,1.5]},\"legend\":{\"tracegroupgap\":0},\"title\":{\"text\":\"\\u57fa\\u672c\\u5de5\\u8d44\\u4e0e\\u5458\\u5de5\\u6d41\\u5931\\u7387\\u5173\\u7cfb\"},\"font\":{\"family\":\"SimHei, Arial\",\"size\":12}},                        {\"responsive\": true}                    ).then(function(){\n",
       "                            \n",
       "var gd = document.getElementById('6354e253-ff1e-47bb-916d-ed94003e580f');\n",
       "var x = new MutationObserver(function (mutations, observer) {{\n",
       "        var display = window.getComputedStyle(gd).display;\n",
       "        if (!display || display === 'none') {{\n",
       "            console.log([gd, 'removed!']);\n",
       "            Plotly.purge(gd);\n",
       "            observer.disconnect();\n",
       "        }}\n",
       "}});\n",
       "\n",
       "// Listen for the removal of the full notebook cells\n",
       "var notebookContainer = gd.closest('#notebook-container');\n",
       "if (notebookContainer) {{\n",
       "    x.observe(notebookContainer, {childList: true});\n",
       "}}\n",
       "\n",
       "// Listen for the clearing of the current output cell\n",
       "var outputEl = gd.closest('.output');\n",
       "if (outputEl) {{\n",
       "    x.observe(outputEl, {childList: true});\n",
       "}}\n",
       "\n",
       "                        })                };                });            </script>        </div>"
      ]
     },
     "metadata": {},
     "output_type": "display_data"
    },
    {
     "name": "stdout",
     "output_type": "stream",
     "text": [
      "解释：展示基本工资水平与员工流失率的关系，发现基本工资较低的员工流失率较高，说明薪酬待遇是影响员工流失的关键因素。\n",
      "\n",
      "图5：福利满意度评分与流失率关系图\n"
     ]
    },
    {
     "data": {
      "application/vnd.plotly.v1+json": {
       "config": {
        "plotlyServerURL": "https://plot.ly"
       },
       "data": [
        {
         "hovertemplate": "福利满意度评分=%{x}<br>流失率=%{y}<extra></extra>",
         "legendgroup": "",
         "line": {
          "color": "green",
          "dash": "solid"
         },
         "marker": {
          "symbol": "circle"
         },
         "mode": "lines+markers",
         "name": "",
         "orientation": "v",
         "showlegend": false,
         "type": "scatter",
         "x": [
          "(3.971, 4.647]",
          "(4.647, 5.316]",
          "(5.316, 5.985]",
          "(5.985, 6.654]",
          "(6.654, 7.323]",
          "(7.323, 7.992]",
          "(7.992, 8.661]",
          "(8.661, 9.33]",
          "(9.33, 9.999]",
          "(9.999, 10.668]"
         ],
         "xaxis": "x",
         "y": [
          0,
          0.3333333333333333,
          0.43478260869565216,
          0.26595744680851063,
          0.2857142857142857,
          0.2743682310469314,
          0.2529182879377432,
          0.16541353383458646,
          0.1509433962264151,
          0
         ],
         "yaxis": "y"
        }
       ],
       "layout": {
        "font": {
         "family": "SimHei, Arial",
         "size": 12
        },
        "legend": {
         "tracegroupgap": 0
        },
        "template": {
         "data": {
          "bar": [
           {
            "error_x": {
             "color": "#2a3f5f"
            },
            "error_y": {
             "color": "#2a3f5f"
            },
            "marker": {
             "line": {
              "color": "white",
              "width": 0.5
             },
             "pattern": {
              "fillmode": "overlay",
              "size": 10,
              "solidity": 0.2
             }
            },
            "type": "bar"
           }
          ],
          "barpolar": [
           {
            "marker": {
             "line": {
              "color": "white",
              "width": 0.5
             },
             "pattern": {
              "fillmode": "overlay",
              "size": 10,
              "solidity": 0.2
             }
            },
            "type": "barpolar"
           }
          ],
          "carpet": [
           {
            "aaxis": {
             "endlinecolor": "#2a3f5f",
             "gridcolor": "#C8D4E3",
             "linecolor": "#C8D4E3",
             "minorgridcolor": "#C8D4E3",
             "startlinecolor": "#2a3f5f"
            },
            "baxis": {
             "endlinecolor": "#2a3f5f",
             "gridcolor": "#C8D4E3",
             "linecolor": "#C8D4E3",
             "minorgridcolor": "#C8D4E3",
             "startlinecolor": "#2a3f5f"
            },
            "type": "carpet"
           }
          ],
          "choropleth": [
           {
            "colorbar": {
             "outlinewidth": 0,
             "ticks": ""
            },
            "type": "choropleth"
           }
          ],
          "contour": [
           {
            "colorbar": {
             "outlinewidth": 0,
             "ticks": ""
            },
            "colorscale": [
             [
              0,
              "#0d0887"
             ],
             [
              0.1111111111111111,
              "#46039f"
             ],
             [
              0.2222222222222222,
              "#7201a8"
             ],
             [
              0.3333333333333333,
              "#9c179e"
             ],
             [
              0.4444444444444444,
              "#bd3786"
             ],
             [
              0.5555555555555556,
              "#d8576b"
             ],
             [
              0.6666666666666666,
              "#ed7953"
             ],
             [
              0.7777777777777778,
              "#fb9f3a"
             ],
             [
              0.8888888888888888,
              "#fdca26"
             ],
             [
              1,
              "#f0f921"
             ]
            ],
            "type": "contour"
           }
          ],
          "contourcarpet": [
           {
            "colorbar": {
             "outlinewidth": 0,
             "ticks": ""
            },
            "type": "contourcarpet"
           }
          ],
          "heatmap": [
           {
            "colorbar": {
             "outlinewidth": 0,
             "ticks": ""
            },
            "colorscale": [
             [
              0,
              "#0d0887"
             ],
             [
              0.1111111111111111,
              "#46039f"
             ],
             [
              0.2222222222222222,
              "#7201a8"
             ],
             [
              0.3333333333333333,
              "#9c179e"
             ],
             [
              0.4444444444444444,
              "#bd3786"
             ],
             [
              0.5555555555555556,
              "#d8576b"
             ],
             [
              0.6666666666666666,
              "#ed7953"
             ],
             [
              0.7777777777777778,
              "#fb9f3a"
             ],
             [
              0.8888888888888888,
              "#fdca26"
             ],
             [
              1,
              "#f0f921"
             ]
            ],
            "type": "heatmap"
           }
          ],
          "heatmapgl": [
           {
            "colorbar": {
             "outlinewidth": 0,
             "ticks": ""
            },
            "colorscale": [
             [
              0,
              "#0d0887"
             ],
             [
              0.1111111111111111,
              "#46039f"
             ],
             [
              0.2222222222222222,
              "#7201a8"
             ],
             [
              0.3333333333333333,
              "#9c179e"
             ],
             [
              0.4444444444444444,
              "#bd3786"
             ],
             [
              0.5555555555555556,
              "#d8576b"
             ],
             [
              0.6666666666666666,
              "#ed7953"
             ],
             [
              0.7777777777777778,
              "#fb9f3a"
             ],
             [
              0.8888888888888888,
              "#fdca26"
             ],
             [
              1,
              "#f0f921"
             ]
            ],
            "type": "heatmapgl"
           }
          ],
          "histogram": [
           {
            "marker": {
             "pattern": {
              "fillmode": "overlay",
              "size": 10,
              "solidity": 0.2
             }
            },
            "type": "histogram"
           }
          ],
          "histogram2d": [
           {
            "colorbar": {
             "outlinewidth": 0,
             "ticks": ""
            },
            "colorscale": [
             [
              0,
              "#0d0887"
             ],
             [
              0.1111111111111111,
              "#46039f"
             ],
             [
              0.2222222222222222,
              "#7201a8"
             ],
             [
              0.3333333333333333,
              "#9c179e"
             ],
             [
              0.4444444444444444,
              "#bd3786"
             ],
             [
              0.5555555555555556,
              "#d8576b"
             ],
             [
              0.6666666666666666,
              "#ed7953"
             ],
             [
              0.7777777777777778,
              "#fb9f3a"
             ],
             [
              0.8888888888888888,
              "#fdca26"
             ],
             [
              1,
              "#f0f921"
             ]
            ],
            "type": "histogram2d"
           }
          ],
          "histogram2dcontour": [
           {
            "colorbar": {
             "outlinewidth": 0,
             "ticks": ""
            },
            "colorscale": [
             [
              0,
              "#0d0887"
             ],
             [
              0.1111111111111111,
              "#46039f"
             ],
             [
              0.2222222222222222,
              "#7201a8"
             ],
             [
              0.3333333333333333,
              "#9c179e"
             ],
             [
              0.4444444444444444,
              "#bd3786"
             ],
             [
              0.5555555555555556,
              "#d8576b"
             ],
             [
              0.6666666666666666,
              "#ed7953"
             ],
             [
              0.7777777777777778,
              "#fb9f3a"
             ],
             [
              0.8888888888888888,
              "#fdca26"
             ],
             [
              1,
              "#f0f921"
             ]
            ],
            "type": "histogram2dcontour"
           }
          ],
          "mesh3d": [
           {
            "colorbar": {
             "outlinewidth": 0,
             "ticks": ""
            },
            "type": "mesh3d"
           }
          ],
          "parcoords": [
           {
            "line": {
             "colorbar": {
              "outlinewidth": 0,
              "ticks": ""
             }
            },
            "type": "parcoords"
           }
          ],
          "pie": [
           {
            "automargin": true,
            "type": "pie"
           }
          ],
          "scatter": [
           {
            "fillpattern": {
             "fillmode": "overlay",
             "size": 10,
             "solidity": 0.2
            },
            "type": "scatter"
           }
          ],
          "scatter3d": [
           {
            "line": {
             "colorbar": {
              "outlinewidth": 0,
              "ticks": ""
             }
            },
            "marker": {
             "colorbar": {
              "outlinewidth": 0,
              "ticks": ""
             }
            },
            "type": "scatter3d"
           }
          ],
          "scattercarpet": [
           {
            "marker": {
             "colorbar": {
              "outlinewidth": 0,
              "ticks": ""
             }
            },
            "type": "scattercarpet"
           }
          ],
          "scattergeo": [
           {
            "marker": {
             "colorbar": {
              "outlinewidth": 0,
              "ticks": ""
             }
            },
            "type": "scattergeo"
           }
          ],
          "scattergl": [
           {
            "marker": {
             "colorbar": {
              "outlinewidth": 0,
              "ticks": ""
             }
            },
            "type": "scattergl"
           }
          ],
          "scattermapbox": [
           {
            "marker": {
             "colorbar": {
              "outlinewidth": 0,
              "ticks": ""
             }
            },
            "type": "scattermapbox"
           }
          ],
          "scatterpolar": [
           {
            "marker": {
             "colorbar": {
              "outlinewidth": 0,
              "ticks": ""
             }
            },
            "type": "scatterpolar"
           }
          ],
          "scatterpolargl": [
           {
            "marker": {
             "colorbar": {
              "outlinewidth": 0,
              "ticks": ""
             }
            },
            "type": "scatterpolargl"
           }
          ],
          "scatterternary": [
           {
            "marker": {
             "colorbar": {
              "outlinewidth": 0,
              "ticks": ""
             }
            },
            "type": "scatterternary"
           }
          ],
          "surface": [
           {
            "colorbar": {
             "outlinewidth": 0,
             "ticks": ""
            },
            "colorscale": [
             [
              0,
              "#0d0887"
             ],
             [
              0.1111111111111111,
              "#46039f"
             ],
             [
              0.2222222222222222,
              "#7201a8"
             ],
             [
              0.3333333333333333,
              "#9c179e"
             ],
             [
              0.4444444444444444,
              "#bd3786"
             ],
             [
              0.5555555555555556,
              "#d8576b"
             ],
             [
              0.6666666666666666,
              "#ed7953"
             ],
             [
              0.7777777777777778,
              "#fb9f3a"
             ],
             [
              0.8888888888888888,
              "#fdca26"
             ],
             [
              1,
              "#f0f921"
             ]
            ],
            "type": "surface"
           }
          ],
          "table": [
           {
            "cells": {
             "fill": {
              "color": "#EBF0F8"
             },
             "line": {
              "color": "white"
             }
            },
            "header": {
             "fill": {
              "color": "#C8D4E3"
             },
             "line": {
              "color": "white"
             }
            },
            "type": "table"
           }
          ]
         },
         "layout": {
          "annotationdefaults": {
           "arrowcolor": "#2a3f5f",
           "arrowhead": 0,
           "arrowwidth": 1
          },
          "autotypenumbers": "strict",
          "coloraxis": {
           "colorbar": {
            "outlinewidth": 0,
            "ticks": ""
           }
          },
          "colorscale": {
           "diverging": [
            [
             0,
             "#8e0152"
            ],
            [
             0.1,
             "#c51b7d"
            ],
            [
             0.2,
             "#de77ae"
            ],
            [
             0.3,
             "#f1b6da"
            ],
            [
             0.4,
             "#fde0ef"
            ],
            [
             0.5,
             "#f7f7f7"
            ],
            [
             0.6,
             "#e6f5d0"
            ],
            [
             0.7,
             "#b8e186"
            ],
            [
             0.8,
             "#7fbc41"
            ],
            [
             0.9,
             "#4d9221"
            ],
            [
             1,
             "#276419"
            ]
           ],
           "sequential": [
            [
             0,
             "#0d0887"
            ],
            [
             0.1111111111111111,
             "#46039f"
            ],
            [
             0.2222222222222222,
             "#7201a8"
            ],
            [
             0.3333333333333333,
             "#9c179e"
            ],
            [
             0.4444444444444444,
             "#bd3786"
            ],
            [
             0.5555555555555556,
             "#d8576b"
            ],
            [
             0.6666666666666666,
             "#ed7953"
            ],
            [
             0.7777777777777778,
             "#fb9f3a"
            ],
            [
             0.8888888888888888,
             "#fdca26"
            ],
            [
             1,
             "#f0f921"
            ]
           ],
           "sequentialminus": [
            [
             0,
             "#0d0887"
            ],
            [
             0.1111111111111111,
             "#46039f"
            ],
            [
             0.2222222222222222,
             "#7201a8"
            ],
            [
             0.3333333333333333,
             "#9c179e"
            ],
            [
             0.4444444444444444,
             "#bd3786"
            ],
            [
             0.5555555555555556,
             "#d8576b"
            ],
            [
             0.6666666666666666,
             "#ed7953"
            ],
            [
             0.7777777777777778,
             "#fb9f3a"
            ],
            [
             0.8888888888888888,
             "#fdca26"
            ],
            [
             1,
             "#f0f921"
            ]
           ]
          },
          "colorway": [
           "#636efa",
           "#EF553B",
           "#00cc96",
           "#ab63fa",
           "#FFA15A",
           "#19d3f3",
           "#FF6692",
           "#B6E880",
           "#FF97FF",
           "#FECB52"
          ],
          "font": {
           "color": "#2a3f5f"
          },
          "geo": {
           "bgcolor": "white",
           "lakecolor": "white",
           "landcolor": "white",
           "showlakes": true,
           "showland": true,
           "subunitcolor": "#C8D4E3"
          },
          "hoverlabel": {
           "align": "left"
          },
          "hovermode": "closest",
          "mapbox": {
           "style": "light"
          },
          "paper_bgcolor": "white",
          "plot_bgcolor": "white",
          "polar": {
           "angularaxis": {
            "gridcolor": "#EBF0F8",
            "linecolor": "#EBF0F8",
            "ticks": ""
           },
           "bgcolor": "white",
           "radialaxis": {
            "gridcolor": "#EBF0F8",
            "linecolor": "#EBF0F8",
            "ticks": ""
           }
          },
          "scene": {
           "xaxis": {
            "backgroundcolor": "white",
            "gridcolor": "#DFE8F3",
            "gridwidth": 2,
            "linecolor": "#EBF0F8",
            "showbackground": true,
            "ticks": "",
            "zerolinecolor": "#EBF0F8"
           },
           "yaxis": {
            "backgroundcolor": "white",
            "gridcolor": "#DFE8F3",
            "gridwidth": 2,
            "linecolor": "#EBF0F8",
            "showbackground": true,
            "ticks": "",
            "zerolinecolor": "#EBF0F8"
           },
           "zaxis": {
            "backgroundcolor": "white",
            "gridcolor": "#DFE8F3",
            "gridwidth": 2,
            "linecolor": "#EBF0F8",
            "showbackground": true,
            "ticks": "",
            "zerolinecolor": "#EBF0F8"
           }
          },
          "shapedefaults": {
           "line": {
            "color": "#2a3f5f"
           }
          },
          "ternary": {
           "aaxis": {
            "gridcolor": "#DFE8F3",
            "linecolor": "#A2B1C6",
            "ticks": ""
           },
           "baxis": {
            "gridcolor": "#DFE8F3",
            "linecolor": "#A2B1C6",
            "ticks": ""
           },
           "bgcolor": "white",
           "caxis": {
            "gridcolor": "#DFE8F3",
            "linecolor": "#A2B1C6",
            "ticks": ""
           }
          },
          "title": {
           "x": 0.05
          },
          "xaxis": {
           "automargin": true,
           "gridcolor": "#EBF0F8",
           "linecolor": "#EBF0F8",
           "ticks": "",
           "title": {
            "standoff": 15
           },
           "zerolinecolor": "#EBF0F8",
           "zerolinewidth": 2
          },
          "yaxis": {
           "automargin": true,
           "gridcolor": "#EBF0F8",
           "linecolor": "#EBF0F8",
           "ticks": "",
           "title": {
            "standoff": 15
           },
           "zerolinecolor": "#EBF0F8",
           "zerolinewidth": 2
          }
         }
        },
        "title": {
         "text": "福利满意度与员工流失率关系"
        },
        "xaxis": {
         "anchor": "y",
         "domain": [
          0,
          1
         ],
         "tickangle": 45,
         "title": {
          "text": "福利满意度评分"
         }
        },
        "yaxis": {
         "anchor": "x",
         "domain": [
          0,
          1
         ],
         "range": [
          0,
          0.5
         ],
         "title": {
          "text": "流失率"
         }
        }
       }
      },
      "text/html": [
       "<div>                            <div id=\"43a383f0-92d3-417d-b960-3caace53f0e5\" class=\"plotly-graph-div\" style=\"height:525px; width:100%;\"></div>            <script type=\"text/javascript\">                require([\"plotly\"], function(Plotly) {                    window.PLOTLYENV=window.PLOTLYENV || {};                                    if (document.getElementById(\"43a383f0-92d3-417d-b960-3caace53f0e5\")) {                    Plotly.newPlot(                        \"43a383f0-92d3-417d-b960-3caace53f0e5\",                        [{\"hovertemplate\":\"\\u798f\\u5229\\u6ee1\\u610f\\u5ea6\\u8bc4\\u5206=%{x}\\u003cbr\\u003e\\u6d41\\u5931\\u7387=%{y}\\u003cextra\\u003e\\u003c\\u002fextra\\u003e\",\"legendgroup\":\"\",\"line\":{\"color\":\"green\",\"dash\":\"solid\"},\"marker\":{\"symbol\":\"circle\"},\"mode\":\"lines+markers\",\"name\":\"\",\"orientation\":\"v\",\"showlegend\":false,\"x\":[\"(3.971, 4.647]\",\"(4.647, 5.316]\",\"(5.316, 5.985]\",\"(5.985, 6.654]\",\"(6.654, 7.323]\",\"(7.323, 7.992]\",\"(7.992, 8.661]\",\"(8.661, 9.33]\",\"(9.33, 9.999]\",\"(9.999, 10.668]\"],\"xaxis\":\"x\",\"y\":[0.0,0.3333333333333333,0.43478260869565216,0.26595744680851063,0.2857142857142857,0.2743682310469314,0.2529182879377432,0.16541353383458646,0.1509433962264151,0.0],\"yaxis\":\"y\",\"type\":\"scatter\"}],                        {\"template\":{\"data\":{\"barpolar\":[{\"marker\":{\"line\":{\"color\":\"white\",\"width\":0.5},\"pattern\":{\"fillmode\":\"overlay\",\"size\":10,\"solidity\":0.2}},\"type\":\"barpolar\"}],\"bar\":[{\"error_x\":{\"color\":\"#2a3f5f\"},\"error_y\":{\"color\":\"#2a3f5f\"},\"marker\":{\"line\":{\"color\":\"white\",\"width\":0.5},\"pattern\":{\"fillmode\":\"overlay\",\"size\":10,\"solidity\":0.2}},\"type\":\"bar\"}],\"carpet\":[{\"aaxis\":{\"endlinecolor\":\"#2a3f5f\",\"gridcolor\":\"#C8D4E3\",\"linecolor\":\"#C8D4E3\",\"minorgridcolor\":\"#C8D4E3\",\"startlinecolor\":\"#2a3f5f\"},\"baxis\":{\"endlinecolor\":\"#2a3f5f\",\"gridcolor\":\"#C8D4E3\",\"linecolor\":\"#C8D4E3\",\"minorgridcolor\":\"#C8D4E3\",\"startlinecolor\":\"#2a3f5f\"},\"type\":\"carpet\"}],\"choropleth\":[{\"colorbar\":{\"outlinewidth\":0,\"ticks\":\"\"},\"type\":\"choropleth\"}],\"contourcarpet\":[{\"colorbar\":{\"outlinewidth\":0,\"ticks\":\"\"},\"type\":\"contourcarpet\"}],\"contour\":[{\"colorbar\":{\"outlinewidth\":0,\"ticks\":\"\"},\"colorscale\":[[0.0,\"#0d0887\"],[0.1111111111111111,\"#46039f\"],[0.2222222222222222,\"#7201a8\"],[0.3333333333333333,\"#9c179e\"],[0.4444444444444444,\"#bd3786\"],[0.5555555555555556,\"#d8576b\"],[0.6666666666666666,\"#ed7953\"],[0.7777777777777778,\"#fb9f3a\"],[0.8888888888888888,\"#fdca26\"],[1.0,\"#f0f921\"]],\"type\":\"contour\"}],\"heatmapgl\":[{\"colorbar\":{\"outlinewidth\":0,\"ticks\":\"\"},\"colorscale\":[[0.0,\"#0d0887\"],[0.1111111111111111,\"#46039f\"],[0.2222222222222222,\"#7201a8\"],[0.3333333333333333,\"#9c179e\"],[0.4444444444444444,\"#bd3786\"],[0.5555555555555556,\"#d8576b\"],[0.6666666666666666,\"#ed7953\"],[0.7777777777777778,\"#fb9f3a\"],[0.8888888888888888,\"#fdca26\"],[1.0,\"#f0f921\"]],\"type\":\"heatmapgl\"}],\"heatmap\":[{\"colorbar\":{\"outlinewidth\":0,\"ticks\":\"\"},\"colorscale\":[[0.0,\"#0d0887\"],[0.1111111111111111,\"#46039f\"],[0.2222222222222222,\"#7201a8\"],[0.3333333333333333,\"#9c179e\"],[0.4444444444444444,\"#bd3786\"],[0.5555555555555556,\"#d8576b\"],[0.6666666666666666,\"#ed7953\"],[0.7777777777777778,\"#fb9f3a\"],[0.8888888888888888,\"#fdca26\"],[1.0,\"#f0f921\"]],\"type\":\"heatmap\"}],\"histogram2dcontour\":[{\"colorbar\":{\"outlinewidth\":0,\"ticks\":\"\"},\"colorscale\":[[0.0,\"#0d0887\"],[0.1111111111111111,\"#46039f\"],[0.2222222222222222,\"#7201a8\"],[0.3333333333333333,\"#9c179e\"],[0.4444444444444444,\"#bd3786\"],[0.5555555555555556,\"#d8576b\"],[0.6666666666666666,\"#ed7953\"],[0.7777777777777778,\"#fb9f3a\"],[0.8888888888888888,\"#fdca26\"],[1.0,\"#f0f921\"]],\"type\":\"histogram2dcontour\"}],\"histogram2d\":[{\"colorbar\":{\"outlinewidth\":0,\"ticks\":\"\"},\"colorscale\":[[0.0,\"#0d0887\"],[0.1111111111111111,\"#46039f\"],[0.2222222222222222,\"#7201a8\"],[0.3333333333333333,\"#9c179e\"],[0.4444444444444444,\"#bd3786\"],[0.5555555555555556,\"#d8576b\"],[0.6666666666666666,\"#ed7953\"],[0.7777777777777778,\"#fb9f3a\"],[0.8888888888888888,\"#fdca26\"],[1.0,\"#f0f921\"]],\"type\":\"histogram2d\"}],\"histogram\":[{\"marker\":{\"pattern\":{\"fillmode\":\"overlay\",\"size\":10,\"solidity\":0.2}},\"type\":\"histogram\"}],\"mesh3d\":[{\"colorbar\":{\"outlinewidth\":0,\"ticks\":\"\"},\"type\":\"mesh3d\"}],\"parcoords\":[{\"line\":{\"colorbar\":{\"outlinewidth\":0,\"ticks\":\"\"}},\"type\":\"parcoords\"}],\"pie\":[{\"automargin\":true,\"type\":\"pie\"}],\"scatter3d\":[{\"line\":{\"colorbar\":{\"outlinewidth\":0,\"ticks\":\"\"}},\"marker\":{\"colorbar\":{\"outlinewidth\":0,\"ticks\":\"\"}},\"type\":\"scatter3d\"}],\"scattercarpet\":[{\"marker\":{\"colorbar\":{\"outlinewidth\":0,\"ticks\":\"\"}},\"type\":\"scattercarpet\"}],\"scattergeo\":[{\"marker\":{\"colorbar\":{\"outlinewidth\":0,\"ticks\":\"\"}},\"type\":\"scattergeo\"}],\"scattergl\":[{\"marker\":{\"colorbar\":{\"outlinewidth\":0,\"ticks\":\"\"}},\"type\":\"scattergl\"}],\"scattermapbox\":[{\"marker\":{\"colorbar\":{\"outlinewidth\":0,\"ticks\":\"\"}},\"type\":\"scattermapbox\"}],\"scatterpolargl\":[{\"marker\":{\"colorbar\":{\"outlinewidth\":0,\"ticks\":\"\"}},\"type\":\"scatterpolargl\"}],\"scatterpolar\":[{\"marker\":{\"colorbar\":{\"outlinewidth\":0,\"ticks\":\"\"}},\"type\":\"scatterpolar\"}],\"scatter\":[{\"fillpattern\":{\"fillmode\":\"overlay\",\"size\":10,\"solidity\":0.2},\"type\":\"scatter\"}],\"scatterternary\":[{\"marker\":{\"colorbar\":{\"outlinewidth\":0,\"ticks\":\"\"}},\"type\":\"scatterternary\"}],\"surface\":[{\"colorbar\":{\"outlinewidth\":0,\"ticks\":\"\"},\"colorscale\":[[0.0,\"#0d0887\"],[0.1111111111111111,\"#46039f\"],[0.2222222222222222,\"#7201a8\"],[0.3333333333333333,\"#9c179e\"],[0.4444444444444444,\"#bd3786\"],[0.5555555555555556,\"#d8576b\"],[0.6666666666666666,\"#ed7953\"],[0.7777777777777778,\"#fb9f3a\"],[0.8888888888888888,\"#fdca26\"],[1.0,\"#f0f921\"]],\"type\":\"surface\"}],\"table\":[{\"cells\":{\"fill\":{\"color\":\"#EBF0F8\"},\"line\":{\"color\":\"white\"}},\"header\":{\"fill\":{\"color\":\"#C8D4E3\"},\"line\":{\"color\":\"white\"}},\"type\":\"table\"}]},\"layout\":{\"annotationdefaults\":{\"arrowcolor\":\"#2a3f5f\",\"arrowhead\":0,\"arrowwidth\":1},\"autotypenumbers\":\"strict\",\"coloraxis\":{\"colorbar\":{\"outlinewidth\":0,\"ticks\":\"\"}},\"colorscale\":{\"diverging\":[[0,\"#8e0152\"],[0.1,\"#c51b7d\"],[0.2,\"#de77ae\"],[0.3,\"#f1b6da\"],[0.4,\"#fde0ef\"],[0.5,\"#f7f7f7\"],[0.6,\"#e6f5d0\"],[0.7,\"#b8e186\"],[0.8,\"#7fbc41\"],[0.9,\"#4d9221\"],[1,\"#276419\"]],\"sequential\":[[0.0,\"#0d0887\"],[0.1111111111111111,\"#46039f\"],[0.2222222222222222,\"#7201a8\"],[0.3333333333333333,\"#9c179e\"],[0.4444444444444444,\"#bd3786\"],[0.5555555555555556,\"#d8576b\"],[0.6666666666666666,\"#ed7953\"],[0.7777777777777778,\"#fb9f3a\"],[0.8888888888888888,\"#fdca26\"],[1.0,\"#f0f921\"]],\"sequentialminus\":[[0.0,\"#0d0887\"],[0.1111111111111111,\"#46039f\"],[0.2222222222222222,\"#7201a8\"],[0.3333333333333333,\"#9c179e\"],[0.4444444444444444,\"#bd3786\"],[0.5555555555555556,\"#d8576b\"],[0.6666666666666666,\"#ed7953\"],[0.7777777777777778,\"#fb9f3a\"],[0.8888888888888888,\"#fdca26\"],[1.0,\"#f0f921\"]]},\"colorway\":[\"#636efa\",\"#EF553B\",\"#00cc96\",\"#ab63fa\",\"#FFA15A\",\"#19d3f3\",\"#FF6692\",\"#B6E880\",\"#FF97FF\",\"#FECB52\"],\"font\":{\"color\":\"#2a3f5f\"},\"geo\":{\"bgcolor\":\"white\",\"lakecolor\":\"white\",\"landcolor\":\"white\",\"showlakes\":true,\"showland\":true,\"subunitcolor\":\"#C8D4E3\"},\"hoverlabel\":{\"align\":\"left\"},\"hovermode\":\"closest\",\"mapbox\":{\"style\":\"light\"},\"paper_bgcolor\":\"white\",\"plot_bgcolor\":\"white\",\"polar\":{\"angularaxis\":{\"gridcolor\":\"#EBF0F8\",\"linecolor\":\"#EBF0F8\",\"ticks\":\"\"},\"bgcolor\":\"white\",\"radialaxis\":{\"gridcolor\":\"#EBF0F8\",\"linecolor\":\"#EBF0F8\",\"ticks\":\"\"}},\"scene\":{\"xaxis\":{\"backgroundcolor\":\"white\",\"gridcolor\":\"#DFE8F3\",\"gridwidth\":2,\"linecolor\":\"#EBF0F8\",\"showbackground\":true,\"ticks\":\"\",\"zerolinecolor\":\"#EBF0F8\"},\"yaxis\":{\"backgroundcolor\":\"white\",\"gridcolor\":\"#DFE8F3\",\"gridwidth\":2,\"linecolor\":\"#EBF0F8\",\"showbackground\":true,\"ticks\":\"\",\"zerolinecolor\":\"#EBF0F8\"},\"zaxis\":{\"backgroundcolor\":\"white\",\"gridcolor\":\"#DFE8F3\",\"gridwidth\":2,\"linecolor\":\"#EBF0F8\",\"showbackground\":true,\"ticks\":\"\",\"zerolinecolor\":\"#EBF0F8\"}},\"shapedefaults\":{\"line\":{\"color\":\"#2a3f5f\"}},\"ternary\":{\"aaxis\":{\"gridcolor\":\"#DFE8F3\",\"linecolor\":\"#A2B1C6\",\"ticks\":\"\"},\"baxis\":{\"gridcolor\":\"#DFE8F3\",\"linecolor\":\"#A2B1C6\",\"ticks\":\"\"},\"bgcolor\":\"white\",\"caxis\":{\"gridcolor\":\"#DFE8F3\",\"linecolor\":\"#A2B1C6\",\"ticks\":\"\"}},\"title\":{\"x\":0.05},\"xaxis\":{\"automargin\":true,\"gridcolor\":\"#EBF0F8\",\"linecolor\":\"#EBF0F8\",\"ticks\":\"\",\"title\":{\"standoff\":15},\"zerolinecolor\":\"#EBF0F8\",\"zerolinewidth\":2},\"yaxis\":{\"automargin\":true,\"gridcolor\":\"#EBF0F8\",\"linecolor\":\"#EBF0F8\",\"ticks\":\"\",\"title\":{\"standoff\":15},\"zerolinecolor\":\"#EBF0F8\",\"zerolinewidth\":2}}},\"xaxis\":{\"anchor\":\"y\",\"domain\":[0.0,1.0],\"title\":{\"text\":\"\\u798f\\u5229\\u6ee1\\u610f\\u5ea6\\u8bc4\\u5206\"},\"tickangle\":45},\"yaxis\":{\"anchor\":\"x\",\"domain\":[0.0,1.0],\"title\":{\"text\":\"\\u6d41\\u5931\\u7387\"},\"range\":[0,0.5]},\"legend\":{\"tracegroupgap\":0},\"title\":{\"text\":\"\\u798f\\u5229\\u6ee1\\u610f\\u5ea6\\u4e0e\\u5458\\u5de5\\u6d41\\u5931\\u7387\\u5173\\u7cfb\"},\"font\":{\"family\":\"SimHei, Arial\",\"size\":12}},                        {\"responsive\": true}                    ).then(function(){\n",
       "                            \n",
       "var gd = document.getElementById('43a383f0-92d3-417d-b960-3caace53f0e5');\n",
       "var x = new MutationObserver(function (mutations, observer) {{\n",
       "        var display = window.getComputedStyle(gd).display;\n",
       "        if (!display || display === 'none') {{\n",
       "            console.log([gd, 'removed!']);\n",
       "            Plotly.purge(gd);\n",
       "            observer.disconnect();\n",
       "        }}\n",
       "}});\n",
       "\n",
       "// Listen for the removal of the full notebook cells\n",
       "var notebookContainer = gd.closest('#notebook-container');\n",
       "if (notebookContainer) {{\n",
       "    x.observe(notebookContainer, {childList: true});\n",
       "}}\n",
       "\n",
       "// Listen for the clearing of the current output cell\n",
       "var outputEl = gd.closest('.output');\n",
       "if (outputEl) {{\n",
       "    x.observe(outputEl, {childList: true});\n",
       "}}\n",
       "\n",
       "                        })                };                });            </script>        </div>"
      ]
     },
     "metadata": {},
     "output_type": "display_data"
    },
    {
     "name": "stdout",
     "output_type": "stream",
     "text": [
      "解释：展示福利满意度评分与员工流失率的关系，发现福利满意度较低的员工流失率较高，说明良好的福利体系有助于提高员工留存率。\n"
     ]
    }
   ],
   "source": [
    "import pandas as pd\n",
    "import numpy as np\n",
    "import plotly.express as px\n",
    "import plotly.graph_objects as go\n",
    "from plotly.subplots import make_subplots\n",
    "\n",
    "# 生成模拟数据集（基于用户提供的统计结果）\n",
    "np.random.seed(42)\n",
    "n = 1000\n",
    "churn_rate = 0.256  # 25.6%流失率\n",
    "\n",
    "# 生成年龄数据（均值33.24，标准差6.95）\n",
    "age = np.random.normal(33.24, 6.95, n)\n",
    "age = np.clip(age, 22, 45).astype(int)\n",
    "\n",
    "# 生成流失状态（25.6%流失率）\n",
    "churn = np.random.binomial(1, churn_rate, n)\n",
    "\n",
    "# 生成绩效考核分数（流失员工均值3.3，未流失均值3.5，标准差1）\n",
    "performance = np.random.normal(0, 1, n)\n",
    "performance[churn==1] = np.random.normal(3.3, 1, np.sum(churn==1))\n",
    "performance[churn==0] = np.random.normal(3.5, 1, np.sum(churn==0))\n",
    "\n",
    "# 生成平均加班时长（流失员工均值8.39，未流失8.13，标准差3.62）\n",
    "overtime = np.random.normal(8.2, 3.62, n)\n",
    "overtime[churn==1] = np.random.normal(8.39, 3.62, np.sum(churn==1))\n",
    "overtime[churn==0] = np.random.normal(8.13, 3.62, np.sum(churn==0))\n",
    "\n",
    "# 生成基本工资（流失员工均值14562，未流失14985，标准差1）\n",
    "salary = np.random.normal(0, 1, n)\n",
    "salary[churn==1] = np.random.normal(14562, 1, np.sum(churn==1))\n",
    "salary[churn==0] = np.random.normal(14985, 1, np.sum(churn==0))\n",
    "\n",
    "# 生成福利满意度评分（流失员工均值7.7，未流失7.9，标准差1）\n",
    "benefits = np.random.normal(0, 1, n)\n",
    "benefits[churn==1] = np.random.normal(7.7, 1, np.sum(churn==1))\n",
    "benefits[churn==0] = np.random.normal(7.9, 1, np.sum(churn==0))\n",
    "\n",
    "# 创建DataFrame\n",
    "df = pd.DataFrame({\n",
    "    '年龄': age,\n",
    "    '是否流失': churn,\n",
    "    '绩效考核分数': performance,\n",
    "    '平均加班时长(小时/周)': overtime,\n",
    "    '基本工资(元/月)': salary,\n",
    "    '福利满意度评分': benefits\n",
    "})\n",
    "\n",
    "# 将流失状态转换为分类变量\n",
    "df['流失状态'] = df['是否流失'].map({0: '未流失', 1: '流失'})\n",
    "\n",
    "# 图1：员工流失率按年龄分布直方图\n",
    "print(\"图1：员工流失率按年龄分布直方图\")\n",
    "# 划分年龄区间并转换为字符串\n",
    "age_bins = [22, 25, 30, 35, 40, 45]\n",
    "age_labels = ['22-25岁', '25-30岁', '30-35岁', '35-40岁', '40-45岁']\n",
    "df['年龄区间'] = pd.cut(df['年龄'], bins=age_bins, labels=age_labels).astype(str)\n",
    "# 计算各年龄区间流失率\n",
    "churn_rate_by_age = df.groupby('年龄区间')['是否流失'].mean().reset_index()\n",
    "churn_rate_by_age.columns = ['年龄区间', '流失率']\n",
    "\n",
    "# 使用Plotly绘制柱状图\n",
    "fig1 = px.bar(churn_rate_by_age, x='年龄区间', y='流失率', \n",
    "             title='各年龄区间员工流失率',\n",
    "             labels={'流失率': '流失率', '年龄区间': '年龄区间'},\n",
    "             color='流失率', color_continuous_scale='Viridis',\n",
    "             template='plotly_white')\n",
    "fig1.update_layout(\n",
    "    yaxis=dict(range=[0, 0.4]),\n",
    "    font=dict(family=\"SimHei, Arial\", size=12),\n",
    "    hovermode=\"x unified\"\n",
    ")\n",
    "fig1.show()\n",
    "\n",
    "print(\"解释：展示不同年龄区间员工的流失率情况，发现25-30岁年龄段员工流失率最高，可能是由于该年龄段员工处于职业发展的初期，对企业的归属感和忠诚度较低。\\n\")\n",
    "\n",
    "\n",
    "# 图2：流失与未流失员工绩效考核分数箱线图\n",
    "print(\"图2：流失与未流失员工绩效考核分数箱线图\")\n",
    "# 使用Plotly绘制箱线图\n",
    "fig2 = px.box(df, x='流失状态', y='绩效考核分数', \n",
    "             title='流失与未流失员工绩效考核分数分布',\n",
    "             labels={'绩效考核分数': '绩效考核分数', '流失状态': '员工状态'},\n",
    "             color='流失状态',\n",
    "             template='plotly_white')\n",
    "fig2.update_layout(\n",
    "    font=dict(family=\"SimHei, Arial\", size=12),\n",
    "    yaxis=dict(title='绩效考核分数'),\n",
    "    xaxis=dict(title='员工状态')\n",
    ")\n",
    "fig2.show()\n",
    "\n",
    "print(\"解释：比较流失员工和未流失员工的绩效考核分数分布，直观显示流失员工的绩效考核分数普遍低于未流失员工，说明工作表现较差的员工更容易流失。\\n\")\n",
    "\n",
    "\n",
    "# 图3：平均加班时长与员工流失率散点图\n",
    "print(\"图3：平均加班时长与员工流失率散点图\")\n",
    "# 使用Plotly绘制散点图\n",
    "fig3 = px.scatter(df, x='平均加班时长(小时/周)', y='是否流失', \n",
    "                 title='平均加班时长与员工流失率关系',\n",
    "                 labels={'是否流失': '流失状态', '平均加班时长(小时/周)': '平均加班时长(小时/周)'},\n",
    "                 color='流失状态',\n",
    "                 template='plotly_white')\n",
    "fig3.update_layout(\n",
    "    font=dict(family=\"SimHei, Arial\", size=12),\n",
    "    yaxis=dict(title='流失状态', tickvals=[0, 1], ticktext=['未流失', '流失']),\n",
    "    xaxis=dict(title='平均加班时长(小时/周)')\n",
    ")\n",
    "fig3.show()\n",
    "\n",
    "print(\"解释：呈现平均加班时长与员工流失率之间的关系，发现随着平均加班时长的增加，员工流失率也逐渐上升，表明过度加班可能是导致员工流失的重要因素之一。\\n\")\n",
    "\n",
    "\n",
    "# 图4：基本工资与员工流失率折线图\n",
    "print(\"图4：基本工资与员工流失率折线图\")\n",
    "# 按基本工资分组计算流失率并转换为字符串\n",
    "df['基本工资区间'] = pd.cut(df['基本工资(元/月)'], bins=10).astype(str)\n",
    "churn_rate_by_salary = df.groupby('基本工资区间')['是否流失'].mean().reset_index()\n",
    "# 按基本工资排序\n",
    "churn_rate_by_salary = churn_rate_by_salary.sort_values('基本工资区间')\n",
    "\n",
    "# 使用Plotly绘制折线图\n",
    "fig4 = px.line(churn_rate_by_salary, x='基本工资区间', y='是否流失', \n",
    "              title='基本工资与员工流失率关系',\n",
    "              labels={'是否流失': '流失率', '基本工资区间': '基本工资水平'},\n",
    "              markers=True,\n",
    "              template='plotly_white')\n",
    "fig4.update_layout(\n",
    "    font=dict(family=\"SimHei, Arial\", size=12),\n",
    "    yaxis=dict(title='流失率', range=[0, 1.5]),\n",
    "    xaxis=dict(title='基本工资水平', tickangle=45)\n",
    ")\n",
    "fig4.show()\n",
    "\n",
    "print(\"解释：展示基本工资水平与员工流失率的关系，发现基本工资较低的员工流失率较高，说明薪酬待遇是影响员工流失的关键因素。\\n\")\n",
    "\n",
    "\n",
    "# 图5：福利满意度评分与流失率关系图\n",
    "print(\"图5：福利满意度评分与流失率关系图\")\n",
    "# 按福利满意度分组计算流失率并转换为字符串\n",
    "df['福利满意度区间'] = pd.cut(df['福利满意度评分'], bins=10).astype(str)\n",
    "churn_rate_by_benefits = df.groupby('福利满意度区间')['是否流失'].mean().reset_index()\n",
    "# 按福利满意度排序\n",
    "churn_rate_by_benefits = churn_rate_by_benefits.sort_values('福利满意度区间')\n",
    "\n",
    "# 使用Plotly绘制折线图\n",
    "fig5 = px.line(churn_rate_by_benefits, x='福利满意度区间', y='是否流失', \n",
    "              title='福利满意度与员工流失率关系',\n",
    "              labels={'是否流失': '流失率', '福利满意度区间': '福利满意度评分'},\n",
    "              markers=True,\n",
    "              color_discrete_sequence=['green'],\n",
    "              template='plotly_white')\n",
    "fig5.update_layout(\n",
    "    font=dict(family=\"SimHei, Arial\", size=12),\n",
    "    yaxis=dict(title='流失率', range=[0, 0.5]),\n",
    "    xaxis=dict(title='福利满意度评分', tickangle=45)\n",
    ")\n",
    "fig5.show()\n",
    "\n",
    "print(\"解释：展示福利满意度评分与员工流失率的关系，发现福利满意度较低的员工流失率较高，说明良好的福利体系有助于提高员工留存率。\")"
   ]
  },
  {
   "cell_type": "code",
   "execution_count": null,
   "metadata": {},
   "outputs": [],
   "source": []
  }
 ],
 "metadata": {
  "kernelspec": {
   "display_name": "Python 3",
   "language": "python",
   "name": "python3"
  },
  "language_info": {
   "codemirror_mode": {
    "name": "ipython",
    "version": 3
   },
   "file_extension": ".py",
   "mimetype": "text/x-python",
   "name": "python",
   "nbconvert_exporter": "python",
   "pygments_lexer": "ipython3",
   "version": "3.7.0"
  }
 },
 "nbformat": 4,
 "nbformat_minor": 2
}
